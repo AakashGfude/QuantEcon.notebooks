{
 "cells": [
  {
   "cell_type": "markdown",
   "metadata": {},
   "source": [
    "# Example: Asset Replacement with Maintenance"
   ]
  },
  {
   "cell_type": "markdown",
   "metadata": {},
   "source": [
    "Miranda and Fackler, Applied Computational Economics and Finance, 2002, Section 7.6.3"
   ]
  },
  {
   "cell_type": "code",
   "execution_count": 1,
   "metadata": {
    "collapsed": false
   },
   "outputs": [],
   "source": [
    "%matplotlib inline"
   ]
  },
  {
   "cell_type": "code",
   "execution_count": 2,
   "metadata": {
    "collapsed": false
   },
   "outputs": [],
   "source": [
    "from __future__ import division, print_function\n",
    "import numpy as np\n",
    "import matplotlib.pyplot as plt\n",
    "import quantecon as qe\n",
    "from quantecon.markov import DiscreteDP"
   ]
  },
  {
   "cell_type": "code",
   "execution_count": 3,
   "metadata": {
    "collapsed": false
   },
   "outputs": [],
   "source": [
    "maxage = 5\n",
    "repcost = 75\n",
    "mancost = 10\n",
    "beta = 0.9\n",
    "m = 3  # Number of actions; 0: keep, 1: service, 2: replace"
   ]
  },
  {
   "cell_type": "code",
   "execution_count": 4,
   "metadata": {
    "collapsed": false
   },
   "outputs": [],
   "source": [
    "# Construct the state space which is two-dimensional\n",
    "S = qe.cartesian([np.arange(1, maxage+1), np.arange(maxage)]).astype(int)\n",
    "n = len(S)"
   ]
  },
  {
   "cell_type": "code",
   "execution_count": 5,
   "metadata": {
    "collapsed": false
   },
   "outputs": [
    {
     "data": {
      "text/plain": [
       "array([[1, 0],\n",
       "       [1, 1],\n",
       "       [1, 2],\n",
       "       [1, 3],\n",
       "       [1, 4],\n",
       "       [2, 0],\n",
       "       [2, 1],\n",
       "       [2, 2],\n",
       "       [2, 3],\n",
       "       [2, 4],\n",
       "       [3, 0],\n",
       "       [3, 1],\n",
       "       [3, 2],\n",
       "       [3, 3],\n",
       "       [3, 4],\n",
       "       [4, 0],\n",
       "       [4, 1],\n",
       "       [4, 2],\n",
       "       [4, 3],\n",
       "       [4, 4],\n",
       "       [5, 0],\n",
       "       [5, 1],\n",
       "       [5, 2],\n",
       "       [5, 3],\n",
       "       [5, 4]])"
      ]
     },
     "execution_count": 5,
     "metadata": {},
     "output_type": "execute_result"
    }
   ],
   "source": [
    "S"
   ]
  },
  {
   "cell_type": "markdown",
   "metadata": {},
   "source": [
    "Here, in the state space we include states that are not reached\n",
    "due to the constraint that the asset can be serviced at most one per year,\n",
    "i.e., those pairs of the age of asset $a$ and the number of services $s$\n",
    "such that $s \\geq a$.\n",
    "\n",
    "One can alternatively define the state space excluding those states;\n",
    "see below."
   ]
  },
  {
   "cell_type": "code",
   "execution_count": 6,
   "metadata": {
    "collapsed": false
   },
   "outputs": [],
   "source": [
    "# We need a routine to get the index of a age-serv pair\n",
    "def getindex(age, serv, S):\n",
    "    \"\"\"\n",
    "    Get the index of [age, serv] in S.\n",
    "    We know that elements in S are aligned in a lexicographic order.\n",
    "    \"\"\"\n",
    "    for i in range(n):\n",
    "        if S[i, 0] == age:\n",
    "            for k in range(maxage):\n",
    "                if S[i+k, 1] == serv:\n",
    "                    return i+k"
   ]
  },
  {
   "cell_type": "code",
   "execution_count": 7,
   "metadata": {
    "collapsed": false
   },
   "outputs": [],
   "source": [
    "# Profit function as a function of the age and the number of service\n",
    "def p(age, serv):\n",
    "    return (1 - (age - serv)/5) * (50 - 2.5 * age - 2.5 * age**2)"
   ]
  },
  {
   "cell_type": "code",
   "execution_count": 8,
   "metadata": {
    "collapsed": false
   },
   "outputs": [],
   "source": [
    "# Reward array\n",
    "R = np.empty((n, m))\n",
    "R[:, 0] = p(S[:, 0], S[:, 1])\n",
    "R[:, 1] = p(S[:, 0], S[:, 1]+1) - mancost\n",
    "R[:, 2] = p(0, 0) - repcost\n",
    "\n",
    "# Infeasible actions\n",
    "for serv in range(maxage):\n",
    "    for action in [0, 1]:\n",
    "        R[getindex(maxage, serv, S), action] = -np.inf"
   ]
  },
  {
   "cell_type": "code",
   "execution_count": 9,
   "metadata": {
    "collapsed": false
   },
   "outputs": [
    {
     "data": {
      "text/plain": [
       "array([[ 36.,  35., -25.],\n",
       "       [ 45.,  44., -25.],\n",
       "       [ 54.,  53., -25.],\n",
       "       [ 63.,  62., -25.],\n",
       "       [ 72.,  71., -25.],\n",
       "       [ 21.,  18., -25.],\n",
       "       [ 28.,  25., -25.],\n",
       "       [ 35.,  32., -25.],\n",
       "       [ 42.,  39., -25.],\n",
       "       [ 49.,  46., -25.],\n",
       "       [  8.,   2., -25.],\n",
       "       [ 12.,   6., -25.],\n",
       "       [ 16.,  10., -25.],\n",
       "       [ 20.,  14., -25.],\n",
       "       [ 24.,  18., -25.],\n",
       "       [  0., -10., -25.],\n",
       "       [  0., -10., -25.],\n",
       "       [  0., -10., -25.],\n",
       "       [  0., -10., -25.],\n",
       "       [  0., -10., -25.],\n",
       "       [-inf, -inf, -25.],\n",
       "       [-inf, -inf, -25.],\n",
       "       [-inf, -inf, -25.],\n",
       "       [-inf, -inf, -25.],\n",
       "       [-inf, -inf, -25.]])"
      ]
     },
     "execution_count": 9,
     "metadata": {},
     "output_type": "execute_result"
    }
   ],
   "source": [
    "R"
   ]
  },
  {
   "cell_type": "code",
   "execution_count": 10,
   "metadata": {
    "collapsed": false
   },
   "outputs": [],
   "source": [
    "# (Degenerate) transition probability array\n",
    "Q = np.zeros((n, m, n))\n",
    "for i in range(n):\n",
    "    Q[i, 0, getindex(min(S[i, 0]+1, maxage), S[i, 1], S)] = 1\n",
    "    Q[i, 1, getindex(min(S[i, 0]+1, maxage), min(S[i, 1]+1, maxage-1), S)] = 1\n",
    "    Q[i, 2, getindex(1, 0, S)] = 1"
   ]
  },
  {
   "cell_type": "code",
   "execution_count": 11,
   "metadata": {
    "collapsed": false
   },
   "outputs": [],
   "source": [
    "# Create a DiscreteDP\n",
    "ddp = DiscreteDP(R, Q, beta)"
   ]
  },
  {
   "cell_type": "code",
   "execution_count": 12,
   "metadata": {
    "collapsed": false
   },
   "outputs": [],
   "source": [
    "# Solve the dynamic optimization problem (by policy iteration)\n",
    "res = ddp.solve()"
   ]
  },
  {
   "cell_type": "code",
   "execution_count": 13,
   "metadata": {
    "collapsed": false
   },
   "outputs": [
    {
     "data": {
      "text/plain": [
       "3"
      ]
     },
     "execution_count": 13,
     "metadata": {},
     "output_type": "execute_result"
    }
   ],
   "source": [
    "# Number of iterations\n",
    "res.num_iter"
   ]
  },
  {
   "cell_type": "code",
   "execution_count": 14,
   "metadata": {
    "collapsed": false
   },
   "outputs": [
    {
     "data": {
      "text/plain": [
       "array([1, 1, 1, 1, 0, 0, 1, 1, 1, 0, 2, 0, 0, 0, 0, 2, 2, 2, 2, 2, 2, 2, 2,\n",
       "       2, 2])"
      ]
     },
     "execution_count": 14,
     "metadata": {},
     "output_type": "execute_result"
    }
   ],
   "source": [
    "# Optimal policy\n",
    "res.sigma"
   ]
  },
  {
   "cell_type": "code",
   "execution_count": 15,
   "metadata": {
    "collapsed": false
   },
   "outputs": [
    {
     "name": "stdout",
     "output_type": "stream",
     "text": [
      "[1 0] 1\n",
      "[2 0] 0\n",
      "[2 1] 1\n",
      "[3 0] 2\n",
      "[3 1] 0\n",
      "[3 2] 0\n",
      "[4 0] 2\n",
      "[4 1] 2\n",
      "[4 2] 2\n",
      "[4 3] 2\n",
      "[5 0] 2\n",
      "[5 1] 2\n",
      "[5 2] 2\n",
      "[5 3] 2\n",
      "[5 4] 2\n"
     ]
    }
   ],
   "source": [
    "# Optimal actions for reachable states\n",
    "for i in range(n):\n",
    "    if S[i, 0] > S[i, 1]:\n",
    "        print(S[i], res.sigma[i])"
   ]
  },
  {
   "cell_type": "code",
   "execution_count": 16,
   "metadata": {
    "collapsed": false
   },
   "outputs": [],
   "source": [
    "# Simulate the controlled Markov chain\n",
    "initial_state = getindex(1, 0, S)\n",
    "ts_length = 13\n",
    "path = res.mc.simulate(ts_length=ts_length, init=initial_state)"
   ]
  },
  {
   "cell_type": "code",
   "execution_count": 17,
   "metadata": {
    "collapsed": false
   },
   "outputs": [
    {
     "data": {
      "image/png": "[encoded data removed]",
      "text/plain": [
       "<matplotlib.figure.Figure at 0x1147a52b0>"
      ]
     },
     "metadata": {},
     "output_type": "display_data"
    }
   ],
   "source": [
    "# Plot sample paths of the age of asset (0th coordinate of S)\n",
    "# and the number of services (1st coordinate of S)\n",
    "fig, ax = plt.subplots(1, 2, figsize=(12, 4))\n",
    "captions = ['Age of Asset', 'Number of Services']\n",
    "for i, caption in zip(range(2), captions):\n",
    "    ax[i].plot(S[path, i])\n",
    "    ax[i].set_xlabel('Year')\n",
    "    ax[i].set_ylabel(caption)\n",
    "    ax[i].set_title('Optimal State Path: ' + caption)\n",
    "ax[0].set_yticks(np.linspace(1, 4, 4, endpoint=True))\n",
    "ax[1].set_yticks(np.linspace(1, 2, 2, endpoint=True))\n",
    "ax[1].set_ylim(0, 2.25)\n",
    "plt.show()"
   ]
  },
  {
   "cell_type": "markdown",
   "metadata": {},
   "source": [
    "## Alternative Formulation"
   ]
  },
  {
   "cell_type": "markdown",
   "metadata": {},
   "source": [
    "Define the state space excluding the `age`-`serv` pairs that do not realize:"
   ]
  },
  {
   "cell_type": "code",
   "execution_count": 18,
   "metadata": {
    "collapsed": false
   },
   "outputs": [],
   "source": [
    "from itertools import product\n",
    "\n",
    "n = maxage * (maxage+1) // 2  # Number of states\n",
    "S = np.empty((n, 2), dtype=int)\n",
    "\n",
    "i = 0\n",
    "for age, serv in product(range(1, maxage+1), range(maxage)):\n",
    "    if age > serv:\n",
    "        S[i] = age, serv\n",
    "        i += 1"
   ]
  },
  {
   "cell_type": "code",
   "execution_count": 19,
   "metadata": {
    "collapsed": false
   },
   "outputs": [
    {
     "data": {
      "text/plain": [
       "array([[1, 0],\n",
       "       [2, 0],\n",
       "       [2, 1],\n",
       "       [3, 0],\n",
       "       [3, 1],\n",
       "       [3, 2],\n",
       "       [4, 0],\n",
       "       [4, 1],\n",
       "       [4, 2],\n",
       "       [4, 3],\n",
       "       [5, 0],\n",
       "       [5, 1],\n",
       "       [5, 2],\n",
       "       [5, 3],\n",
       "       [5, 4]])"
      ]
     },
     "execution_count": 19,
     "metadata": {},
     "output_type": "execute_result"
    }
   ],
   "source": [
    "S"
   ]
  },
  {
   "cell_type": "markdown",
   "metadata": {},
   "source": [
    "We follow the state-action pairs formulation approach."
   ]
  },
  {
   "cell_type": "code",
   "execution_count": 20,
   "metadata": {
    "collapsed": false
   },
   "outputs": [],
   "source": [
    "# Reward array\n",
    "R = np.empty((n, m))\n",
    "for i, (age, serv) in enumerate(S):\n",
    "    R[i, 0] = p(age, serv) if age < maxage else -np.infty\n",
    "    R[i, 1] = p(age, serv+1) - mancost if age < maxage else -np.infty\n",
    "    R[i, 2] = p(0, 0) - repcost"
   ]
  },
  {
   "cell_type": "code",
   "execution_count": 21,
   "metadata": {
    "collapsed": false,
    "scrolled": true
   },
   "outputs": [
    {
     "data": {
      "text/plain": [
       "array([[ 36.,  35., -25.],\n",
       "       [ 21.,  18., -25.],\n",
       "       [ 28.,  25., -25.],\n",
       "       [  8.,   2., -25.],\n",
       "       [ 12.,   6., -25.],\n",
       "       [ 16.,  10., -25.],\n",
       "       [  0., -10., -25.],\n",
       "       [  0., -10., -25.],\n",
       "       [  0., -10., -25.],\n",
       "       [  0., -10., -25.],\n",
       "       [-inf, -inf, -25.],\n",
       "       [-inf, -inf, -25.],\n",
       "       [-inf, -inf, -25.],\n",
       "       [-inf, -inf, -25.],\n",
       "       [-inf, -inf, -25.]])"
      ]
     },
     "execution_count": 21,
     "metadata": {},
     "output_type": "execute_result"
    }
   ],
   "source": [
    "R"
   ]
  },
  {
   "cell_type": "code",
   "execution_count": 22,
   "metadata": {
    "collapsed": false
   },
   "outputs": [],
   "source": [
    "s_indices, a_indices = np.where(R > -np.infty)\n",
    "R = R[s_indices, a_indices]"
   ]
  },
  {
   "cell_type": "code",
   "execution_count": 23,
   "metadata": {
    "collapsed": false
   },
   "outputs": [
    {
     "data": {
      "text/plain": [
       "array([ 36.,  35., -25.,  21.,  18., -25.,  28.,  25., -25.,   8.,   2.,\n",
       "       -25.,  12.,   6., -25.,  16.,  10., -25.,   0., -10., -25.,   0.,\n",
       "       -10., -25.,   0., -10., -25.,   0., -10., -25., -25., -25., -25.,\n",
       "       -25., -25.])"
      ]
     },
     "execution_count": 23,
     "metadata": {},
     "output_type": "execute_result"
    }
   ],
   "source": [
    "R"
   ]
  },
  {
   "cell_type": "code",
   "execution_count": 24,
   "metadata": {
    "collapsed": true
   },
   "outputs": [],
   "source": [
    "# Number of feasible state-action pairs\n",
    "L = len(R)"
   ]
  },
  {
   "cell_type": "code",
   "execution_count": 25,
   "metadata": {
    "collapsed": true
   },
   "outputs": [],
   "source": [
    "# (Degenerate) transition probability array\n",
    "Q = np.zeros((L, n))\n",
    "for i, (s, a) in enumerate(zip(s_indices, a_indices)):\n",
    "    if a == 0:\n",
    "        Q[i, getindex(min(S[s, 0]+1, maxage), S[s, 1], S)] = 1\n",
    "    elif a == 1:\n",
    "        Q[i, getindex(min(S[s, 0]+1, maxage), min(S[s, 1]+1, maxage-1), S)] = 1\n",
    "    else:\n",
    "        Q[i, getindex(1, 0, S)] = 1"
   ]
  },
  {
   "cell_type": "code",
   "execution_count": 26,
   "metadata": {
    "collapsed": false
   },
   "outputs": [],
   "source": [
    "# Create a DiscreteDP\n",
    "ddp = DiscreteDP(R, Q, beta, s_indices, a_indices)"
   ]
  },
  {
   "cell_type": "code",
   "execution_count": 27,
   "metadata": {
    "collapsed": false
   },
   "outputs": [],
   "source": [
    "# Solve the dynamic optimization problem (by policy iteration)\n",
    "res = ddp.solve()"
   ]
  },
  {
   "cell_type": "code",
   "execution_count": 28,
   "metadata": {
    "collapsed": false
   },
   "outputs": [
    {
     "data": {
      "text/plain": [
       "3"
      ]
     },
     "execution_count": 28,
     "metadata": {},
     "output_type": "execute_result"
    }
   ],
   "source": [
    "# Number of iterations\n",
    "res.num_iter"
   ]
  },
  {
   "cell_type": "code",
   "execution_count": 29,
   "metadata": {
    "collapsed": false
   },
   "outputs": [
    {
     "data": {
      "text/plain": [
       "array([1, 0, 1, 2, 0, 0, 2, 2, 2, 2, 2, 2, 2, 2, 2])"
      ]
     },
     "execution_count": 29,
     "metadata": {},
     "output_type": "execute_result"
    }
   ],
   "source": [
    "# Optimal policy\n",
    "res.sigma"
   ]
  },
  {
   "cell_type": "code",
   "execution_count": 30,
   "metadata": {
    "collapsed": false
   },
   "outputs": [],
   "source": [
    "# Simulate the controlled Markov chain\n",
    "initial_state = getindex(1, 0, S)\n",
    "ts_length = 13\n",
    "path = res.mc.simulate(ts_length=ts_length, init=initial_state)"
   ]
  },
  {
   "cell_type": "code",
   "execution_count": 31,
   "metadata": {
    "collapsed": false
   },
   "outputs": [
    {
     "data": {
      "image/png": "[encoded data removed]",
      "text/plain": [
       "<matplotlib.figure.Figure at 0x114a96ef0>"
      ]
     },
     "metadata": {},
     "output_type": "display_data"
    }
   ],
   "source": [
    "# Plot sample paths of the age of asset (0th coordinate of S)\n",
    "# and the number of services (1st coordinate of S)\n",
    "fig, ax = plt.subplots(1, 2, figsize=(12, 4))\n",
    "captions = ['Age of Asset', 'Number of Services']\n",
    "for i, caption in zip(range(2), captions):\n",
    "    ax[i].plot(S[path, i])\n",
    "    ax[i].set_xlabel('Year')\n",
    "    ax[i].set_ylabel(caption)\n",
    "    ax[i].set_title('Optimal State Path: ' + caption)\n",
    "ax[0].set_yticks(np.linspace(1, 4, 4, endpoint=True))\n",
    "ax[1].set_yticks(np.linspace(1, 2, 2, endpoint=True))\n",
    "ax[1].set_ylim(0, 2.25)\n",
    "plt.show()"
   ]
  },
  {
   "cell_type": "code",
   "execution_count": null,
   "metadata": {
    "collapsed": false
   },
   "outputs": [],
   "source": []
  }
 ],
 "metadata": {
  "kernelspec": {
   "display_name": "Python 3",
   "language": "python",
   "name": "python3"
  },
  "language_info": {
   "codemirror_mode": {
    "name": "ipython",
    "version": 3
   },
   "file_extension": ".py",
   "mimetype": "text/x-python",
   "name": "python",
   "nbconvert_exporter": "python",
   "pygments_lexer": "ipython3",
   "version": "3.5.0"
  }
 },
 "nbformat": 4,
 "nbformat_minor": 0
}
