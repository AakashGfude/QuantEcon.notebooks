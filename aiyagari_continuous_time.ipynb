








<!DOCTYPE html>
<html lang="en">

<head>
  <meta charset="utf-8">
  <title>Jupyter Notebook Viewer</title>
  <meta name="viewport" content="width=device-width, initial-scale=1.0">
  <meta name="description" content="">
  <meta name="author" content="">
  
  <meta name="robots" content="noindex,nofollow">
  

  <!--NEW RELIC Start Perf Measurement-->
  
  <!--NREND-->

  <!-- Le styles -->
  <script type="text/javascript">
//<![CDATA[
try{if (!window.CloudFlare) {var CloudFlare=[{verbose:0,p:0,byc:0,owlid:"cf",bag2:1,mirage2:0,oracle:0,paths:{cloudflare:"/cdn-cgi/nexp/dok3v=1613a3a185/"},atok:"64da8eaf0050070366aa20ef3893338b",petok:"cf80c7e2d1b680c9eb63e255f9ca8f98c7274627-1456175895-1800",zone:"jupyter.org",rocket:"0",apps:{"ga_key":{"ua":"UA-52617120-5","ga_bs":"2"}},sha2test:0}];!function(a,b){a=document.createElement("script"),b=document.getElementsByTagName("script")[0],a.async=!0,a.src="//ajax.cloudflare.com/cdn-cgi/nexp/dok3v=fb690a32f5/cloudflare.min.js",b.parentNode.insertBefore(a,b)}()}}catch(e){};
//]]>
</script>
<link href="/static/build/styles.css" rel="stylesheet">

  <!-- Le HTML5 shim, for IE6-8 support of HTML5 elements -->
  <!--[if lt IE 9]>
    <script src="http://html5shim.googlecode.com/svn/trunk/html5.js"></script>
  <![endif]-->

  <!-- Le fav and touch icons -->
  <link rel="shortcut icon" href="/static/ico/ipynb_icon_16x16.png">
  <link rel="apple-touch-icon-precomposed" sizes="144x144"
        href="/static/ico/apple-touch-icon-144-precomposed.png">
  <link rel="apple-touch-icon-precomposed" sizes="114x114"
        href="/static/ico/apple-touch-icon-114-precomposed.png">
  <link rel="apple-touch-icon-precomposed" sizes="72x72"
        href="/static/ico/apple-touch-icon-72-precomposed.png">
  <link rel="apple-touch-icon-precomposed"
        href="/static/ico/apple-touch-icon-57-precomposed.png">
  
  

  

  
  <meta name="twitter:card" content="summary">
  <meta name="twitter:title" content="Notebook on nbviewer">
  <meta name="twitter:description" content="Check out this Jupyter notebook!">

  
  <meta name="twitter:domain" content="nbviewer.ipython.org">
  <meta name="twitter:image:src" content="http://ipython.org/ipython-doc/dev/_images/ipynb_icon_128x128.png">

  
    <link href="/static/build/notebook.css" rel="stylesheet">
  

  

  
    <script src="https://cdn.mathjax.org/mathjax/latest/MathJax.js?config=TeX-AMS_HTML" type="text/javascript">
    </script>
    <script type="text/javascript">
      init_mathjax = function() {
        if (window.MathJax) {
          // MathJax loaded
          MathJax.Hub.Config({
            TeX: {
              equationNumbers: {
                autoNumber: "AMS",
                useLabelIds: true
              }
            },
            tex2jax: {
              inlineMath: [ ['$','$'], ["\\(","\\)"] ],
              displayMath: [ ['$$','$$'], ["\\[","\\]"] ],
              processEscapes: true,
              processEnvironments: true
            },
            displayAlign: 'center',
            "HTML-CSS": {
              styles: {'.MathJax_Display': {"margin": 0}},
              linebreaks: { automatic: true }
            }
          });
          MathJax.Hub.Queue(["Typeset", MathJax.Hub]);
        }
      }
      init_mathjax();
    </script>
  

<script type="text/javascript">
/* <![CDATA[ */
var _gaq = _gaq || [];
_gaq.push(['_setAccount', 'UA-52617120-5']);
_gaq.push(['_trackPageview']);

(function() {
var ga = document.createElement('script'); ga.type = 'text/javascript'; ga.async = true;
ga.src = ('https:' == document.location.protocol ? 'https://ssl' : 'http://www') + '.google-analytics.com/ga.js';
var s = document.getElementsByTagName('script')[0]; s.parentNode.insertBefore(ga, s);
})();

(function(b){(function(a){"__CF"in b&&"DJS"in b.__CF?b.__CF.DJS.push(a):"addEventListener"in b?b.addEventListener("load",a,!1):b.attachEvent("onload",a)})(function(){"FB"in b&&"Event"in FB&&"subscribe"in FB.Event&&(FB.Event.subscribe("edge.create",function(a){_gaq.push(["_trackSocial","facebook","like",a])}),FB.Event.subscribe("edge.remove",function(a){_gaq.push(["_trackSocial","facebook","unlike",a])}),FB.Event.subscribe("message.send",function(a){_gaq.push(["_trackSocial","facebook","send",a])}));"twttr"in b&&"events"in twttr&&"bind"in twttr.events&&twttr.events.bind("tweet",function(a){if(a){var b;if(a.target&&a.target.nodeName=="IFRAME")a:{if(a=a.target.src){a=a.split("#")[0].match(/[^?=&]+=([^&]*)?/g);b=0;for(var c;c=a[b];++b)if(c.indexOf("url")===0){b=unescape(c.split("=")[1]);break a}}b=void 0}_gaq.push(["_trackSocial","twitter","tweet",b])}})})})(window);
/* ]]> */
</script>
</head>

<body>

  <!-- These are loaded at the top of the body so they are available to
       notebook cells when they are loaded below. -->
  <script src="/static/components/jquery/dist/jquery.min.js"></script>
  <script src="/static/components/requirejs/require.js"></script>
  <script src="/static/components/moment/min/moment.min.js"></script>

<!-- Navbar
================================================== -->
  <nav id="menubar" class="navbar navbar-default navbar-fixed-top" data-spy="affix">
    <div class="container">
      <div class="navbar-header">
        <button type="button" class="navbar-toggle collapsed" data-toggle="collapse" data-target=".navbar-collapse">
          <span class="sr-only">Toggle navigation</span>
          <i class="fa fa-bars"></i>
        </button>
        <a class="navbar-brand" href="/">
          <img src="/static/img/nav_logo.svg" width="159"/>
        </a>
      </div>

      <div class="collapse navbar-collapse">
        <ul class="nav navbar-nav navbar-right">
          <li>
            <a class="active" href="http://jupyter.org">JUPYTER</a>
          </li>
          <li>
    <a href="/faq" title="FAQ" >
      
        <span>FAQ</span>
      
    </a>
  </li>

          
  
    
  

  
    <li>
    <a href="#" title="Python 3 Kernel" >
      <span class="fa fa-server fa-2x menu-icon"></span>
      <span class="menu-text">Python 3 Kernel</span>
    </a>
  </li>
  

  
    <li>
    <a href="https://github.com/bennimoll/HACT/blob/master/jupyter/aiyagari_continuous_time.ipynb" title="View on GitHub" >
      <span class="fa fa-github fa-2x menu-icon"></span>
      <span class="menu-text">View on GitHub</span>
    </a>
  </li>
  

  <li>
    <a href="https://raw.githubusercontent.com/bennimoll/HACT/master/jupyter/aiyagari_continuous_time.ipynb" title="Download Notebook" download>
      <span class="fa fa-download fa-2x menu-icon"></span>
      <span class="menu-text">Download Notebook</span>
    </a>
  </li>

        </ul>
      </div><!-- /.navbar-collapse -->
      
      
    </div>
  </nav>

  <div class="container container-main">
    
  
  <ol class="breadcrumb">
    
      <li>
        <a href="/github/bennimoll/HACT/tree/master">HACT</a>
      </li>
    
      <li>
        <a href="/github/bennimoll/HACT/tree/master/jupyter">jupyter</a>
      </li>
    
  </ol>
  
  <div id="notebook">
    <div id="notebook-container">
      
<div class="cell border-box-sizing text_cell rendered">
<div class="prompt input_prompt">
</div>
<div class="inner_cell">
<div class="text_cell_render border-box-sizing rendered_html">
<h1 id="Aiyagari-(1994)-in-Continuous-Time">Aiyagari (1994) in Continuous Time<a class="anchor-link" href="#Aiyagari-(1994)-in-Continuous-Time">&#182;</a></h1><h4 id="By-SeHyoun-Ahn-and-Benjamin-Moll">By <a href="http://www.princeton.edu/~sehyouna/">SeHyoun Ahn</a> and <a href="http://www.princeton.edu/~moll/">Benjamin Moll</a><a class="anchor-link" href="#By-SeHyoun-Ahn-and-Benjamin-Moll">&#182;</a></h4>
</div>
</div>
</div>
<div class="cell border-box-sizing text_cell rendered">
<div class="prompt input_prompt">
</div>
<div class="inner_cell">
<div class="text_cell_render border-box-sizing rendered_html">
<p>The material in this notebook is based on <a href="http://www.princeton.edu/~moll/HACT.pdf">Achdou et al. (2015) "Heterogeneous Agent Models in Continuous Time"</a> and follows closely the material in the paper's <a href="http://www.princeton.edu/~moll/HACTproject/HACT_Numerical_Appendix.pdf">online Appendix</a>. Additional codes (mainly in MATLAB) can be found <a href="http://www.princeton.edu/~moll/HACTproject.htm">here</a>. The code and its performance should be compared to <a href="http://quant-econ.net/py/aiyagari.html">QuantEcon's discrete-time version of the Aiyagari model</a>. The structure of the code in the present notebook is purposely kept as close as possible to that of the discrete-time code. The continuous-time code is considerably faster.</p>

</div>
</div>
</div>
<div class="cell border-box-sizing text_cell rendered">
<div class="prompt input_prompt">
</div>
<div class="inner_cell">
<div class="text_cell_render border-box-sizing rendered_html">
<p>We begin by importing some packages</p>

</div>
</div>
</div>
<div class="cell border-box-sizing code_cell rendered">
<div class="input">
<div class="prompt input_prompt">In&nbsp;[1]:</div>
<div class="inner_cell">
    <div class="input_area">
<div class=" highlight hl-ipython3"><pre><span></span><span class="o">%</span><span class="k">matplotlib</span> inline
<span class="kn">import</span> <span class="nn">numpy</span> <span class="k">as</span> <span class="nn">np</span>
<span class="kn">import</span> <span class="nn">matplotlib.pyplot</span> <span class="k">as</span> <span class="nn">plt</span>
<span class="kn">from</span> <span class="nn">scipy</span> <span class="k">import</span> <span class="n">sparse</span>
<span class="kn">from</span> <span class="nn">scipy.sparse.linalg</span> <span class="k">import</span> <span class="n">spsolve</span>
</pre></div>

</div>
</div>
</div>

</div>
<div class="cell border-box-sizing text_cell rendered">
<div class="prompt input_prompt">
</div>
<div class="inner_cell">
<div class="text_cell_render border-box-sizing rendered_html">
<h2 id="Aiyagari-Economy">Aiyagari Economy<a class="anchor-link" href="#Aiyagari-Economy">&#182;</a></h2><p>The economy can be represented by the following system of equations which we aim to solve numerically:
$$
\begin{align*}
\rho v_1(a) &=  \max_c \ u(c) + v_1'(a)(wz_1 + ra - c) + \lambda_1(v_2(a) - v_1(a))\\
\rho v_2(a) &=  \max_c \ u(c) + v_2'(a)(wz_2 + ra - c) + \lambda_2(v_1(a) - v_2(a))\\
0 &= - \frac{d}{da}[s_1(a)g_1(a)] - \lambda_1 g_1(a) + \lambda_2 g_2(a)\\
0 &= - \frac{d}{da}[s_2(a)g_2(a)] - \lambda_2 g_2(a) + \lambda_1 g_1(a)\\
1 &= \int_{\underline{a}}^\infty g_1(a)da + \int_{\underline{a}}^\infty g_2(a)da\\
K &= \int_{\underline{a}}^\infty a g_1(a)da + \int_{\underline{a}}^\infty a g_2(a)da\\
r &= \alpha K^{\alpha-1} - \delta, \quad w=(1-\alpha)K^\alpha
\end{align*}
$$</p>
<p>where $z_1$ &lt; $z_2$ and $s_j(a)=wz_j + ra -c_j(a)$ and $c_j(a) = (u')^{-1}(v_j(a))$ are optimal savings and consumption. Finally, there is a state constraint $a\geq \underline{a}$. The first order condition $u'(c_j(\underline{a}))=v'_j(\underline{a})$ still holds at the borrowing constraint. However, in order to respect the constraint we need $s_j(\underline{a}) = z_j + ra - c_j(\underline{a}) \geq 0$. Combining this with the FOC, the state constraint motivates a boundary condition
$$
\begin{align} v_j'(\underline{a}) \geq u'(z_j + r \underline{a}), \quad j=1,2 \end{align}
$$</p>

</div>
</div>
</div>
<div class="cell border-box-sizing text_cell rendered">
<div class="prompt input_prompt">
</div>
<div class="inner_cell">
<div class="text_cell_render border-box-sizing rendered_html">
<p>We use a finite difference method, an in particular an "implicit upwind scheme." The details are explained in the paper's <a href="http://www.princeton.edu/~moll/HACTproject/HACT_Numerical_Appendix.pdf">online Appendix</a>. We here provide a brief summary. We approximate the functions $(v_1,v_2,g_1,g_2)$ at $I$ discrete points in the space dimension, $a_i,i=1,...,I$. We use equispaced grids, denote by $\Delta a$ the distance between grid points, and use the short-hand notation $v_{i,j} \equiv v_j(a_i)$ and so on. The derivative $v_{i,j}'=v_j'(a_i)$ is approximated with either a forward or a backward difference approximation
$$
\begin{align*}
v_j'(a_i) \approx \frac{v_{i+1,j} - v_{i,j}}{\Delta a} \equiv v_{i,j,F}' \\
v_j'(a_i) \approx \frac{v_{i-1,j} - v_{i,j}}{\Delta a} \equiv v_{i,j,B}'
\end{align*}
$$
An upwind scheme means that we approximate the derivative $v_j'(a_i)$ with a forward difference approximation whenever the drift of the state variable is positive and the backward difference approximation whenever it is negative. An implicit scheme is a particular way of iterating on the value function.</p>
<p>In a nutshell, the discretized HJB equation can be written as 
$$\rho v = u + \mathbf{A} v$$
where $\mathbf{A}$ is $N \times N$ transition matrix with $N = 2 \times I$ and where $I$ is the number of wealth grid points. The matrix $\mathbf{A}$ depends on $v$, i.e. this is a nonlinear problem and we therefore need to iterate (this is where the implicit scheme comes in). The matrix $\mathbf{A}$ has the interpretation of a Poisson transition matrix (or "intensity matrix") on the discretized state space $(a_i,z_j)$.</p>
<p>Similarly, one can show that the discretized Kolmogorov Forward equation is
$$0 = \mathbf{A}^T g$$
which is an eigenvalue problem. That is, the discretized stationary distribution $g$ is the eigenvector corresponding to a zero eigenvalue of the transpose of the Poisson transition matrix $\mathbf{A}$. The transpose comes from the fact that the differential operator in the KF equation is the "adjoint" of the operator in the HJB equation. And an "adjoint" is the infinite-dimensional analogue of matrix transpose.</p>
<p>The matrix $\mathbf{A}$ is found from the discretized HJB equation. Skipping a number of steps it can be written as
$$
\begin{align*}
&\frac{v^{n+1}_{i,j} - v^{n}_{i,j}}{\Delta} + \rho v_{i,j}^{n+1} = u(c_{i,j}^n) + v_{i-1,j}^{n+1}x_{i,j}   +  v^{n+1}_{i,j} y_{i,j} + v_{i+1,j}^{n+1} z_{i,j} + v_{i,-j}^{n+1}\lambda_j \quad \mbox{where}\\
&x_{i,j} = -\frac{(s^n_{i,j,B})^-}{\Delta a},\\
&y_{i,j} = - \frac{(s^n_{i,j,F})^+}{\Delta a}  +  \frac{ (s^n_{i,j,B})^-}{\Delta a} - \lambda_j,\\
&z_{i,j} = \frac{(s^n_{i,j,F})^+}{\Delta a}
\end{align*}
$$
where $s^n_{i,j,F}$ and $s^n_{i,j,B}$ are the discretized optimal household savings at grid points $(a_i,z_j)$ using forward and backward approximations, and where for any number $x$, the notation $x^+$ means "the positive part of $x$", i.e. $x^+ = \max\{x,0\}$ and analogously $x^{-} = \min\{x,0\}$. This part is what makes it an upwind scheme.</p>
<p>This is a system of $2 \times I$ linear equations which can be written in matrix notation as:
\begin{equation}\frac{1}{\Delta}(v^{n+1} - v^n) + \rho v^{n+1} = u^n + \mathbf{A}^n v^{n+1} \end{equation}
where
$$\mathbf{A}^n = \left[\begin{matrix}y_{1,1} & z_{1,1} & 0 & \cdots & 0 & \lambda_1 & 0 & 0 & \cdots & 0 \\ x_{2,1} & y_{2,1} & z_{2,1} & 0 & \cdots & 0 & \lambda_1 & 0 & 0 & \cdots \\ 0 & x_{3,1} & y_{3,1} & z_{3,1} & 0 & \cdots & 0 & \lambda_1 & 0 & 0 \\ \vdots & \ddots & \ddots & \ddots & \ddots & \ddots & \ddots & \ddots & \ddots & \vdots \\ 0 & \ddots & \ddots & x_{I,1} & y_{I,1} & 0 & 0 & 0 & 0 & \lambda_1\\  \lambda_2 & 0 & 0 & 0 & 0 & y_{1,2} & z_{1,2} & 0 & 0 & 0 \\ 0 & \lambda_2 & 0 & 0 & 0 & x_{2,2} & y_{2,2} & z_{2,2} & 0 & 0  \\ 0 & 0 & \lambda_2 & 0 & 0 & 0 & x_{3,2}  & y_{3,2} & z_{3,2} & 0 \\ 0 & 0 & \ddots & \ddots & \ddots & \ddots & \ddots  & \ddots & \ddots & \ddots \\ 0 & \cdots & \cdots & 0 & \lambda_2 & 0 & \cdots  & 0 & x_{I,2} & y_{I,2}  \end{matrix}\right], \quad u^n = \left[\begin{matrix} u(c_{1,1}^n)\\ \vdots \\ \vdots \\ u(c_{I,1}^n)\\  u(c_{1,2}^n) \\ \vdots \\ \vdots \\ u(c_{I,2}^n)\end{matrix}\right]$$
This system can in turn be written as
$$
\begin{align*}\mathbf{B}^n v^{n+1} = b^n, \quad \quad \mathbf{B}^n = \left(\frac{1}{\Delta} + \rho\right)\mathbf{I} - \mathbf{A}^n, \quad  b^n = u^n + \frac{1}{\Delta}v^n \end{align*}
$$
This system of linear equations can be solved very efficiently using sparse matrix routines. In Python this is implemented with the function "spsolve()."</p>
<h4 id="Summary-of-Algorithm">Summary of Algorithm<a class="anchor-link" href="#Summary-of-Algorithm">&#182;</a></h4><p>First consider the algorithm for solving the HJB equations. Guess $v^0_{i,j},i=1,...,I,j=1,2$ and for $n=0,1,2,...$ follow</p>
<ol>
<li>Compute $(v^n_{i,j})'$ using the current guess of the value function and the upwind scheme (forward difference when drift is positive, backward difference when drift is negative)</li>
<li>Compute $c^n$ from $c_{i,j}^n = (u')^{-1}[(v_{i,j}^n)']$</li>
<li>Find $v^{n+1}$ by solving the system of linear equations involving the matrix $\mathbf{A}$ described above (implicit scheme)</li>
<li>If $v^{n+1}$ is close enough to $v^n$: stop. Otherwise, go to step 1.</li>
</ol>
<p>After solving the HJB equations, solving the Kolmogorov Forward equation: simply solve the eigenvalue problem $0=\mathbf{A}^T g$ described above. That is, once the HJB equation is solved, we basically get the Kolmogorov Forward equation "for free."</p>
<h4 id="Overview-of-Code">Overview of Code<a class="anchor-link" href="#Overview-of-Code">&#182;</a></h4><p>Given this overview of the algorithm, we now briefly describe the code. As in the discrete-time version, we define a "household" class. Household objects contain all the data relevant to solving a household's decision problem. The household class  contain:</p>
<ul>
<li>economic parameters (e.g., w, r)</li>
<li>utility paramters (e.g., discount factor $\rho$)</li>
<li>asset and skill level represented on a grid</li>
</ul>
<p>The household's decision problem is solved by invoking the function solve_bellman() which solves the HJB equation given the relevant parameters saving the value-function as v.</p>
<p>We also include the stationary wealth distribution of households in the household object. This is a natural thing to do since this stationary distribution is computed using the household's decision rule. Hence, after computing the decision problem of households, the stationary distribution can be found by invoking compute_stationary_distribution()</p>
<p>The definition of the household class is given below.</p>

</div>
</div>
</div>
<div class="cell border-box-sizing code_cell rendered">
<div class="input">
<div class="prompt input_prompt">In&nbsp;[2]:</div>
<div class="inner_cell">
    <div class="input_area">
<div class=" highlight hl-ipython3"><pre><span></span><span class="k">class</span> <span class="nc">Household</span><span class="p">(</span><span class="nb">object</span><span class="p">):</span>
    <span class="k">def</span> <span class="nf">__init__</span><span class="p">(</span><span class="bp">self</span><span class="p">,</span>
                 <span class="n">r</span><span class="o">=</span><span class="mf">0.03</span><span class="p">,</span>         <span class="c1"># interest rate</span>
                 <span class="n">w</span><span class="o">=</span><span class="mi">1</span><span class="p">,</span>            <span class="c1"># wages</span>
                 <span class="n">rho</span><span class="o">=</span><span class="mf">0.04</span><span class="p">,</span>       <span class="c1"># discount factor</span>
                 <span class="n">a_min</span><span class="o">=</span><span class="mi">1</span><span class="n">e</span><span class="o">-</span><span class="mi">10</span><span class="p">,</span>    <span class="c1"># minimum asset amount</span>
                 <span class="n">pi</span><span class="o">=</span><span class="p">[[</span><span class="o">-</span><span class="mf">0.1</span><span class="p">,</span> <span class="mf">0.1</span><span class="p">],</span> <span class="p">[</span><span class="mf">0.1</span><span class="p">,</span> <span class="o">-</span><span class="mf">0.1</span><span class="p">]],</span>  <span class="c1"># poisson Jumps</span>
                 <span class="n">z_vals</span><span class="o">=</span><span class="p">[</span><span class="mf">0.1</span><span class="p">,</span> <span class="mf">1.0</span><span class="p">],</span>                <span class="c1"># exogenous income states</span>
                 <span class="n">a_max</span><span class="o">=</span><span class="mi">40</span><span class="p">,</span>
                 <span class="n">a_size</span><span class="o">=</span><span class="mi">1000</span><span class="p">,</span>    <span class="c1"># number of asset grid points</span>
                 <span class="n">delta</span><span class="o">=</span><span class="mf">1000.0</span><span class="p">):</span>
        <span class="c1"># Initialize values, and set up grids over a and z</span>
        <span class="bp">self</span><span class="o">.</span><span class="n">r</span><span class="p">,</span> <span class="bp">self</span><span class="o">.</span><span class="n">w</span><span class="p">,</span> <span class="bp">self</span><span class="o">.</span><span class="n">rho</span> <span class="o">=</span> <span class="n">r</span><span class="p">,</span> <span class="n">w</span><span class="p">,</span> <span class="n">rho</span>
        <span class="bp">self</span><span class="o">.</span><span class="n">a_min</span><span class="p">,</span> <span class="bp">self</span><span class="o">.</span><span class="n">a_max</span><span class="p">,</span> <span class="bp">self</span><span class="o">.</span><span class="n">a_size</span> <span class="o">=</span> <span class="n">a_min</span><span class="p">,</span> <span class="n">a_max</span><span class="p">,</span> <span class="n">a_size</span>
        <span class="bp">self</span><span class="o">.</span><span class="n">da</span> <span class="o">=</span> <span class="p">(</span><span class="bp">self</span><span class="o">.</span><span class="n">a_max</span><span class="o">-</span><span class="bp">self</span><span class="o">.</span><span class="n">a_min</span><span class="p">)</span><span class="o">/</span><span class="p">(</span><span class="bp">self</span><span class="o">.</span><span class="n">a_size</span><span class="o">-</span><span class="mi">1</span><span class="p">)</span>
        <span class="bp">self</span><span class="o">.</span><span class="n">k</span> <span class="o">=</span> <span class="mi">10</span>
        <span class="bp">self</span><span class="o">.</span><span class="n">pi</span> <span class="o">=</span> <span class="n">np</span><span class="o">.</span><span class="n">asarray</span><span class="p">(</span><span class="n">pi</span><span class="p">)</span>
        <span class="bp">self</span><span class="o">.</span><span class="n">z_vals</span> <span class="o">=</span> <span class="n">np</span><span class="o">.</span><span class="n">asarray</span><span class="p">(</span><span class="n">z_vals</span><span class="p">)</span>
        <span class="bp">self</span><span class="o">.</span><span class="n">z_size</span> <span class="o">=</span> <span class="nb">len</span><span class="p">(</span><span class="n">z_vals</span><span class="p">)</span>
        <span class="bp">self</span><span class="o">.</span><span class="n">a_vals</span> <span class="o">=</span> <span class="n">np</span><span class="o">.</span><span class="n">linspace</span><span class="p">(</span><span class="bp">self</span><span class="o">.</span><span class="n">a_min</span><span class="p">,</span> <span class="bp">self</span><span class="o">.</span><span class="n">a_max</span><span class="p">,</span> <span class="bp">self</span><span class="o">.</span><span class="n">a_size</span><span class="p">)</span>
        <span class="bp">self</span><span class="o">.</span><span class="n">n</span> <span class="o">=</span> <span class="bp">self</span><span class="o">.</span><span class="n">a_size</span> <span class="o">*</span> <span class="bp">self</span><span class="o">.</span><span class="n">z_size</span>
        <span class="bp">self</span><span class="o">.</span><span class="n">delta</span> <span class="o">=</span> <span class="n">delta</span>

        <span class="c1"># Initial Guess of Value Function</span>
        <span class="bp">self</span><span class="o">.</span><span class="n">v</span> <span class="o">=</span> <span class="n">np</span><span class="o">.</span><span class="n">log</span><span class="p">(</span><span class="n">np</span><span class="o">.</span><span class="n">tile</span><span class="p">(</span><span class="bp">self</span><span class="o">.</span><span class="n">a_vals</span><span class="p">,(</span><span class="bp">self</span><span class="o">.</span><span class="n">z_size</span><span class="p">,</span><span class="mi">1</span><span class="p">))</span><span class="o">*</span><span class="bp">self</span><span class="o">.</span><span class="n">r</span>
                        <span class="o">+</span><span class="bp">self</span><span class="o">.</span><span class="n">w</span><span class="o">*</span><span class="n">np</span><span class="o">.</span><span class="n">tile</span><span class="p">(</span><span class="bp">self</span><span class="o">.</span><span class="n">z_vals</span><span class="p">,(</span><span class="bp">self</span><span class="o">.</span><span class="n">a_size</span><span class="p">,</span><span class="mi">1</span><span class="p">))</span><span class="o">.</span><span class="n">transpose</span><span class="p">())</span><span class="o">/</span><span class="bp">self</span><span class="o">.</span><span class="n">rho</span>
        
        <span class="c1"># Build skill_transition, the matrix summarizing transitions due to the Poisson income shocks</span>
        <span class="c1"># This is analogous to the Q matrix in the discrete time version of the QuantEcon Aiyagari model</span>
        <span class="bp">self</span><span class="o">.</span><span class="n">z_transition</span> <span class="o">=</span> <span class="n">sparse</span><span class="o">.</span><span class="n">kron</span><span class="p">(</span><span class="bp">self</span><span class="o">.</span><span class="n">pi</span><span class="p">,</span><span class="n">sparse</span><span class="o">.</span><span class="n">eye</span><span class="p">(</span><span class="bp">self</span><span class="o">.</span><span class="n">a_size</span><span class="p">))</span>
        
        <span class="c1"># Preallocation</span>
        <span class="bp">self</span><span class="o">.</span><span class="n">v_old</span> <span class="o">=</span> <span class="n">np</span><span class="o">.</span><span class="n">zeros</span><span class="p">((</span><span class="bp">self</span><span class="o">.</span><span class="n">z_size</span><span class="p">,</span><span class="bp">self</span><span class="o">.</span><span class="n">a_size</span><span class="p">))</span>
        <span class="bp">self</span><span class="o">.</span><span class="n">g</span> <span class="o">=</span> <span class="n">np</span><span class="o">.</span><span class="n">zeros</span><span class="p">((</span><span class="bp">self</span><span class="o">.</span><span class="n">z_size</span><span class="p">,</span><span class="bp">self</span><span class="o">.</span><span class="n">a_size</span><span class="p">))</span>
        <span class="bp">self</span><span class="o">.</span><span class="n">dv</span> <span class="o">=</span> <span class="n">np</span><span class="o">.</span><span class="n">zeros</span><span class="p">((</span><span class="bp">self</span><span class="o">.</span><span class="n">z_size</span><span class="p">,</span><span class="bp">self</span><span class="o">.</span><span class="n">a_size</span><span class="o">-</span><span class="mi">1</span><span class="p">))</span>
        <span class="bp">self</span><span class="o">.</span><span class="n">cf</span> <span class="o">=</span> <span class="n">np</span><span class="o">.</span><span class="n">zeros</span><span class="p">((</span><span class="bp">self</span><span class="o">.</span><span class="n">z_size</span><span class="p">,</span><span class="bp">self</span><span class="o">.</span><span class="n">a_size</span><span class="o">-</span><span class="mi">1</span><span class="p">))</span>
        <span class="bp">self</span><span class="o">.</span><span class="n">c0</span> <span class="o">=</span> <span class="n">np</span><span class="o">.</span><span class="n">zeros</span><span class="p">((</span><span class="bp">self</span><span class="o">.</span><span class="n">z_size</span><span class="p">,</span><span class="bp">self</span><span class="o">.</span><span class="n">a_size</span><span class="p">))</span>
        <span class="bp">self</span><span class="o">.</span><span class="n">ssf</span> <span class="o">=</span> <span class="n">np</span><span class="o">.</span><span class="n">zeros</span><span class="p">((</span><span class="bp">self</span><span class="o">.</span><span class="n">z_size</span><span class="p">,</span><span class="bp">self</span><span class="o">.</span><span class="n">a_size</span><span class="p">))</span>
        <span class="bp">self</span><span class="o">.</span><span class="n">ssb</span> <span class="o">=</span> <span class="n">np</span><span class="o">.</span><span class="n">zeros</span><span class="p">((</span><span class="bp">self</span><span class="o">.</span><span class="n">z_size</span><span class="p">,</span><span class="bp">self</span><span class="o">.</span><span class="n">a_size</span><span class="p">))</span>
        <span class="bp">self</span><span class="o">.</span><span class="n">is_forward</span> <span class="o">=</span> <span class="n">np</span><span class="o">.</span><span class="n">zeros</span><span class="p">((</span><span class="bp">self</span><span class="o">.</span><span class="n">z_size</span><span class="p">,</span><span class="bp">self</span><span class="o">.</span><span class="n">a_size</span><span class="p">),</span><span class="s1">&#39;bool&#39;</span><span class="p">)</span>
        <span class="bp">self</span><span class="o">.</span><span class="n">is_backward</span> <span class="o">=</span> <span class="n">np</span><span class="o">.</span><span class="n">zeros</span><span class="p">((</span><span class="bp">self</span><span class="o">.</span><span class="n">z_size</span><span class="p">,</span><span class="bp">self</span><span class="o">.</span><span class="n">a_size</span><span class="p">),</span><span class="s1">&#39;bool&#39;</span><span class="p">)</span>
        <span class="bp">self</span><span class="o">.</span><span class="n">diag_helper</span> <span class="o">=</span> <span class="n">np</span><span class="o">.</span><span class="n">zeros</span><span class="p">((</span><span class="bp">self</span><span class="o">.</span><span class="n">z_size</span><span class="p">,</span><span class="bp">self</span><span class="o">.</span><span class="n">a_size</span><span class="p">))</span>        
        <span class="bp">self</span><span class="o">.</span><span class="n">A</span> <span class="o">=</span> <span class="bp">self</span><span class="o">.</span><span class="n">z_transition</span><span class="o">.</span><span class="n">copy</span><span class="p">()</span>
        <span class="bp">self</span><span class="o">.</span><span class="n">B</span> <span class="o">=</span> <span class="bp">self</span><span class="o">.</span><span class="n">z_transition</span><span class="o">.</span><span class="n">copy</span><span class="p">()</span>
        <span class="bp">self</span><span class="o">.</span><span class="n">AT</span> <span class="o">=</span> <span class="bp">self</span><span class="o">.</span><span class="n">z_transition</span><span class="o">.</span><span class="n">copy</span><span class="p">()</span>

    <span class="k">def</span> <span class="nf">set_prices</span><span class="p">(</span><span class="bp">self</span><span class="p">,</span> <span class="n">r</span><span class="p">,</span> <span class="n">w</span><span class="p">):</span>
        <span class="sd">&quot;&quot;&quot;</span>
<span class="sd">        Resets prices</span>
<span class="sd">        Calling the method will resolves the Bellman Equation.</span>
<span class="sd">        </span>
<span class="sd">        Parameters:</span>
<span class="sd">        -----------------</span>
<span class="sd">        r : Interest rate</span>
<span class="sd">        w : wage</span>
<span class="sd">        &quot;&quot;&quot;</span>
        <span class="bp">self</span><span class="o">.</span><span class="n">r</span><span class="p">,</span> <span class="bp">self</span><span class="o">.</span><span class="n">w</span> <span class="o">=</span> <span class="n">r</span><span class="p">,</span> <span class="n">w</span>
        <span class="bp">self</span><span class="o">.</span><span class="n">solve_bellman</span><span class="p">()</span>

    <span class="k">def</span> <span class="nf">reinitialize_v</span><span class="p">(</span><span class="bp">self</span><span class="p">):</span>
        <span class="sd">&quot;&quot;&quot;</span>
<span class="sd">        Reinitializes the value function if the value function</span>
<span class="sd">        became NaN</span>
<span class="sd">        &quot;&quot;&quot;</span>
        <span class="bp">self</span><span class="o">.</span><span class="n">v</span> <span class="o">=</span> <span class="n">np</span><span class="o">.</span><span class="n">log</span><span class="p">(</span><span class="n">np</span><span class="o">.</span><span class="n">tile</span><span class="p">(</span><span class="bp">self</span><span class="o">.</span><span class="n">a_vals</span><span class="p">,(</span><span class="bp">self</span><span class="o">.</span><span class="n">z_size</span><span class="p">,</span><span class="mi">1</span><span class="p">))</span><span class="o">*</span><span class="bp">self</span><span class="o">.</span><span class="n">r</span>
                        <span class="o">+</span><span class="bp">self</span><span class="o">.</span><span class="n">w</span><span class="o">*</span><span class="n">np</span><span class="o">.</span><span class="n">tile</span><span class="p">(</span><span class="bp">self</span><span class="o">.</span><span class="n">z_vals</span><span class="p">,(</span><span class="bp">self</span><span class="o">.</span><span class="n">a_size</span><span class="p">,</span><span class="mi">1</span><span class="p">))</span><span class="o">.</span><span class="n">transpose</span><span class="p">())</span><span class="o">/</span><span class="bp">self</span><span class="o">.</span><span class="n">rho</span>

    <span class="k">def</span> <span class="nf">solve_bellman</span><span class="p">(</span><span class="bp">self</span><span class="p">,</span><span class="n">maxiter</span><span class="o">=</span><span class="mi">100</span><span class="p">,</span><span class="n">crit</span><span class="o">=</span><span class="mi">1</span><span class="n">e</span><span class="o">-</span><span class="mi">6</span><span class="p">):</span>
        <span class="sd">&quot;&quot;&quot;</span>
<span class="sd">        This function solves the decision problem with the given parameters</span>
<span class="sd">        </span>
<span class="sd">        Parameters:</span>
<span class="sd">        -----------------</span>
<span class="sd">        maxiter : maximum number of iteration before haulting value function iteration</span>
<span class="sd">        </span>
<span class="sd">        crit : convergence metric, stops if value function does not change more than crit</span>
<span class="sd">        &quot;&quot;&quot;</span>
        <span class="n">dist</span><span class="o">=</span><span class="mf">100.0</span>
        <span class="k">for</span> <span class="n">i</span> <span class="ow">in</span> <span class="nb">range</span><span class="p">(</span><span class="n">maxiter</span><span class="p">):</span>
            <span class="c1"># compute saving and consumption implied by current guess for value function, using upwind method</span>
            <span class="bp">self</span><span class="o">.</span><span class="n">dv</span> <span class="o">=</span> <span class="p">(</span><span class="bp">self</span><span class="o">.</span><span class="n">v</span><span class="p">[:,</span><span class="mi">1</span><span class="p">:]</span><span class="o">-</span><span class="bp">self</span><span class="o">.</span><span class="n">v</span><span class="p">[:,:</span><span class="o">-</span><span class="mi">1</span><span class="p">])</span><span class="o">/</span><span class="bp">self</span><span class="o">.</span><span class="n">da</span>
            <span class="bp">self</span><span class="o">.</span><span class="n">cf</span> <span class="o">=</span> <span class="mf">1.0</span><span class="o">/</span><span class="bp">self</span><span class="o">.</span><span class="n">dv</span>
            <span class="bp">self</span><span class="o">.</span><span class="n">c0</span> <span class="o">=</span> <span class="n">np</span><span class="o">.</span><span class="n">tile</span><span class="p">(</span><span class="bp">self</span><span class="o">.</span><span class="n">a_vals</span><span class="p">,(</span><span class="bp">self</span><span class="o">.</span><span class="n">z_size</span><span class="p">,</span><span class="mi">1</span><span class="p">))</span><span class="o">*</span><span class="bp">self</span><span class="o">.</span><span class="n">r</span> \
                            <span class="o">+</span><span class="bp">self</span><span class="o">.</span><span class="n">w</span><span class="o">*</span><span class="n">np</span><span class="o">.</span><span class="n">tile</span><span class="p">(</span><span class="bp">self</span><span class="o">.</span><span class="n">z_vals</span><span class="p">,(</span><span class="bp">self</span><span class="o">.</span><span class="n">a_size</span><span class="p">,</span><span class="mi">1</span><span class="p">))</span><span class="o">.</span><span class="n">transpose</span><span class="p">()</span>
            <span class="c1"># computes savings with forward forward difference and backward difference</span>
            <span class="bp">self</span><span class="o">.</span><span class="n">ssf</span><span class="p">[:,:</span><span class="o">-</span><span class="mi">1</span><span class="p">]</span> <span class="o">=</span> <span class="bp">self</span><span class="o">.</span><span class="n">c0</span><span class="p">[:,:</span><span class="o">-</span><span class="mi">1</span><span class="p">]</span><span class="o">-</span><span class="bp">self</span><span class="o">.</span><span class="n">cf</span>
            <span class="bp">self</span><span class="o">.</span><span class="n">ssb</span><span class="p">[:,</span><span class="mi">1</span><span class="p">:]</span> <span class="o">=</span> <span class="bp">self</span><span class="o">.</span><span class="n">c0</span><span class="p">[:,</span><span class="mi">1</span><span class="p">:]</span><span class="o">-</span><span class="bp">self</span><span class="o">.</span><span class="n">cf</span>
            <span class="c1"># Note that the boundary conditions are handled implicitly as ssf will be zero at a_max and ssb at a_min </span>
            <span class="bp">self</span><span class="o">.</span><span class="n">is_forward</span> <span class="o">=</span> <span class="bp">self</span><span class="o">.</span><span class="n">ssf</span><span class="o">&gt;</span><span class="mi">0</span>
            <span class="bp">self</span><span class="o">.</span><span class="n">is_backward</span> <span class="o">=</span> <span class="bp">self</span><span class="o">.</span><span class="n">ssb</span><span class="o">&lt;</span><span class="mi">0</span>
            <span class="c1"># Update consumption based on forward or backward difference based on direction of drift</span>
            <span class="bp">self</span><span class="o">.</span><span class="n">c0</span><span class="p">[:,:</span><span class="o">-</span><span class="mi">1</span><span class="p">]</span> <span class="o">+=</span> <span class="p">(</span><span class="bp">self</span><span class="o">.</span><span class="n">cf</span><span class="o">-</span><span class="bp">self</span><span class="o">.</span><span class="n">c0</span><span class="p">[:,:</span><span class="o">-</span><span class="mi">1</span><span class="p">])</span><span class="o">*</span><span class="bp">self</span><span class="o">.</span><span class="n">is_forward</span><span class="p">[:,:</span><span class="o">-</span><span class="mi">1</span><span class="p">]</span>
            <span class="bp">self</span><span class="o">.</span><span class="n">c0</span><span class="p">[:,</span><span class="mi">1</span><span class="p">:]</span> <span class="o">+=</span> <span class="p">(</span><span class="bp">self</span><span class="o">.</span><span class="n">cf</span><span class="o">-</span><span class="bp">self</span><span class="o">.</span><span class="n">c0</span><span class="p">[:,</span><span class="mi">1</span><span class="p">:])</span><span class="o">*</span><span class="bp">self</span><span class="o">.</span><span class="n">is_backward</span><span class="p">[:,</span><span class="mi">1</span><span class="p">:]</span>
            <span class="bp">self</span><span class="o">.</span><span class="n">c0</span> <span class="o">=</span> <span class="n">np</span><span class="o">.</span><span class="n">log</span><span class="p">(</span><span class="bp">self</span><span class="o">.</span><span class="n">c0</span><span class="p">)</span>
            
            <span class="c1"># Build the matrix A that summarizes the evolution of the process for (a,z)</span>
            <span class="c1"># This is a Poisson transition matrix (aka intensity matrix) with rows adding up to zero</span>
            <span class="bp">self</span><span class="o">.</span><span class="n">A</span> <span class="o">=</span> <span class="bp">self</span><span class="o">.</span><span class="n">z_transition</span><span class="o">.</span><span class="n">copy</span><span class="p">()</span>
            <span class="bp">self</span><span class="o">.</span><span class="n">diag_helper</span> <span class="o">=</span> <span class="p">(</span><span class="o">-</span><span class="bp">self</span><span class="o">.</span><span class="n">ssf</span><span class="o">*</span><span class="bp">self</span><span class="o">.</span><span class="n">is_forward</span><span class="o">/</span><span class="bp">self</span><span class="o">.</span><span class="n">da</span> \
                               <span class="o">+</span> <span class="bp">self</span><span class="o">.</span><span class="n">ssb</span><span class="o">*</span><span class="bp">self</span><span class="o">.</span><span class="n">is_backward</span><span class="o">/</span><span class="bp">self</span><span class="o">.</span><span class="n">da</span><span class="p">)</span><span class="o">.</span><span class="n">reshape</span><span class="p">(</span><span class="bp">self</span><span class="o">.</span><span class="n">n</span><span class="p">)</span>
            <span class="bp">self</span><span class="o">.</span><span class="n">A</span> <span class="o">+=</span> <span class="n">sparse</span><span class="o">.</span><span class="n">spdiags</span><span class="p">(</span><span class="bp">self</span><span class="o">.</span><span class="n">diag_helper</span><span class="p">,</span><span class="mi">0</span><span class="p">,</span><span class="bp">self</span><span class="o">.</span><span class="n">n</span><span class="p">,</span><span class="bp">self</span><span class="o">.</span><span class="n">n</span><span class="p">)</span>
            <span class="bp">self</span><span class="o">.</span><span class="n">diag_helper</span> <span class="o">=</span> <span class="p">(</span><span class="o">-</span><span class="bp">self</span><span class="o">.</span><span class="n">ssb</span><span class="o">*</span><span class="bp">self</span><span class="o">.</span><span class="n">is_backward</span><span class="o">/</span><span class="bp">self</span><span class="o">.</span><span class="n">da</span><span class="p">)</span><span class="o">.</span><span class="n">reshape</span><span class="p">(</span><span class="bp">self</span><span class="o">.</span><span class="n">n</span><span class="p">)</span>
            <span class="bp">self</span><span class="o">.</span><span class="n">A</span> <span class="o">+=</span> <span class="n">sparse</span><span class="o">.</span><span class="n">spdiags</span><span class="p">(</span><span class="bp">self</span><span class="o">.</span><span class="n">diag_helper</span><span class="p">[</span><span class="mi">1</span><span class="p">:],</span><span class="o">-</span><span class="mi">1</span><span class="p">,</span><span class="bp">self</span><span class="o">.</span><span class="n">n</span><span class="p">,</span><span class="bp">self</span><span class="o">.</span><span class="n">n</span><span class="p">)</span>
            <span class="bp">self</span><span class="o">.</span><span class="n">diag_helper</span> <span class="o">=</span> <span class="p">(</span><span class="bp">self</span><span class="o">.</span><span class="n">ssf</span><span class="o">*</span><span class="bp">self</span><span class="o">.</span><span class="n">is_forward</span><span class="o">/</span><span class="bp">self</span><span class="o">.</span><span class="n">da</span><span class="p">)</span><span class="o">.</span><span class="n">reshape</span><span class="p">(</span><span class="bp">self</span><span class="o">.</span><span class="n">n</span><span class="p">)</span>
            <span class="bp">self</span><span class="o">.</span><span class="n">A</span> <span class="o">+=</span> <span class="n">sparse</span><span class="o">.</span><span class="n">spdiags</span><span class="p">(</span><span class="n">np</span><span class="o">.</span><span class="n">hstack</span><span class="p">((</span><span class="mi">0</span><span class="p">,</span><span class="bp">self</span><span class="o">.</span><span class="n">diag_helper</span><span class="p">)),</span><span class="mi">1</span><span class="p">,</span><span class="bp">self</span><span class="o">.</span><span class="n">n</span><span class="p">,</span><span class="bp">self</span><span class="o">.</span><span class="n">n</span><span class="p">)</span>

            <span class="c1"># Solve the system of linear equations corresponding to implicit finite difference scheme</span>
            <span class="bp">self</span><span class="o">.</span><span class="n">B</span> <span class="o">=</span> <span class="n">sparse</span><span class="o">.</span><span class="n">eye</span><span class="p">(</span><span class="bp">self</span><span class="o">.</span><span class="n">n</span><span class="p">)</span><span class="o">*</span><span class="p">(</span><span class="mi">1</span><span class="o">/</span><span class="bp">self</span><span class="o">.</span><span class="n">delta</span> <span class="o">+</span> <span class="bp">self</span><span class="o">.</span><span class="n">rho</span><span class="p">)</span> <span class="o">-</span> <span class="bp">self</span><span class="o">.</span><span class="n">A</span>
            <span class="bp">self</span><span class="o">.</span><span class="n">b</span> <span class="o">=</span> <span class="bp">self</span><span class="o">.</span><span class="n">c0</span><span class="o">.</span><span class="n">reshape</span><span class="p">(</span><span class="bp">self</span><span class="o">.</span><span class="n">n</span><span class="p">,</span><span class="mi">1</span><span class="p">)</span> <span class="o">+</span> <span class="bp">self</span><span class="o">.</span><span class="n">v</span><span class="o">.</span><span class="n">reshape</span><span class="p">(</span><span class="bp">self</span><span class="o">.</span><span class="n">n</span><span class="p">,</span><span class="mi">1</span><span class="p">)</span><span class="o">/</span><span class="bp">self</span><span class="o">.</span><span class="n">delta</span>
            <span class="bp">self</span><span class="o">.</span><span class="n">v_old</span> <span class="o">=</span> <span class="bp">self</span><span class="o">.</span><span class="n">v</span><span class="o">.</span><span class="n">copy</span><span class="p">()</span>
            <span class="bp">self</span><span class="o">.</span><span class="n">v</span> <span class="o">=</span> <span class="n">spsolve</span><span class="p">(</span><span class="bp">self</span><span class="o">.</span><span class="n">B</span><span class="p">,</span><span class="bp">self</span><span class="o">.</span><span class="n">b</span><span class="p">)</span><span class="o">.</span><span class="n">reshape</span><span class="p">(</span><span class="bp">self</span><span class="o">.</span><span class="n">z_size</span><span class="p">,</span><span class="bp">self</span><span class="o">.</span><span class="n">a_size</span><span class="p">)</span>

            <span class="c1"># Compute convergence metric and stop if it satisfies the convergence criterion</span>
            <span class="n">dist</span> <span class="o">=</span> <span class="n">np</span><span class="o">.</span><span class="n">amax</span><span class="p">(</span><span class="n">np</span><span class="o">.</span><span class="n">absolute</span><span class="p">(</span><span class="bp">self</span><span class="o">.</span><span class="n">v_old</span><span class="o">-</span><span class="bp">self</span><span class="o">.</span><span class="n">v</span><span class="p">)</span><span class="o">.</span><span class="n">reshape</span><span class="p">(</span><span class="bp">self</span><span class="o">.</span><span class="n">n</span><span class="p">))</span>
            <span class="k">if</span> <span class="n">dist</span> <span class="o">&lt;</span> <span class="n">crit</span><span class="p">:</span>
                <span class="k">break</span>

    <span class="k">def</span> <span class="nf">compute_stationary_distribution</span><span class="p">(</span><span class="bp">self</span><span class="p">):</span>
        <span class="sd">&quot;&quot;&quot;</span>
<span class="sd">        Solves for the stationary distribution given household decision rules</span>
<span class="sd">        </span>
<span class="sd">        Output:</span>
<span class="sd">        Capital level from the stationary distribution</span>
<span class="sd">        &quot;&quot;&quot;</span>        
        <span class="bp">self</span><span class="o">.</span><span class="n">AT</span> <span class="o">=</span> <span class="bp">self</span><span class="o">.</span><span class="n">A</span><span class="o">.</span><span class="n">transpose</span><span class="p">()</span><span class="o">.</span><span class="n">tocsr</span><span class="p">()</span>

        <span class="c1"># The discretized Kolmogorov Forward equation AT*g=0 is an eigenvalue problem</span>
        <span class="c1"># AT is singular because one of the equation is the distribution adding</span>
        <span class="c1"># up to 1. Here we solve the eigenvalue problem by setting g(1,1)=0.1</span>
        <span class="c1"># and the equation is solved relative to that value.</span>
        <span class="c1"># Alternatively, one could use a routine for solving eigenvalue problems.</span>
        <span class="n">b</span> <span class="o">=</span> <span class="n">np</span><span class="o">.</span><span class="n">zeros</span><span class="p">((</span><span class="bp">self</span><span class="o">.</span><span class="n">n</span><span class="p">,</span><span class="mi">1</span><span class="p">))</span>
        <span class="n">b</span><span class="p">[</span><span class="mi">0</span><span class="p">]</span> <span class="o">=</span> <span class="mf">0.1</span>
        <span class="bp">self</span><span class="o">.</span><span class="n">AT</span><span class="o">.</span><span class="n">data</span><span class="p">[</span><span class="mi">1</span><span class="p">:</span><span class="bp">self</span><span class="o">.</span><span class="n">AT</span><span class="o">.</span><span class="n">indptr</span><span class="p">[</span><span class="mi">1</span><span class="p">]]</span> <span class="o">=</span> <span class="mi">0</span>
        <span class="bp">self</span><span class="o">.</span><span class="n">AT</span><span class="o">.</span><span class="n">data</span><span class="p">[</span><span class="mi">0</span><span class="p">]</span> <span class="o">=</span> <span class="mf">1.0</span>
        <span class="bp">self</span><span class="o">.</span><span class="n">AT</span><span class="o">.</span><span class="n">indices</span><span class="p">[</span><span class="mi">0</span><span class="p">]</span> <span class="o">=</span> <span class="mi">0</span>
        <span class="bp">self</span><span class="o">.</span><span class="n">AT</span><span class="o">.</span><span class="n">eliminate_zeros</span><span class="p">()</span>
        <span class="bp">self</span><span class="o">.</span><span class="n">g</span> <span class="o">=</span> <span class="n">spsolve</span><span class="p">(</span><span class="bp">self</span><span class="o">.</span><span class="n">AT</span><span class="p">,</span><span class="n">b</span><span class="p">)</span><span class="o">.</span><span class="n">reshape</span><span class="p">(</span><span class="bp">self</span><span class="o">.</span><span class="n">z_size</span><span class="p">,</span><span class="bp">self</span><span class="o">.</span><span class="n">a_size</span><span class="p">)</span>
        
        <span class="c1"># Since g was solved taking one of g(1,1) as given, g needs to be</span>
        <span class="c1"># renormalized to add up to 1</span>
        <span class="bp">self</span><span class="o">.</span><span class="n">g</span> <span class="o">=</span> <span class="bp">self</span><span class="o">.</span><span class="n">g</span><span class="o">/</span><span class="n">np</span><span class="o">.</span><span class="n">sum</span><span class="p">(</span><span class="bp">self</span><span class="o">.</span><span class="n">g</span><span class="p">)</span>
        <span class="k">return</span> <span class="n">np</span><span class="o">.</span><span class="n">sum</span><span class="p">(</span><span class="bp">self</span><span class="o">.</span><span class="n">g</span><span class="o">*</span><span class="p">(</span><span class="n">np</span><span class="o">.</span><span class="n">tile</span><span class="p">(</span><span class="bp">self</span><span class="o">.</span><span class="n">a_vals</span><span class="p">,(</span><span class="bp">self</span><span class="o">.</span><span class="n">z_size</span><span class="p">,</span><span class="mi">1</span><span class="p">))))</span>
</pre></div>

</div>
</div>
</div>

</div>
<div class="cell border-box-sizing text_cell rendered">
<div class="prompt input_prompt">
</div>
<div class="inner_cell">
<div class="text_cell_render border-box-sizing rendered_html">
<p>For example, if interest rate is 0.05 and wage is 1, we can initialize a household, solve it decision problem, and find the stationary distribution by running</p>

</div>
</div>
</div>
<div class="cell border-box-sizing code_cell rendered">
<div class="input">
<div class="prompt input_prompt">In&nbsp;[3]:</div>
<div class="inner_cell">
    <div class="input_area">
<div class=" highlight hl-ipython3"><pre><span></span><span class="n">am</span><span class="o">=</span><span class="n">Household</span><span class="p">(</span><span class="n">r</span><span class="o">=</span><span class="mf">0.05</span><span class="p">,</span><span class="n">w</span><span class="o">=</span><span class="mi">1</span><span class="p">)</span>
<span class="n">am</span><span class="o">.</span><span class="n">solve_bellman</span><span class="p">()</span>
<span class="n">am</span><span class="o">.</span><span class="n">compute_stationary_distribution</span><span class="p">()</span>
</pre></div>

</div>
</div>
</div>

<div class="output_wrapper">
<div class="output">


<div class="output_area"><div class="prompt output_prompt">Out[3]:</div>


<div class="output_text output_subarea output_execute_result">
<pre>39.104796555465526</pre>
</div>

</div>

</div>
</div>

</div>
<div class="cell border-box-sizing text_cell rendered">
<div class="prompt input_prompt">
</div>
<div class="inner_cell">
<div class="text_cell_render border-box-sizing rendered_html">
<p>Once, a household object is created, the object can be reused to solve a different problem by changing parameters. For example, if the interest rate were to change to 0.03 and wage to 0.9, the new problem can be solved by setting parameters directly by</p>

</div>
</div>
</div>
<div class="cell border-box-sizing code_cell rendered">
<div class="input">
<div class="prompt input_prompt">In&nbsp;[4]:</div>
<div class="inner_cell">
    <div class="input_area">
<div class=" highlight hl-ipython3"><pre><span></span><span class="n">am</span><span class="o">.</span><span class="n">r</span><span class="o">=</span><span class="mf">0.03</span>
<span class="n">am</span><span class="o">.</span><span class="n">w</span><span class="o">=</span><span class="mf">0.9</span>
</pre></div>

</div>
</div>
</div>

</div>
<div class="cell border-box-sizing text_cell rendered">
<div class="prompt input_prompt">
</div>
<div class="inner_cell">
<div class="text_cell_render border-box-sizing rendered_html">
<p>and running</p>

</div>
</div>
</div>
<div class="cell border-box-sizing code_cell rendered">
<div class="input">
<div class="prompt input_prompt">In&nbsp;[5]:</div>
<div class="inner_cell">
    <div class="input_area">
<div class=" highlight hl-ipython3"><pre><span></span><span class="n">am</span><span class="o">.</span><span class="n">solve_bellman</span><span class="p">()</span>
<span class="n">am</span><span class="o">.</span><span class="n">compute_stationary_distribution</span><span class="p">()</span>
</pre></div>

</div>
</div>
</div>

<div class="output_wrapper">
<div class="output">


<div class="output_area"><div class="prompt output_prompt">Out[5]:</div>


<div class="output_text output_subarea output_execute_result">
<pre>5.9052049733275469</pre>
</div>

</div>

</div>
</div>

</div>
<div class="cell border-box-sizing text_cell rendered">
<div class="prompt input_prompt">
</div>
<div class="inner_cell">
<div class="text_cell_render border-box-sizing rendered_html">
<p>Alternately, a helper function can be created to automate this process. For example, set_prices(r,w) function resets parameters, and solves the decision problem again. For example, you can run the following to the same effect.</p>

</div>
</div>
</div>
<div class="cell border-box-sizing code_cell rendered">
<div class="input">
<div class="prompt input_prompt">In&nbsp;[6]:</div>
<div class="inner_cell">
    <div class="input_area">
<div class=" highlight hl-ipython3"><pre><span></span><span class="n">am</span><span class="o">.</span><span class="n">set_prices</span><span class="p">(</span><span class="n">r</span><span class="o">=</span><span class="mf">0.03</span><span class="p">,</span><span class="n">w</span><span class="o">=</span><span class="mf">0.9</span><span class="p">)</span>
<span class="n">am</span><span class="o">.</span><span class="n">compute_stationary_distribution</span><span class="p">()</span>
</pre></div>

</div>
</div>
</div>

<div class="output_wrapper">
<div class="output">


<div class="output_area"><div class="prompt output_prompt">Out[6]:</div>


<div class="output_text output_subarea output_execute_result">
<pre>5.9052051500667417</pre>
</div>

</div>

</div>
</div>

</div>
<div class="cell border-box-sizing text_cell rendered">
<div class="prompt input_prompt">
</div>
<div class="inner_cell">
<div class="text_cell_render border-box-sizing rendered_html">
<p>Given the household class, solving for the steady state becomes really simple. To find the equilibrium, we solve for the capital level that is consistent with household's decisions.</p>

</div>
</div>
</div>
<div class="cell border-box-sizing text_cell rendered">
<div class="prompt input_prompt">
</div>
<div class="inner_cell">
<div class="text_cell_render border-box-sizing rendered_html">
<p>Before solving for the actual steady state, we can visualize the capital demand and capital supply.</p>

</div>
</div>
</div>
<div class="cell border-box-sizing code_cell rendered">
<div class="input">
<div class="prompt input_prompt">In&nbsp;[7]:</div>
<div class="inner_cell">
    <div class="input_area">
<div class=" highlight hl-ipython3"><pre><span></span><span class="n">A</span> <span class="o">=</span> <span class="mf">2.5</span>
<span class="n">N</span> <span class="o">=</span> <span class="mf">0.05</span>
<span class="n">alpha</span> <span class="o">=</span> <span class="mf">0.33</span>

<span class="k">def</span> <span class="nf">r_to_w</span><span class="p">(</span><span class="n">r</span><span class="p">):</span>
    <span class="k">return</span> <span class="n">A</span> <span class="o">*</span> <span class="p">(</span><span class="mi">1</span> <span class="o">-</span> <span class="n">alpha</span><span class="p">)</span> <span class="o">*</span> <span class="p">(</span><span class="n">alpha</span> <span class="o">/</span> <span class="p">(</span><span class="mi">1</span> <span class="o">+</span> <span class="n">r</span><span class="p">))</span><span class="o">**</span><span class="p">(</span><span class="n">alpha</span> <span class="o">/</span> <span class="p">(</span><span class="mi">1</span> <span class="o">-</span> <span class="n">alpha</span><span class="p">))</span>

<span class="k">def</span> <span class="nf">rd</span><span class="p">(</span><span class="n">K</span><span class="p">):</span>
    <span class="k">return</span> <span class="n">A</span> <span class="o">*</span> <span class="n">alpha</span> <span class="o">*</span> <span class="p">(</span><span class="n">N</span> <span class="o">/</span> <span class="n">K</span><span class="p">)</span><span class="o">**</span><span class="p">(</span><span class="mi">1</span> <span class="o">-</span> <span class="n">alpha</span><span class="p">)</span>

<span class="k">def</span> <span class="nf">prices_to_capital_stock</span><span class="p">(</span><span class="n">am</span><span class="p">,</span> <span class="n">r</span><span class="p">):</span>
    <span class="sd">&quot;&quot;&quot;</span>
<span class="sd">    Map prices to the induced level of capital stock.</span>
<span class="sd">    </span>
<span class="sd">    Parameters:</span>
<span class="sd">    ----------</span>
<span class="sd">    am : Household</span>
<span class="sd">        An instance of the Household class</span>
<span class="sd">    r : float</span>
<span class="sd">        The interest rate</span>
<span class="sd">    &quot;&quot;&quot;</span>
    <span class="n">w</span> <span class="o">=</span> <span class="n">r_to_w</span><span class="p">(</span><span class="n">r</span><span class="p">)</span>

    <span class="c1"># Set new prices and solve the Bellman equation</span>
    <span class="n">am</span><span class="o">.</span><span class="n">set_prices</span><span class="p">(</span><span class="n">r</span><span class="p">,</span> <span class="n">w</span><span class="p">)</span>

    <span class="c1"># Compute the stationary distribution and capital</span>
    <span class="k">return</span> <span class="n">am</span><span class="o">.</span><span class="n">compute_stationary_distribution</span><span class="p">()</span>
</pre></div>

</div>
</div>
</div>

</div>
<div class="cell border-box-sizing text_cell rendered">
<div class="prompt input_prompt">
</div>
<div class="inner_cell">
<div class="text_cell_render border-box-sizing rendered_html">
<p>We make a grid of interest rate points, and plot the resulting capital.</p>

</div>
</div>
</div>
<div class="cell border-box-sizing code_cell rendered">
<div class="input">
<div class="prompt input_prompt">In&nbsp;[8]:</div>
<div class="inner_cell">
    <div class="input_area">
<div class=" highlight hl-ipython3"><pre><span></span><span class="n">num_points</span> <span class="o">=</span> <span class="mi">20</span>
<span class="n">r_vals</span> <span class="o">=</span> <span class="n">np</span><span class="o">.</span><span class="n">linspace</span><span class="p">(</span><span class="mf">0.0</span><span class="p">,</span> <span class="mf">0.04</span><span class="p">,</span> <span class="n">num_points</span><span class="p">)</span>

<span class="c1"># Compute supply of capital</span>
<span class="n">k_vals</span> <span class="o">=</span> <span class="n">np</span><span class="o">.</span><span class="n">empty</span><span class="p">(</span><span class="n">num_points</span><span class="p">)</span>
<span class="k">for</span> <span class="n">i</span><span class="p">,</span> <span class="n">r</span> <span class="ow">in</span> <span class="nb">enumerate</span><span class="p">(</span><span class="n">r_vals</span><span class="p">):</span>
    <span class="n">k_vals</span><span class="p">[</span><span class="n">i</span><span class="p">]</span> <span class="o">=</span> <span class="n">prices_to_capital_stock</span><span class="p">(</span><span class="n">am</span><span class="p">,</span><span class="n">r</span><span class="p">)</span>

<span class="c1"># Plot supply and demand of capital</span>
<span class="n">fig</span><span class="p">,</span> <span class="n">ax</span> <span class="o">=</span> <span class="n">plt</span><span class="o">.</span><span class="n">subplots</span><span class="p">(</span><span class="n">figsize</span><span class="o">=</span><span class="p">(</span><span class="mi">11</span><span class="p">,</span> <span class="mi">8</span><span class="p">))</span>
<span class="n">ax</span><span class="o">.</span><span class="n">plot</span><span class="p">(</span><span class="n">k_vals</span><span class="p">,</span> <span class="n">r_vals</span><span class="p">,</span> <span class="n">lw</span><span class="o">=</span><span class="mi">2</span><span class="p">,</span> <span class="n">alpha</span><span class="o">=</span><span class="mf">0.6</span><span class="p">,</span> <span class="n">label</span><span class="o">=</span><span class="s1">&#39;supply of capital&#39;</span><span class="p">)</span>
<span class="n">ax</span><span class="o">.</span><span class="n">plot</span><span class="p">(</span><span class="n">k_vals</span><span class="p">,</span> <span class="n">rd</span><span class="p">(</span><span class="n">k_vals</span><span class="p">),</span> <span class="n">lw</span><span class="o">=</span><span class="mi">2</span><span class="p">,</span> <span class="n">alpha</span><span class="o">=</span><span class="mf">0.6</span><span class="p">,</span> <span class="n">label</span><span class="o">=</span><span class="s1">&#39;demand for capital&#39;</span><span class="p">)</span>
<span class="n">ax</span><span class="o">.</span><span class="n">grid</span><span class="p">()</span>
<span class="n">ax</span><span class="o">.</span><span class="n">set_xlabel</span><span class="p">(</span><span class="s1">&#39;capital&#39;</span><span class="p">)</span>
<span class="n">ax</span><span class="o">.</span><span class="n">set_ylabel</span><span class="p">(</span><span class="s1">&#39;interest rate&#39;</span><span class="p">)</span>
<span class="n">ax</span><span class="o">.</span><span class="n">legend</span><span class="p">(</span><span class="n">loc</span><span class="o">=</span><span class="s1">&#39;upper right&#39;</span><span class="p">)</span>
<span class="n">plt</span><span class="o">.</span><span class="n">show</span><span class="p">()</span>
</pre></div>

</div>
</div>
</div>

<div class="output_wrapper">
<div class="output">


<div class="output_area"><div class="prompt"></div>


<div class="output_png output_subarea ">
<img src="data:image/png;base64,iVBORw0KGgoAAAANSUhEUgAAAqMAAAHuCAYAAACrsQVHAAAABHNCSVQICAgIfAhkiAAAAAlwSFlz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"
>
</div>

</div>

</div>
</div>

</div>
<div class="cell border-box-sizing text_cell rendered">
<div class="prompt input_prompt">
</div>
<div class="inner_cell">
<div class="text_cell_render border-box-sizing rendered_html">
<p>Finally, the equilibrium interest rate can be found by using the bisection method, and we can see the equilibrium distribution of assets.</p>

</div>
</div>
</div>
<div class="cell border-box-sizing code_cell rendered">
<div class="input">
<div class="prompt input_prompt">In&nbsp;[9]:</div>
<div class="inner_cell">
    <div class="input_area">
<div class=" highlight hl-ipython3"><pre><span></span><span class="c1"># Set parameters for bisection method</span>
<span class="n">crit</span> <span class="o">=</span> <span class="mi">1</span><span class="n">e</span><span class="o">-</span><span class="mi">6</span>
<span class="n">r_min</span> <span class="o">=</span> <span class="mf">0.02</span>
<span class="n">r_max</span> <span class="o">=</span> <span class="mf">0.04</span>
<span class="n">r</span> <span class="o">=</span> <span class="mf">0.03</span>

<span class="c1"># Bisection loop</span>
<span class="k">for</span> <span class="n">i</span> <span class="ow">in</span> <span class="nb">range</span><span class="p">(</span><span class="mi">100</span><span class="p">):</span>
    <span class="n">am</span><span class="o">.</span><span class="n">set_prices</span><span class="p">(</span><span class="n">r</span><span class="p">,</span><span class="n">r_to_w</span><span class="p">(</span><span class="n">r</span><span class="p">))</span>
    <span class="n">r_new</span> <span class="o">=</span> <span class="n">rd</span><span class="p">(</span><span class="n">am</span><span class="o">.</span><span class="n">compute_stationary_distribution</span><span class="p">())</span>
    <span class="k">if</span> <span class="n">np</span><span class="o">.</span><span class="n">absolute</span><span class="p">(</span><span class="n">r_new</span><span class="o">-</span><span class="n">r</span><span class="p">)</span><span class="o">&lt;</span><span class="n">crit</span><span class="p">:</span>
        <span class="k">break</span>
    <span class="k">elif</span> <span class="n">r_new</span> <span class="o">&gt;</span> <span class="n">r</span><span class="p">:</span>
        <span class="n">r_min</span> <span class="o">=</span> <span class="n">r</span>
        <span class="n">r</span> <span class="o">=</span> <span class="p">(</span><span class="n">r_max</span><span class="o">+</span><span class="n">r_min</span><span class="p">)</span><span class="o">/</span><span class="mf">2.</span>
    <span class="k">else</span><span class="p">:</span>
        <span class="n">r_max</span> <span class="o">=</span> <span class="n">r</span>
        <span class="n">r</span> <span class="o">=</span> <span class="p">(</span><span class="n">r_max</span><span class="o">+</span><span class="n">r_min</span><span class="p">)</span><span class="o">/</span><span class="mf">2.</span>

<span class="c1"># Plot stationary distribution at the equilibrium</span>
<span class="n">fig</span><span class="p">,</span> <span class="n">ax</span> <span class="o">=</span> <span class="n">plt</span><span class="o">.</span><span class="n">subplots</span><span class="p">(</span><span class="n">figsize</span><span class="o">=</span><span class="p">(</span><span class="mi">11</span><span class="p">,</span> <span class="mi">8</span><span class="p">))</span>
<span class="n">n</span><span class="o">=</span><span class="mi">500</span>                      <span class="c1"># Determine the max asset level to show in the plot</span>
<span class="n">ax</span><span class="o">.</span><span class="n">plot</span><span class="p">(</span><span class="n">am</span><span class="o">.</span><span class="n">a_vals</span><span class="p">[</span><span class="mi">0</span><span class="p">:</span><span class="n">n</span><span class="p">],</span> <span class="n">am</span><span class="o">.</span><span class="n">g</span><span class="p">[</span><span class="mi">0</span><span class="p">,</span><span class="mi">0</span><span class="p">:</span><span class="n">n</span><span class="p">],</span> <span class="n">lw</span><span class="o">=</span><span class="mi">2</span><span class="p">,</span> <span class="n">alpha</span><span class="o">=</span><span class="mf">0.6</span><span class="p">,</span> <span class="n">label</span><span class="o">=</span><span class="s1">&#39;low income&#39;</span><span class="p">)</span>
<span class="n">ax</span><span class="o">.</span><span class="n">plot</span><span class="p">(</span><span class="n">am</span><span class="o">.</span><span class="n">a_vals</span><span class="p">[</span><span class="mi">0</span><span class="p">:</span><span class="n">n</span><span class="p">],</span> <span class="n">am</span><span class="o">.</span><span class="n">g</span><span class="p">[</span><span class="mi">1</span><span class="p">,</span><span class="mi">0</span><span class="p">:</span><span class="n">n</span><span class="p">],</span> <span class="n">lw</span><span class="o">=</span><span class="mi">2</span><span class="p">,</span> <span class="n">alpha</span><span class="o">=</span><span class="mf">0.6</span><span class="p">,</span> <span class="n">label</span><span class="o">=</span><span class="s1">&#39;high income&#39;</span><span class="p">)</span>
<span class="n">ax</span><span class="o">.</span><span class="n">grid</span><span class="p">()</span>
<span class="n">ax</span><span class="o">.</span><span class="n">set_xlabel</span><span class="p">(</span><span class="s1">&#39;asset position&#39;</span><span class="p">)</span>
<span class="n">ax</span><span class="o">.</span><span class="n">set_ylabel</span><span class="p">(</span><span class="s1">&#39;distribution&#39;</span><span class="p">)</span>
<span class="n">ax</span><span class="o">.</span><span class="n">legend</span><span class="p">(</span><span class="n">loc</span><span class="o">=</span><span class="s1">&#39;upper right&#39;</span><span class="p">)</span>
<span class="n">plt</span><span class="o">.</span><span class="n">show</span><span class="p">()</span>
</pre></div>

</div>
</div>
</div>

<div class="output_wrapper">
<div class="output">


<div class="output_area"><div class="prompt"></div>


<div class="output_png output_subarea ">
<img src="data:image/png;base64,iVBORw0KGgoAAAANSUhEUgAAAqoAAAHuCAYAAABXpC6NAAAABHNCSVQICAgIfAhkiAAAAAlwSFlz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"
>
</div>

</div>

</div>
</div>

</div>
<div class="cell border-box-sizing code_cell rendered">
<div class="input">
<div class="prompt input_prompt">In&nbsp;[&nbsp;]:</div>
<div class="inner_cell">
    <div class="input_area">
<div class=" highlight hl-ipython3"><pre><span></span> 
</pre></div>

</div>
</div>
</div>

</div>
    </div>
  </div>

  </div>


  
    <footer class="footer hidden-print">
      <div class="container">
        <div class="col-md-4">
          <p>
            This web site does not host notebooks, it only renders notebooks
            available on other websites.
          </p>
        </div>

        <div class="col-md-4">
          <p>
            Delivered by <a href="http://www.fastly.com/">Fastly</a>,
            Rendered by <a href="https://developer.rackspace.com/?nbviewer=awesome">Rackspace</a>
          </p>
          <p>
            nbviewer GitHub <a href="https://github.com/jupyter/nbviewer">repository</a>.
          </p>
        </div>

        <div class="col-md-4">
          
  
            
              <p>
                nbviewer version:
                <a href="https://github.com/jupyter/nbviewer/commit/f282e1a3f393cc046c0637d41a3d8da76886cd29">
                  f282e1a
                </a>
              </p>
            
          
  
  <p>
    notebook version: <a href="https://github.com/jupyter/notebook/releases/tag/4.1.0">
      4.1.0
    </a>
  </p>
  <p>
    nbconvert version: <a href="https://github.com/jupyter/nbconvert/releases/tag/4.1.0">
      4.1.0
    </a>
  </p>
  

          
  
  
  <p>
    Rendered
    <span class='date' data-date='Mon, 22 Feb 2016 21:18:05 UTC' title='Mon, 22 Feb 2016 21:18:05 UTC'>(Mon, 22 Feb 2016 21:18:05 UTC)</span>
  </p>
  

        </div>
      </div>
    </footer>
  

  <script src="/static/components/bootstrap/js/bootstrap.min.js"></script>
  <script src="/static/components/headroom.js/dist/headroom.min.js"></script>
  <script src="/static/components/headroom.js/dist/jQuery.headroom.min.js"></script>

  
  
  <script>
    $(function(){ $("#menubar").headroom({
      tolerance: 5,
      offset: 205,
      classes: {
        initial: "animated",
        pinned: "slideInDown",
        unpinned: "slideOutUp"
      }
    })});
  </script>


  <script>
    (function(i,s,o,g,r,a,m){i['GoogleAnalyticsObject']=r;i[r]=i[r]||function(){
      (i[r].q=i[r].q||[]).push(arguments)},i[r].l=1*new Date();a=s.createElement(o),
      m=s.getElementsByTagName(o)[0];a.async=1;a.src=g;m.parentNode.insertBefore(a,m)
    })(window,document,'script','//www.google-analytics.com/analytics.js','ga');
    ga('create', 'UA-38683231-2', 'auto');
    ga('send', 'pageview');
  </script>
  <script>
    require({
        paths: {
          moment: "/static/components/moment/min/moment.min.js"
        }
      }, ["moment"], function(moment){
      var date = $("footer .date"),
        m = moment(new Date(date.data('date'))),
        update = function(){ date.text(m.fromNow()); };
      setInterval(update, 61*1000);
      update();
      var w = $(window).scroll(function(event){
        $("body").toggleClass("scrolled", w.scrollTop() > 0);
      });
    });
  </script>
  <!--NEW RELIC Stop Perf Measurement-->
  
  <!--NEW RELIC End-->
</body>
</html>