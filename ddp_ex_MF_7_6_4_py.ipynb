{
 "cells": [
  {
   "cell_type": "markdown",
   "metadata": {},
   "source": [
    "# Example: Option Pricing"
   ]
  },
  {
   "cell_type": "markdown",
   "metadata": {},
   "source": [
    "Miranda and Fackler, Applied Computational Economics and Finance, 2002, Section 7.6.4"
   ]
  },
  {
   "cell_type": "code",
   "execution_count": 1,
   "metadata": {
    "collapsed": true
   },
   "outputs": [],
   "source": [
    "%matplotlib inline"
   ]
  },
  {
   "cell_type": "code",
   "execution_count": 2,
   "metadata": {
    "collapsed": true
   },
   "outputs": [],
   "source": [
    "from __future__ import division\n",
    "import numpy as np\n",
    "import scipy.sparse as sp\n",
    "import matplotlib.pyplot as plt\n",
    "import quantecon as qe\n",
    "from quantecon.markov import DiscreteDP, backward_induction"
   ]
  },
  {
   "cell_type": "code",
   "execution_count": 3,
   "metadata": {
    "collapsed": false
   },
   "outputs": [],
   "source": [
    "T = 0.5       # Time expiration (years)\n",
    "vol = 0.2     # Annual volatility\n",
    "r = 0.05      # Annual interest rate\n",
    "strike = 2.1  # Strike price\n",
    "p0 = 2        # Current price\n",
    "N = 100       # Number of periods to expiration\n",
    "\n",
    "# Time length of a period\n",
    "tau = T/N\n",
    "\n",
    "# Discount factor\n",
    "beta = np.exp(-r*tau)\n",
    "\n",
    "# Up-jump factor\n",
    "u = np.exp(vol*np.sqrt(tau))\n",
    "\n",
    "# Up-jump probability\n",
    "q = 1/2 + np.sqrt(tau)*(r - (vol**2)/2)/(2*vol)"
   ]
  },
  {
   "cell_type": "markdown",
   "metadata": {},
   "source": [
    "We follow the state-action pairs formulation approach.\n",
    "We let the state space consist of the possible values of the asset price\n",
    "and the state indicating that \"the option has been exercised\"."
   ]
  },
  {
   "cell_type": "code",
   "execution_count": 4,
   "metadata": {
    "collapsed": false
   },
   "outputs": [],
   "source": [
    "# Possible price values\n",
    "ps = u**np.arange(-N, N+1) * p0\n",
    "\n",
    "# Number of states\n",
    "n = len(ps) + 1  # State n-1: \"the option has been exercised\"\n",
    "\n",
    "# Number of actions\n",
    "m = 2  # 0: hold, 1: exercise\n",
    "\n",
    "# Number of feasible state-action pairs\n",
    "L = n*m - 1  # At state n-1, there is only one action \"do nothing\""
   ]
  },
  {
   "cell_type": "code",
   "execution_count": 5,
   "metadata": {
    "collapsed": false
   },
   "outputs": [],
   "source": [
    "s_indices, a_indices = qe.markov.random._sa_indices(n, m)\n",
    "s_indices, a_indices = s_indices[:-1], a_indices[:-1]"
   ]
  },
  {
   "cell_type": "code",
   "execution_count": 6,
   "metadata": {
    "collapsed": false
   },
   "outputs": [],
   "source": [
    "R = np.empty((n, m))\n",
    "R[:, 0] = 0\n",
    "R[:-1, 1] = strike - ps\n",
    "R = R.ravel()[:-1]"
   ]
  },
  {
   "cell_type": "code",
   "execution_count": 7,
   "metadata": {
    "collapsed": false
   },
   "outputs": [],
   "source": [
    "Q = sp.lil_matrix((L, n))\n",
    "for i in range(L-1):\n",
    "    if a_indices[i] == 0:\n",
    "        Q[i, min(s_indices[i]+1, len(ps)-1)] = q\n",
    "        Q[i, max(s_indices[i]-1, 0)] = 1 - q\n",
    "    else:\n",
    "        Q[i, n-1] = 1\n",
    "Q[L-1, n-1] = 1"
   ]
  },
  {
   "cell_type": "code",
   "execution_count": 8,
   "metadata": {
    "collapsed": false
   },
   "outputs": [],
   "source": [
    "ddp = DiscreteDP(R, Q, beta, s_indices, a_indices)"
   ]
  },
  {
   "cell_type": "markdown",
   "metadata": {},
   "source": [
    "The backward induction algorithm for finite horizon dynamic programs is offered\n",
    "as the function `backward_induction`.\n",
    "(By default, the terminal value function is set to the vector of zeros.)"
   ]
  },
  {
   "cell_type": "code",
   "execution_count": 9,
   "metadata": {
    "collapsed": true
   },
   "outputs": [],
   "source": [
    "vs, sigmas = backward_induction(ddp, N)"
   ]
  },
  {
   "cell_type": "markdown",
   "metadata": {},
   "source": [
    "In the returns, `vs` is an $(N+1) \\times n$ array that contains the optimal value functions,\n",
    "where `vs[0]` is the value vector at the current period (i.e., period $0$)\n",
    "for different prices\n",
    "(with the value `vs[0, -1] = 0` for the state \"the option has been exercised\" included),\n",
    "and `sigmas` is an $N \\times n$ array that contins the optimal policy functions."
   ]
  },
  {
   "cell_type": "code",
   "execution_count": 10,
   "metadata": {
    "collapsed": true
   },
   "outputs": [],
   "source": [
    "v = vs[0]\n",
    "max_exercise_price = ps[sigmas[::-1].sum(-1)-1]"
   ]
  },
  {
   "cell_type": "code",
   "execution_count": 11,
   "metadata": {
    "collapsed": false,
    "scrolled": true
   },
   "outputs": [
    {
     "data": {
      "image/png": "[encoded data removed]",
      "text/plain": [
       "<matplotlib.figure.Figure at 0x1120f88d0>"
      ]
     },
     "metadata": {},
     "output_type": "display_data"
    }
   ],
   "source": [
    "fig, axes = plt.subplots(1, 2, figsize=(12, 4))\n",
    "\n",
    "axes[0].plot(ps, v[:-1])\n",
    "axes[0].plot([0, strike], [strike, 0], 'k--')\n",
    "axes[0].set_xlim(0, strike*2)\n",
    "axes[0].set_xticks(np.linspace(0, 4, 5, endpoint=True))\n",
    "axes[0].set_ylim(0, strike)\n",
    "axes[0].set_xlabel('Asset Price')\n",
    "axes[0].set_ylabel('Premium')\n",
    "axes[0].set_title('Put Option Value')\n",
    "\n",
    "axes[1].plot(np.linspace(0, T, N), max_exercise_price)\n",
    "axes[1].set_ylim(1.6, strike)\n",
    "axes[1].set_xlabel('Time to Maturity')\n",
    "axes[1].set_ylabel('Asset Price')\n",
    "axes[1].set_title('Put Option Optimal Exercise Boundary')\n",
    "\n",
    "plt.show()"
   ]
  },
  {
   "cell_type": "markdown",
   "metadata": {
    "collapsed": true
   },
   "source": [
    "The figure in the right panel looks different from\n",
    "the corresponding figure in Miranda and Fackler (Figure 7.4(b), p.180)."
   ]
  },
  {
   "cell_type": "code",
   "execution_count": null,
   "metadata": {
    "collapsed": true
   },
   "outputs": [],
   "source": []
  }
 ],
 "metadata": {
  "kernelspec": {
   "display_name": "Python 3",
   "language": "python",
   "name": "python3"
  },
  "language_info": {
   "codemirror_mode": {
    "name": "ipython",
    "version": 3
   },
   "file_extension": ".py",
   "mimetype": "text/x-python",
   "name": "python",
   "nbconvert_exporter": "python",
   "pygments_lexer": "ipython3",
   "version": "3.5.1"
  }
 },
 "nbformat": 4,
 "nbformat_minor": 0
}
