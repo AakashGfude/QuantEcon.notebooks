{
 "cells": [
  {
   "cell_type": "markdown",
   "metadata": {
    "deletable": true,
    "editable": true
   },
   "source": [
    "# Finite Markov Chains: Examples"
   ]
  },
  {
   "cell_type": "markdown",
   "metadata": {
    "deletable": true,
    "editable": true
   },
   "source": [
    "**Ryumei Nakada**\n",
    "\n",
    "*Department of Economics, University of Tokyo*\n",
    "\n",
    "Julia translation of the [Python version](http://nbviewer.jupyter.org/github/QuantEcon/QuantEcon.notebooks/blob/master/markov_chain_ex01_py.ipynb)."
   ]
  },
  {
   "cell_type": "markdown",
   "metadata": {
    "deletable": true,
    "editable": true
   },
   "source": [
    "This notebook demonstrates how to analyze finite-state Markov chains\n",
    "with the `MarkovChain` class.\n",
    "For basic concepts and properties on Markov chains, see\n",
    "\n",
    "* [the lecture on finite Markov chains](http://quant-econ.net/jl/finite_markov.html)\n",
    "  in Quantitative Economics.\n",
    "\n",
    "For algorithmic issues in detecting reducibility and periodicity of a Markov chain,\n",
    "see, for example,\n",
    "\n",
    "* J. P. Jarvis and D. R. Shier,\n",
    "  \"[Graph-Theoretic Analysis of Finite Markov Chains](http://www.ces.clemson.edu/~shierd/Shier/markov.pdf),\"\n",
    "\n",
    "from which we draw some examples below."
   ]
  },
  {
   "cell_type": "code",
   "execution_count": 1,
   "metadata": {
    "collapsed": false,
    "deletable": true,
    "editable": true
   },
   "outputs": [
    {
     "data": {
      "text/plain": [
       "Plots.PyPlotBackend()"
      ]
     },
     "execution_count": 1,
     "metadata": {},
     "output_type": "execute_result"
    }
   ],
   "source": [
    "using Plots\n",
    "using QuantEcon\n",
    "using StatsBase\n",
    "pyplot()"
   ]
  },
  {
   "cell_type": "markdown",
   "metadata": {},
   "source": [
    "## Example 1: Reducible chain "
   ]
  },
  {
   "cell_type": "markdown",
   "metadata": {},
   "source": [
    "Consider the Markov chain given by the following stochastic matrix, taken from Exercise 3 in Jarvis and Shier (where the actual values of non-zero probabilities are not important):"
   ]
  },
  {
   "cell_type": "code",
   "execution_count": 2,
   "metadata": {
    "collapsed": false,
    "deletable": true,
    "editable": true
   },
   "outputs": [
    {
     "data": {
      "text/plain": [
       "6×6 Array{Float64,2}:\n",
       " 1.0  0.0  0.0       0.0       0.0       0.0\n",
       " 0.0  0.0  0.0       0.0       1.0       0.0\n",
       " 0.0  0.0  0.333333  0.333333  0.333333  0.0\n",
       " 0.5  0.0  0.0       0.0       0.0       0.5\n",
       " 0.0  0.5  0.0       0.0       0.5       0.0\n",
       " 0.5  0.0  0.0       0.5       0.0       0.0"
      ]
     },
     "execution_count": 2,
     "metadata": {},
     "output_type": "execute_result"
    }
   ],
   "source": [
    "P = zeros(6, 6)\n",
    "P[1, 1] = 1\n",
    "P[2, 5] = 1\n",
    "P[3, 3], P[3, 4], P[3, 5] = 1/3, 1/3, 1/3\n",
    "P[4, 1], P[4, 6] = 1/2, 1/2\n",
    "P[5, 2], P[5, 5] = 1/2, 1/2\n",
    "P[6, 1], P[6, 4] = 1/2, 1/2\n",
    "P"
   ]
  },
  {
   "cell_type": "markdown",
   "metadata": {
    "deletable": true,
    "editable": true
   },
   "source": [
    "Create a MarkovChain instance:"
   ]
  },
  {
   "cell_type": "code",
   "execution_count": 3,
   "metadata": {
    "collapsed": false,
    "deletable": true,
    "editable": true
   },
   "outputs": [
    {
     "data": {
      "text/plain": [
       "Discrete Markov Chain\n",
       "stochastic matrix of type Array{Float64,2}:\n",
       "[1.0 0.0 … 0.0 0.0; 0.0 0.0 … 1.0 0.0; … ; 0.0 0.5 … 0.5 0.0; 0.5 0.0 … 0.0 0.0]"
      ]
     },
     "execution_count": 3,
     "metadata": {},
     "output_type": "execute_result"
    }
   ],
   "source": [
    "mc1 = MarkovChain(P)"
   ]
  },
  {
   "cell_type": "markdown",
   "metadata": {
    "deletable": true,
    "editable": true
   },
   "source": [
    "### Classification of states"
   ]
  },
  {
   "cell_type": "markdown",
   "metadata": {
    "deletable": true,
    "editable": true
   },
   "source": [
    "This Markov chain is reducible:"
   ]
  },
  {
   "cell_type": "code",
   "execution_count": 4,
   "metadata": {
    "collapsed": false,
    "deletable": true,
    "editable": true
   },
   "outputs": [
    {
     "data": {
      "text/html": [
       "false"
      ],
      "text/plain": [
       "false"
      ]
     },
     "execution_count": 4,
     "metadata": {},
     "output_type": "execute_result"
    }
   ],
   "source": [
    "is_irreducible(mc1)"
   ]
  },
  {
   "cell_type": "code",
   "execution_count": 5,
   "metadata": {
    "collapsed": false,
    "deletable": true,
    "editable": true
   },
   "outputs": [
    {
     "data": {
      "text/html": [
       "4"
      ],
      "text/plain": [
       "4"
      ]
     },
     "execution_count": 5,
     "metadata": {},
     "output_type": "execute_result"
    }
   ],
   "source": [
    "length(communication_classes(mc1))"
   ]
  },
  {
   "cell_type": "markdown",
   "metadata": {
    "deletable": true,
    "editable": true
   },
   "source": [
    "Determine the communication classes:"
   ]
  },
  {
   "cell_type": "code",
   "execution_count": 6,
   "metadata": {
    "collapsed": false,
    "deletable": true,
    "editable": true
   },
   "outputs": [
    {
     "data": {
      "text/plain": [
       "4-element Array{Array{Int64,1},1}:\n",
       " [1]   \n",
       " [2, 5]\n",
       " [4, 6]\n",
       " [3]   "
      ]
     },
     "execution_count": 6,
     "metadata": {},
     "output_type": "execute_result"
    }
   ],
   "source": [
    "communication_classes(mc1)"
   ]
  },
  {
   "cell_type": "markdown",
   "metadata": {
    "deletable": true,
    "editable": true
   },
   "source": [
    "Classify the states of this Markov chain:"
   ]
  },
  {
   "cell_type": "code",
   "execution_count": 7,
   "metadata": {
    "collapsed": false,
    "deletable": true,
    "editable": true
   },
   "outputs": [
    {
     "data": {
      "text/plain": [
       "2-element Array{Array{Int64,1},1}:\n",
       " [1]   \n",
       " [2, 5]"
      ]
     },
     "execution_count": 7,
     "metadata": {},
     "output_type": "execute_result"
    }
   ],
   "source": [
    "recurrent_classes(mc1)"
   ]
  },
  {
   "cell_type": "markdown",
   "metadata": {
    "deletable": true,
    "editable": true
   },
   "source": [
    "Obtain a list of the recurrent states:"
   ]
  },
  {
   "cell_type": "code",
   "execution_count": 8,
   "metadata": {
    "collapsed": false,
    "deletable": true,
    "editable": true
   },
   "outputs": [
    {
     "data": {
      "text/plain": [
       "3-element Array{Int64,1}:\n",
       " 1\n",
       " 2\n",
       " 5"
      ]
     },
     "execution_count": 8,
     "metadata": {},
     "output_type": "execute_result"
    }
   ],
   "source": [
    "recurrent_states = vcat(recurrent_classes(mc1)...)"
   ]
  },
  {
   "cell_type": "markdown",
   "metadata": {
    "deletable": true,
    "editable": true
   },
   "source": [
    "Obtain a list of the transient states:"
   ]
  },
  {
   "cell_type": "code",
   "execution_count": 9,
   "metadata": {
    "collapsed": false,
    "deletable": true,
    "editable": true
   },
   "outputs": [
    {
     "data": {
      "text/plain": [
       "3-element Array{Int64,1}:\n",
       " 3\n",
       " 4\n",
       " 6"
      ]
     },
     "execution_count": 9,
     "metadata": {},
     "output_type": "execute_result"
    }
   ],
   "source": [
    "transient_states = setdiff(collect(1:n_states(mc1)), recurrent_states)"
   ]
  },
  {
   "cell_type": "markdown",
   "metadata": {
    "deletable": true,
    "editable": true
   },
   "source": [
    "A Markov chain is reducible (i.e., its directed graph is not strongly connected)\n",
    "if and only if by symmetric permulations of rows and columns,\n",
    "its transition probability matrix is written in the form (\"canonical form\")\n",
    "$$\n",
    "\\begin{pmatrix}\n",
    "U & 0 \\\\\n",
    "W & V\n",
    "\\end{pmatrix},\n",
    "$$\n",
    "where $U$ and $W$ are square matrices.\n",
    "\n",
    "Such a form for `mc1` is obtained by the following:"
   ]
  },
  {
   "cell_type": "code",
   "execution_count": 10,
   "metadata": {
    "collapsed": false,
    "deletable": true,
    "editable": true
   },
   "outputs": [
    {
     "data": {
      "text/plain": [
       "6×6 Array{Float64,2}:\n",
       " 1.0  0.0  0.0       0.0       0.0       0.0\n",
       " 0.0  0.0  1.0       0.0       0.0       0.0\n",
       " 0.0  0.5  0.5       0.0       0.0       0.0\n",
       " 0.0  0.0  0.333333  0.333333  0.333333  0.0\n",
       " 0.5  0.0  0.0       0.0       0.0       0.5\n",
       " 0.5  0.0  0.0       0.0       0.5       0.0"
      ]
     },
     "execution_count": 10,
     "metadata": {},
     "output_type": "execute_result"
    }
   ],
   "source": [
    "permutation = vcat(recurrent_states, transient_states)\n",
    "mc1.p[permutation, :][:, permutation]"
   ]
  },
  {
   "cell_type": "markdown",
   "metadata": {
    "deletable": true,
    "editable": true
   },
   "source": [
    "This Markov chain is aperiodic\n",
    "(i.e., the least common multiple of the periods of the recurrent sub-chains is one):"
   ]
  },
  {
   "cell_type": "code",
   "execution_count": 11,
   "metadata": {
    "collapsed": false,
    "deletable": true,
    "editable": true
   },
   "outputs": [
    {
     "data": {
      "text/html": [
       "true"
      ],
      "text/plain": [
       "true"
      ]
     },
     "execution_count": 11,
     "metadata": {},
     "output_type": "execute_result"
    }
   ],
   "source": [
    "is_aperiodic(mc1)"
   ]
  },
  {
   "cell_type": "markdown",
   "metadata": {
    "deletable": true,
    "editable": true
   },
   "source": [
    "Indeed, each of the sub-chains corresponding to the recurrent classes has period $1$,\n",
    "i.e., every recurrent state is aperiodic:"
   ]
  },
  {
   "cell_type": "code",
   "execution_count": 12,
   "metadata": {
    "collapsed": false,
    "deletable": true,
    "editable": true
   },
   "outputs": [
    {
     "name": "stdout",
     "output_type": "stream",
     "text": [
      "Period of the sub-chain\n",
      " [1.0] \n",
      " = 1\n",
      "Period of the sub-chain\n",
      " [0.0 1.0; 0.5 0.5] \n",
      " = 1\n"
     ]
    }
   ],
   "source": [
    "for recurrent_class in recurrent_classes(mc1)\n",
    "    sub_matrix = mc1.p[recurrent_class, :][:, recurrent_class]\n",
    "    d = period(MarkovChain(sub_matrix))\n",
    "    println(\"Period of the sub-chain\\n $sub_matrix \\n = $d\")\n",
    "end"
   ]
  },
  {
   "cell_type": "markdown",
   "metadata": {
    "deletable": true,
    "editable": true
   },
   "source": [
    "### Stationary distributions"
   ]
  },
  {
   "cell_type": "markdown",
   "metadata": {
    "deletable": true,
    "editable": true
   },
   "source": [
    "For each recurrent class $C$, there is a unique stationary distribution $\\psi^C$\n",
    "such that $\\psi^C_i > 0$ for all $i \\in C$ and $\\psi^C_i = 0$ otherwise.\n",
    "`MarkovChain.stationary_distributions` returns\n",
    "these unique stationary distributions for the recurrent classes.\n",
    "Any stationary distribution is written as a convex combination of these distributions."
   ]
  },
  {
   "cell_type": "code",
   "execution_count": 13,
   "metadata": {
    "collapsed": false,
    "deletable": true,
    "editable": true
   },
   "outputs": [
    {
     "data": {
      "text/plain": [
       "2-element Array{Array{Float64,1},1}:\n",
       " [1.0, 0.0, 0.0, 0.0, 0.0, 0.0]          \n",
       " [0.0, 0.333333, 0.0, 0.0, 0.666667, 0.0]"
      ]
     },
     "execution_count": 13,
     "metadata": {},
     "output_type": "execute_result"
    }
   ],
   "source": [
    "stationary_distributions(mc1)"
   ]
  },
  {
   "cell_type": "markdown",
   "metadata": {
    "deletable": true,
    "editable": true
   },
   "source": [
    "These are indeed stationary distributions:"
   ]
  },
  {
   "cell_type": "code",
   "execution_count": 14,
   "metadata": {
    "collapsed": false,
    "deletable": true,
    "editable": true,
    "scrolled": false
   },
   "outputs": [
    {
     "data": {
      "text/plain": [
       "1×6 RowVector{Float64,Array{Float64,1}}:\n",
       " 1.0  0.0  0.0  0.0  0.0  0.0"
      ]
     },
     "execution_count": 14,
     "metadata": {},
     "output_type": "execute_result"
    }
   ],
   "source": [
    "stationary_distributions(mc1)[1]'* mc1.p"
   ]
  },
  {
   "cell_type": "code",
   "execution_count": 15,
   "metadata": {
    "collapsed": false,
    "deletable": true,
    "editable": true
   },
   "outputs": [
    {
     "data": {
      "text/plain": [
       "1×6 RowVector{Float64,Array{Float64,1}}:\n",
       " 0.0  0.333333  0.0  0.0  0.666667  0.0"
      ]
     },
     "execution_count": 15,
     "metadata": {},
     "output_type": "execute_result"
    }
   ],
   "source": [
    "stationary_distributions(mc1)[2]'* mc1.p"
   ]
  },
  {
   "cell_type": "markdown",
   "metadata": {
    "deletable": true,
    "editable": true
   },
   "source": [
    "Plot these distributions."
   ]
  },
  {
   "cell_type": "code",
   "execution_count": 16,
   "metadata": {
    "collapsed": false,
    "deletable": true,
    "editable": true
   },
   "outputs": [
    {
     "data": {
      "text/plain": [
       "draw_histogram (generic function with 1 method)"
      ]
     },
     "execution_count": 16,
     "metadata": {},
     "output_type": "execute_result"
    }
   ],
   "source": [
    "function draw_histogram(distribution;\n",
    "        title=\"\", xlabel=\"\", ylabel=\"\", ylim=(0, 1),\n",
    "        show_legend=false, show_grid=false)\n",
    "    \"\"\"\n",
    "    Plot the given distribution.\n",
    "    \"\"\"\n",
    "    \n",
    "    n = length(distribution)\n",
    "    p = bar(\n",
    "        collect(1:n),\n",
    "        distribution,\n",
    "        xlim=(0.5, n+0.5),\n",
    "        ylim=ylim,\n",
    "        title=title,\n",
    "        xlabel=xlabel,\n",
    "        ylabel=ylabel,\n",
    "        xticks=1:n,\n",
    "        legend=show_legend,\n",
    "        grid=show_grid\n",
    "    )\n",
    "    return p\n",
    "end\n"
   ]
  },
  {
   "cell_type": "markdown",
   "metadata": {},
   "source": [
    "Stationary distribution for the recurrent class:"
   ]
  },
  {
   "cell_type": "code",
   "execution_count": 17,
   "metadata": {
    "collapsed": false,
    "deletable": true,
    "editable": true
   },
   "outputs": [
    {
     "data": {
      "text/html": [
       "<img src=\"data:image/png;base64,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\" />"
      ]
     },
     "execution_count": 17,
     "metadata": {},
     "output_type": "execute_result"
    }
   ],
   "source": [
    "titles = [\"$recurrent_class\"\n",
    "          for recurrent_class in recurrent_classes(mc1)]\n",
    "\n",
    "ps = []\n",
    "for (title, dist) in zip(titles, stationary_distributions(mc1))\n",
    "    push!(ps, draw_histogram(dist, title=title, xlabel=\"States\"))\n",
    "end\n",
    "\n",
    "plot(ps..., layout=(1, 2))"
   ]
  },
  {
   "cell_type": "markdown",
   "metadata": {
    "deletable": true,
    "editable": true
   },
   "source": [
    "### Simulation"
   ]
  },
  {
   "cell_type": "markdown",
   "metadata": {
    "deletable": true,
    "editable": true
   },
   "source": [
    "Let us simulate our Markov chain `mc1`.\n",
    "The `simualte` method generates a sample path\n",
    "of length given by the first argument, `ts_length`,\n",
    "with an initial state as specified by an optional argument `init`;\n",
    "if not specified, the initial state is randomly drawn. "
   ]
  },
  {
   "cell_type": "markdown",
   "metadata": {
    "deletable": true,
    "editable": true
   },
   "source": [
    "A sample path from state `1`:"
   ]
  },
  {
   "cell_type": "code",
   "execution_count": 18,
   "metadata": {
    "collapsed": false,
    "deletable": true,
    "editable": true,
    "scrolled": false
   },
   "outputs": [
    {
     "data": {
      "text/plain": [
       "1×50 RowVector{Int64,Array{Int64,1}}:\n",
       " 1  1  1  1  1  1  1  1  1  1  1  1  1  …  1  1  1  1  1  1  1  1  1  1  1  1"
      ]
     },
     "execution_count": 18,
     "metadata": {},
     "output_type": "execute_result"
    }
   ],
   "source": [
    "simulate(mc1, 50, init=1)'"
   ]
  },
  {
   "cell_type": "markdown",
   "metadata": {
    "deletable": true,
    "editable": true
   },
   "source": [
    "As is clear from the transition matrix `P`,\n",
    "if it starts at state `1`, the chain stays there forever,\n",
    "i.e., `1` is an absorbing state, a state that constitutes a singleton recurrent class."
   ]
  },
  {
   "cell_type": "markdown",
   "metadata": {
    "deletable": true,
    "editable": true
   },
   "source": [
    "Start with state `2`:"
   ]
  },
  {
   "cell_type": "code",
   "execution_count": 19,
   "metadata": {
    "collapsed": false,
    "deletable": true,
    "editable": true
   },
   "outputs": [
    {
     "data": {
      "text/plain": [
       "1×50 RowVector{Int64,Array{Int64,1}}:\n",
       " 2  5  2  5  2  5  2  5  5  5  5  5  5  …  5  5  5  2  5  5  5  5  2  5  2  5"
      ]
     },
     "execution_count": 19,
     "metadata": {},
     "output_type": "execute_result"
    }
   ],
   "source": [
    "simulate(mc1, 50, init=2)'"
   ]
  },
  {
   "cell_type": "markdown",
   "metadata": {
    "deletable": true,
    "editable": true
   },
   "source": [
    "You can observe that the chain stays in the recurrent class $\\{2,5\\}$\n",
    "and visits states `2` and `5` with certain frequencies."
   ]
  },
  {
   "cell_type": "markdown",
   "metadata": {
    "deletable": true,
    "editable": true
   },
   "source": [
    "If `init` is not specified, the initial state is randomly chosen:"
   ]
  },
  {
   "cell_type": "code",
   "execution_count": 20,
   "metadata": {
    "collapsed": false,
    "deletable": true,
    "editable": true
   },
   "outputs": [
    {
     "data": {
      "text/plain": [
       "1×50 RowVector{Int64,Array{Int64,1}}:\n",
       " 5  5  5  2  5  5  5  2  5  5  5  2  5  …  2  5  2  5  2  5  2  5  2  5  5  5"
      ]
     },
     "execution_count": 20,
     "metadata": {},
     "output_type": "execute_result"
    }
   ],
   "source": [
    "simulate(mc1, 50)'"
   ]
  },
  {
   "cell_type": "markdown",
   "metadata": {
    "deletable": true,
    "editable": true
   },
   "source": [
    "**Note on reproducibility**:\n",
    "You can set a random seed to initialize\n",
    "the pseudo-random number generator.\n",
    "As you set the same random seed value,\n",
    "`simulate` returns the same outcome."
   ]
  },
  {
   "cell_type": "code",
   "execution_count": 21,
   "metadata": {
    "collapsed": false,
    "deletable": true,
    "editable": true
   },
   "outputs": [
    {
     "data": {
      "text/plain": [
       "1×50 RowVector{Int64,Array{Int64,1}}:\n",
       " 3  5  2  5  2  5  5  2  5  2  5  5  5  …  2  5  5  5  5  5  5  2  5  5  2  5"
      ]
     },
     "execution_count": 21,
     "metadata": {},
     "output_type": "execute_result"
    }
   ],
   "source": [
    "srand(12345) \n",
    "simulate(mc1, 50)'"
   ]
  },
  {
   "cell_type": "markdown",
   "metadata": {
    "deletable": true,
    "editable": true
   },
   "source": [
    "#### Time series averages"
   ]
  },
  {
   "cell_type": "markdown",
   "metadata": {
    "deletable": true,
    "editable": true
   },
   "source": [
    "Now, let us compute the frequency distribution along a sample path, given by\n",
    "$$\n",
    "\\frac{1}{t} \\sum_{\\tau=0}^{t-1} \\mathbf{1}\\{X_{\\tau} = s\\}\n",
    "\\quad (s \\in S).\n",
    "$$"
   ]
  },
  {
   "cell_type": "code",
   "execution_count": 22,
   "metadata": {
    "collapsed": false,
    "deletable": true,
    "editable": true
   },
   "outputs": [
    {
     "data": {
      "text/plain": [
       "time_series_dist (generic function with 1 method)"
      ]
     },
     "execution_count": 22,
     "metadata": {},
     "output_type": "execute_result"
    }
   ],
   "source": [
    "function time_series_dist(mc, t; init=rand(1:n_states(mc)))\n",
    "    \"\"\"\n",
    "    Return the distribution of visits by a sample path of length t\n",
    "    of mc with an initial state init.\n",
    "    \"\"\"\n",
    "    if typeof(t) == Int #t is an int\n",
    "        t_max = t\n",
    "        ts_size = 1\n",
    "        ts_array = [t]\n",
    "        dim = 1\n",
    "    else\n",
    "        t_max = maximum(t)\n",
    "        ts_size = length(t)  # t is an array\n",
    "        ts_array = t\n",
    "        dim = 2\n",
    "    end\n",
    "        \n",
    "    X = simulate(mc, t_max, init=init)\n",
    "    dists = [zeros(n_states(mc)) for i in 1:ts_size]\n",
    "    bins = 1:n_states(mc)+1\n",
    "    for (i, length) in enumerate(ts_array)\n",
    "        h = fit(Histogram, X[1:length], bins, closed=:left)\n",
    "        dists[i] = h.weights / length\n",
    "    end\n",
    "    \n",
    "    if dim == 1\n",
    "        return dists[1]\n",
    "    else\n",
    "        return dists\n",
    "    end\n",
    "end"
   ]
  },
  {
   "cell_type": "markdown",
   "metadata": {
    "deletable": true,
    "editable": true
   },
   "source": [
    "Here is a frequency distribution along a sample path,  of length 100,\n",
    "from initial state `2`, which is a recurrent state:"
   ]
  },
  {
   "cell_type": "code",
   "execution_count": 23,
   "metadata": {
    "collapsed": false,
    "deletable": true,
    "editable": true
   },
   "outputs": [
    {
     "data": {
      "text/plain": [
       "6-element Array{Float64,1}:\n",
       " 0.0\n",
       " 0.3\n",
       " 0.0\n",
       " 0.0\n",
       " 0.7\n",
       " 0.0"
      ]
     },
     "execution_count": 23,
     "metadata": {},
     "output_type": "execute_result"
    }
   ],
   "source": [
    "time_series_dist(mc1, 100, init=2)"
   ]
  },
  {
   "cell_type": "markdown",
   "metadata": {
    "deletable": true,
    "editable": true
   },
   "source": [
    "Length 10,000:"
   ]
  },
  {
   "cell_type": "code",
   "execution_count": 24,
   "metadata": {
    "collapsed": false,
    "deletable": true,
    "editable": true
   },
   "outputs": [
    {
     "data": {
      "text/plain": [
       "6-element Array{Float64,1}:\n",
       " 0.0   \n",
       " 0.3328\n",
       " 0.0   \n",
       " 0.0   \n",
       " 0.6672\n",
       " 0.0   "
      ]
     },
     "execution_count": 24,
     "metadata": {},
     "output_type": "execute_result"
    }
   ],
   "source": [
    "time_series_dist(mc1, 10^4, init=2)"
   ]
  },
  {
   "cell_type": "markdown",
   "metadata": {
    "deletable": true,
    "editable": true
   },
   "source": [
    "The distribution becomes close to the stationary distribution `(0, 1/3, 0, 0, 2/3, 0)`."
   ]
  },
  {
   "cell_type": "markdown",
   "metadata": {
    "deletable": true,
    "editable": true
   },
   "source": [
    "Plot the frequency distributions for a couple of different time lengths:"
   ]
  },
  {
   "cell_type": "code",
   "execution_count": 25,
   "metadata": {
    "collapsed": false,
    "deletable": true,
    "editable": true
   },
   "outputs": [
    {
     "data": {
      "text/plain": [
       "plot_time_series_dists (generic function with 1 method)"
      ]
     },
     "execution_count": 25,
     "metadata": {},
     "output_type": "execute_result"
    }
   ],
   "source": [
    "function plot_time_series_dists(mc, ts; init=rand(1:n_states(mc)), layout=(1,length(ts)))\n",
    "    dists = time_series_dist(mc, ts, init=init)\n",
    "    titles = [\"t=$t\" for t in ts]\n",
    "\n",
    "    ps = []\n",
    "    for (title, dist) in zip(titles, dists)\n",
    "        p = draw_histogram(dist, title=title, xlabel=\"States\")\n",
    "        push!(ps, p)\n",
    "    end\n",
    "    plot(ps..., layout=layout)\n",
    "end"
   ]
  },
  {
   "cell_type": "code",
   "execution_count": 26,
   "metadata": {
    "collapsed": false,
    "deletable": true,
    "editable": true
   },
   "outputs": [
    {
     "data": {
      "text/html": [
       "<img src=\"data:image/png;base64,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\" />"
      ]
     },
     "execution_count": 26,
     "metadata": {},
     "output_type": "execute_result"
    }
   ],
   "source": [
    "init = 2\n",
    "ts = [5, 10, 50, 100]\n",
    "plot_time_series_dists(mc1, ts, init=init)"
   ]
  },
  {
   "cell_type": "markdown",
   "metadata": {
    "deletable": true,
    "editable": true
   },
   "source": [
    "Start with state `3`,\n",
    "which is a transient state:"
   ]
  },
  {
   "cell_type": "code",
   "execution_count": 27,
   "metadata": {
    "collapsed": false,
    "deletable": true,
    "editable": true
   },
   "outputs": [
    {
     "data": {
      "text/html": [
       "<img src=\"data:image/png;base64,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\" />"
      ]
     },
     "execution_count": 27,
     "metadata": {},
     "output_type": "execute_result"
    }
   ],
   "source": [
    "init = 3\n",
    "ts = [5, 10, 50, 100]\n",
    "plot_time_series_dists(mc1, ts, init=init)"
   ]
  },
  {
   "cell_type": "markdown",
   "metadata": {
    "deletable": true,
    "editable": true
   },
   "source": [
    "Run the above cell several times;\n",
    "you will observe that the limit distribution differs across sample paths.\n",
    "Sometimes the state is absorbed into the recurrent class $\\{1\\}$,\n",
    "while other times it is absorbed into the recurrent class $\\{2,5\\}$."
   ]
  },
  {
   "cell_type": "code",
   "execution_count": 28,
   "metadata": {
    "collapsed": false,
    "deletable": true,
    "editable": true
   },
   "outputs": [
    {
     "name": "stdout",
     "output_type": "stream",
     "text": [
      "Some sample path with init=3\n"
     ]
    },
    {
     "data": {
      "text/html": [
       "<img src=\"data:image/png;base64,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\" />"
      ]
     },
     "execution_count": 28,
     "metadata": {},
     "output_type": "execute_result"
    }
   ],
   "source": [
    "init = 3\n",
    "ts = [5, 10, 50, 100]\n",
    "seed = 222\n",
    "println(\"Some sample path with init=$init\")\n",
    "\n",
    "srand(seed)\n",
    "plot_time_series_dists(mc1, ts, init=init)"
   ]
  },
  {
   "cell_type": "code",
   "execution_count": 29,
   "metadata": {
    "collapsed": false,
    "deletable": true,
    "editable": true
   },
   "outputs": [
    {
     "name": "stdout",
     "output_type": "stream",
     "text": [
      "Another sample path with init=3\n"
     ]
    },
    {
     "data": {
      "text/html": [
       "<img src=\"data:image/png;base64,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\" />"
      ]
     },
     "execution_count": 29,
     "metadata": {},
     "output_type": "execute_result"
    }
   ],
   "source": [
    "seed = 2222\n",
    "println(\"Another sample path with init=$init\")\n",
    "\n",
    "srand(seed)\n",
    "plot_time_series_dists(mc1, ts, init=init)"
   ]
  },
  {
   "cell_type": "markdown",
   "metadata": {
    "deletable": true,
    "editable": true
   },
   "source": [
    "In fact,\n",
    "for almost every sample path of a finite Markov chain $\\{X_t\\}$,\n",
    "for some recurrent class $C$ we have\n",
    "$$\n",
    "\\frac{1}{t} \\sum_{\\tau=0}^{t-1} \\mathbf{1}\\{X_{\\tau} = s\\} \\to \\psi^C[s]\n",
    "\\quad \\text{as $t \\to \\infty$}\n",
    "$$\n",
    "for all states $s$,\n",
    "where $\\psi^C$ is the stationary distribution associated with the recurrent class $C$.\n",
    "\n",
    "If the initial state $s_0$ is a recurrent state,\n",
    "then the recurrent class $C$ above is the one that contains $s_0$,\n",
    "while if it is a transient state,\n",
    "then the recurrent class to which the convergence occurs depends on the sample path."
   ]
  },
  {
   "cell_type": "markdown",
   "metadata": {
    "deletable": true,
    "editable": true
   },
   "source": [
    "Let us simulate with the remaining states, `4`, `5`, and `6`."
   ]
  },
  {
   "cell_type": "markdown",
   "metadata": {},
   "source": [
    "Time series distributions for t=100"
   ]
  },
  {
   "cell_type": "code",
   "execution_count": 30,
   "metadata": {
    "collapsed": false,
    "deletable": true,
    "editable": true
   },
   "outputs": [
    {
     "data": {
      "text/html": [
       "<img src=\"data:image/png;base64,iVBORw0KGgoAAAANSUhEUgAAAlgAAAGQCAYAAAByNR6YAAAABHNCSVQICAgIfAhkiAAAAAlwSFlzAAAPYQAAD2EBqD+naQAAIABJREFUeJzt3Xl0k3Wi//FP2kKK0JalLC00rSylCqUUgeGi7COLjFYGBI6y9IKCI9U7juPlcI8C6hFcjozLwICjgssojIJ4BZw7oIIbg4CggJQdGoZKrUjLWij9/v7g12hIghS+Sbq8X+fk2Dx5nuf7TcjHfPJkk6nmPv74YyPJTJs27ZK32bdvn5Fkxo4de0Vj9+rVy0i6on0AwUQ+gMDIB65EhCqp/fv3y+FwaODAgUHZf0pKilJSUoKy72BzOBzq3bu3lX1Nnz5dDodDq1evtrK/ymDv3r2qV6+eHA6H7r777nBPJyjIR2Dkw1v5dQh02r9/f7inaB35CIx8+Ldv3z7dddddSk5OltPpVNOmTdWnTx+9/fbbl73PKIvzq5S6du2q7du3Kz4+/pK3ad68ubZv3664uLggzgzBUFZWpuzs7HBPo8ogHzXH2LFj/ZaC+vXrh34yVQT5qBlWrlypW2+9VZJ08803q2XLlvrxxx/1zTffaNWqVbrtttsua7/VvmBdddVVSktLq9A2tWrVqvA2qBz+9Kc/ae3atXr66ad1//33h3s6lR75qDmys7OtHbmoKchH9ZeXl6dhw4apefPmWrVqlVwul9flpaWll73vSvsSYSDZ2dlyOBzat2+fnn/+eaWlpcnpdCo5OVmPPPKIysrKvNZfvXq1HA6Hpk+fLumnQ8cHDhzQgQMHvA6VX7jOhUdCNm7cqJycHLVv315xcXGqU6eO0tPT9cQTT+js2bNXfN0+/vhjDRo0SImJiZ5DlD169NCLL77odV0kac2aNV5zX7BggSSpqKhITz75pHr16qXExETVrl1biYmJGjNmjPbs2eM1Xu/evfXII49Ikvr06ePZ14XPcgsKCnT//ferdevWcjqdio+P19ChQ7V169Yrvs425ebm6qGHHtKUKVPUsWPHcE8nLMgH+UBg5IN8XGjGjBkqLi7W3LlzfcqVJEVFXf5xqCp7BOvBBx/UmjVr9Jvf/EYDBgzQ0qVLNX36dJ05c0aPP/54wO3q16+vadOm6dlnn5Uk/f73v/dc9kvP7v7617/q/fffV8+ePXXTTTfp5MmTWr16taZMmaL169dr8eLFl319li9frptvvln169dXVlaWEhIS9P333+vrr7/W66+/rgkTJiglJUXTpk3TI488ouTkZK8AlxeK7du3a+rUqerTp4+GDBmiunXrKjc3V2+++aaWL1+ur776SsnJyZLk2X7NmjVeLx/8/CWDPXv2qHfv3jp48KD69++vW2+9VQUFBVq8eLH+7//+Tx9++KF+9atfXfb1tuXcuXMaO3as2rRpo4ceekhffPFFuKcUVuSDfFzok08+0bp16xQREaE2bdro17/+terVqxfuaYUF+SAfkmSM0dtvv61GjRqpb9++2rhxo9asWaOysjJ17NhRffv2VUTEFRyHCve77AMp/yTGgAEDvJaPHTvWSDJXX321OXTokGf5999/b+rXr29iYmJMSUmJZ3mgT4EkJyeb5OTki4594adADhw4YEpLS72WlZWVmXHjxhlJ5rPPPvO6rCKfAvntb39rJJnNmzf7XFZYWOh1XpLp1auX3/0cPXrU/PDDDz7LP/roIxMREWHuvPNOr+XTpk0zkszHH3/sd3/du3c3kZGR5h//+IfX8h07dpiYmBiTnp5+kWv1k3379plp06ZV6FQRjz32mImKijIbNmwwxvz07z5x4sQK7aeqIB8/IR8XV34dLjzVr1/fvPrqq5e8n6qEfPyEfAS2Z88eI8l07tzZTJgwwScjmZmZxu12X9K+/KmyR7AefvhhJSQkeM7Hx8crKytLr776qnbs2KH09HTrY/o7fOhwODRp0iS98sorWrVqla6//vorGqNOnTo+yxo1anTJ2wd6Y2WfPn3Url07rVq16pL3tWnTJn3xxRcaN26cBgwY4HVZamqq7rrrLs2aNUtbt25V+/btL7qv/fv3ew4nX6ryQ+6/5Ouvv9ajjz6qBx98UNddd12FxqiuyId/NTEfGRkZeuWVV9S7d28lJCTou+++07JlyzR16lRlZ2erfv36uuWWWyo0dlVHPvyrafkoKCjwzDU3N1fz589XVlaWioqKNGPGDP31r3/VsGHD9K9//atCY5ersgXL3wNpixYtJElHjx4NyphnzpzRn//8Zy1cuFC5ubk6fvy4jDGeyw8dOnTZ+x45cqSWLFmibt266fbbb1e/fv3Uo0ePCn16pdzq1av17LPPat26dSosLPR6k17t2rUveT/ld6rDhw/7vbPm5uZ6/vtLAendu7fXbWXLmTNnNHbsWLVu3VrTpk2zvv+qinwEVpPyIUlDhgzxOp+SkqKcnBxdc801uvHGG/XQQw/VuIJFPgKrSfkof8/duXPn9Nhjj3le9mzQoIFefPFFffPNN1q3bp0+++wz3XDDDRXef5UtWLGxsT7Lyt+Mdu7cuaCMOWzYML3//vtKTU3ViBEj1KRJE9WqVUtHjx7Vc889p5KSksve92233aalS5dq1qxZmjt3rmbPni2Hw6E+ffromWeeueQ3bb/99tsaMWKE6tWrpwEDBiglJUVXXXWV542MBw4cuOQ5HTlyRNL51/eXL18ecL0TJ05c8j5tmzlzprZs2aIvvvhCTqczbPOobMiHfzUtHxfTr18/tWrVSlu2bFFxcbHf+0x1RT78q2n5+PkRO39PMm6++WatW7dOGzZsqFkFK9TWr1+v999/XwMGDNDy5csVGRnpuexf//qXnnvuuSseIysrS1lZWTp27Jg+//xzLVmyRC+//LIGDhyo3NzcS/q+munTpys6OlobN25UmzZtvC5buHBhheZT/j+hF154QTk5ORXa9kL79+/3fFLlUl3KId5NmzaprKxM3bp183v5vHnzNG/ePGVlZWnp0qUVGh+XjnxUznz8kvj4eO3evVsnT56sUQUr1MhH5cxHq1atFBkZqXPnzvm9fcqXnTp1qkJjl6uxBSsyMlJnzpy55PXLP6I6ePBgr3BI0qeffmp1bjExMRo4cKAGDhyoc+fO6ZVXXtG6des8r2NHREQEfJa1Z88etWvXzicc+fn52rt3r8/65dfF3/7KP92xdu1aKwEJxmvoN954o9/D4Pn5+VqxYoXS0tJ0/fXXKzMzs0Jj13Tk47yqno+LOXHihLZt26a6dete1ktJNRn5OK+q5yM6Olrdu3fXp59+qm+//dbnKNW3334rSZf9rf1V7nuwbGnYsKEKCwt1+vTpS1q//KOpn332mdfybdu2aebMmVc8n08++cTvnbT8TXjR0dGeZQ0bNtTBgwcDznP37t06fPiwZ9np06f1u9/9zu93rTRs2FCS5Ha7fS7r2rWrfvWrX+mtt97SokWLfC4vKyvTmjVrfuGanVf+GnpFTpdi0qRJeumll3xODz74oCSpV69eeumllzRp0qRL2h/OIx8/7Uuquvk4duyYdu7c6bP81KlTuuuuu3Ts2DENHz78ir7rpyYiHz/tS6q6+ZCk3/3ud5LOF7Kfv0ybm5urBQsWeArr5aixqerbt682bNigQYMGqUePHqpdu7Z69uypnj17+l2/a9eu6tq1q/7+978rPz9f3bp1U15env73f/9XgwcP1jvvvHNF87nvvvt06NAh3XDDDUpJSZHD4dBnn32mL7/8Ut26dfNq1n379tXf//533XrrrcrMzFRkZKRuueUWdejQQffee6/uvfdeZWZmatiwYSotLdXKlStljFFGRoa+/vprr3HLvyDuf/7nf7Rt2zbFxcWpfv36nmccb731lvr06aORI0fq2WefVadOnVSnTh3l5eVp7dq1+v777y/5fzKoOsjHeVU9Hz/88IPS0tLUpUsXXXPNNWrWrJkOHz6sVatW6eDBg0pPT9fTTz8dtvlVVeTjvKqeD+mnDwi88847ysjI0IABA1RUVKTFixfr9OnTeu2119SgQYPL2/llf8FDkP3S95js27fPZxt/38kR6HtMjh07Zu666y6TkJBgIiMjvdYJ9D0mBQUFZty4cSYxMdFER0eb9PR0M3v2bLN3716/61fke0wWLlxohg8fblq1amWuuuoqExcXZzIyMsyTTz5pjh075rVufn6+GT58uImPjzcRERFGkpk/f74x5vz3qsydO9e0a9fOREdHm2bNmpnx48ebgoKCgPNZsGCBSU9PN06n00jy+X6XI0eOmIceesi0b9/e1KlTx9SrV8+0adPG3H777WbJkiWXdP1CraZ/Dxb5IB/GGFNUVGQmTZpkunTpYho3bmyioqJMTEyM6dq1q3nqqafMyZMnwzq/YCEf5KMizp49a2bNmmXatWtnnE6niY2NNf379zerV6++ov06jAnSZ4MBAABqqBr7HiwAAIBgoWABAABYRsECAACwjIIFAABgmadg3XfffZ6Pd27evDngBsuWLVNaWpratGmj3/72tyouLg7JRIFwIh9AYOQD8OUpWMOGDdNnn33m+UI0f44fP67x48dr6dKl2rVrlxITE/XYY4+FZKJAOJEPIDDyAfjyFKyePXt6fk08kA8++ECZmZlKS0uTJN1zzz166623gjtDoBIgH0Bg5APwVaFvcs/Ly/N6hpKSkqL8/HyVlpb6/amFkpISr6+eLysr05EjR9SoUSM5HI4rmDZgnzFGx44dU2JioiIiKv72RPKB6ox8AIH5y0dQfypn5syZFf6BRiDc3G73Lz4bt4F8oCoiH0BgP89HhQqWy+XSypUrPef379+vhISEgD8UOmXKFP3hD3/wnC8qKpLL5ZLb7VZsbOzlzB0ImuLiYiUlJSkmJuayticfqM7IBxCYv3xUqGANHDhQkyZNUm5urtLS0jRnzhyNHDky4PpOp1NOp9Nn+d69e1WvXr2KDH3Z4uPj5XK5QjIWqofLffnBVj5iY2N5AEGlFe588PiByswrH+U/SjhhwgTTvHlzExkZaZo0aWJatWpljDHm4YcfNn/5y188P1743nvvmbZt25pWrVqZrKwsc/To0Uv+4cOioiIjKaSn6DpXmQMHDlzRDzaiZii/fxYVFflcFsp8+BsfCLfKkg8eP1AZ+ctHSH/subi4WHFxcdKIP0mtuwd/wO+2Sy9na+PGjerUqVPwx0OVVn7/LCoqCssRpHCPD1xMuO+fPH6gMvOXj6C+yT2gpA5ScmZYhgYAVGE8fqCK4KdyAAAALKNgAQAAWEbBAgAAsIyCBQAAYBkFCwAAwDIKFgAAgGUULAAAAMsoWAAAAJZRsAAAACyjYAEAAFhGwQIAALCMggUAAGAZBQsAAMAyChYAAIBlFCwAAADLKFgAAACWUbAAAAAso2ABAABYRsECAACwjIIFAABgGQULAADAMgoWAACAZRQsAAAAyyhYAAAAllGwAAAALKNgAQAAWEbBAgAAsIyCBQAAYBkFCwAAwDIKFgAAgGUULAAAAMsoWAAAAJZRsAAAACyjYAEAAFhGwQIAALCMggUAAGAZBQsAAMAyChYAAIBlFCwAAADLKFgAAACWUbAAAAAso2ABAABYRsECAACwjIIFAABgGQULAADAMgoWAACAZRQsAAAAyyhYAAAAllGwAAAALKNgAQAAWEbBAgAAsIyCBQAAYBkFCwAAwDIKFgAAgGUULAAAAMsoWAAAAJZRsAAAACzzFKxdu3ape/fuSk1NVZcuXbRt2za/Gzz55JO69tpr1bFjR3Xr1k1ffvllyCYLhAv5AAIjH4AvT8GaOHGiJkyYoJ07d2ry5MnKzs72WXnz5s2aM2eOvvzyS23evFk5OTnKyckJ5XyBsCAfQGDkA/AVIUkFBQXasGGDRo0aJUkaOnSo3G63du/e7bWyw+HQ2bNndeLECUnS0aNH1aJFixBPGQgt8gEERj4A/6Ikye12KyEhQVFRUZLOB8HlcikvL0+tW7f2rJyRkaH7779fV199tRo2bCin06lPPvkk4M5LSkpUUlLiOV9cXBys6wEEDfkAAiMfgH8VepP7vn37tGTJEu3evVsHDx7U/fffrxEjRgRcf+bMmYqLi/OckpKSrnjCQGVFPoDAyAdqmghJSkpKUn5+vkpLSyVJxhjl5eXJ5XJ5rbx48WKlp6crMTFRkvSf//mf+vzzz3XmzBm/O58yZYqKioo8J7fbHczrAgQF+QACIx+AfxGS1KRJE3Xq1ElvvPGGpPNBaNGihdfhXUlq2bKlPv/8cx0/flyStGzZMqWmpqp27dp+d+50OhUbG+t1Aqoa8gEERj4A/6LK/5g3b56ys7M1Y8YMxcbGav78+ZKkqVOnKjExUXfffbeGDBmi9evXq3PnznI6napbt67efPPNsE0eCBXyAQRGPgBfDmOMCdVgxcXFiouLk/74oZTaI/gDHtgkPf4rbdy4UZ06dQr+eKjSyu+fRUVFYXm2HO7xgYsJ9/2Txw9UZv7ywTe5AwAAWEbBAgAAsIyCBQAAYBkFCwAAwDIKFgAAgGUULAAAAMsoWAAAAJZRsAAAACyjYAEAAFhGwQIAALCMggUAAGAZBQsAAMAyChYAAIBlFCwAAADLKFgAAACWUbAAAAAso2ABAABYRsECAACwjIIFAABgGQULAADAMgoWAACAZRQsAAAAyyhYAAAAllGwAAAALKNgAQAAWEbBAgAAsIyCBQAAYBkFCwAAwDIKFgAAgGUULAAAAMsoWAAAAJZRsAAAACyjYAEAAFhGwQIAALAsKtwTAIDqIj8/X/n5+SEbLz4+Xi6XK2TjAbh0FCwAsCA/P1+JiYkhHTO6zlXakbudkgVUQhQsALDAc+Rq9FzJlRn8Ab/brtMvZ6uwsJCCBVRCFCwAsMmVKSWHoGABqNR4kzsAAIBlFCwAAADLKFgAAACWUbAAAAAso2ABAABYRsECAACwjIIFAABgGQULAADAMgoWAACAZRQsAAAAyyhYAAAAllGwAAAALKNgAQAAWEbBAgAAsIyCBQAAYBkFCwAAwDIKFgAAgGUULAAAAMsoWAAAAJZRsAAAACzzFKxdu3ape/fuSk1NVZcuXbRt2za/G+Tl5enmm29W27Ztde211+qFF14I2WSBcCEfQGDkA/DlKVgTJ07UhAkTtHPnTk2ePFnZ2dk+KxtjNGTIEI0ZM0Y7duzQt99+q+HDh4dyvkBYkA8gMPIB+IqQpIKCAm3YsEGjRo2SJA0dOlRut1u7d+/2WvnDDz+U0+nUbbfd5lnWtGnTEE4XCD3yAQRGPgD/IiTJ7XYrISFBUVFRkiSHwyGXy6W8vDyvlb/99ls1btxYI0eOVGZmpoYMGaK9e/cG3HlJSYmKi4u9TkBVQz6AwMgH4F+F3uReWlqqjz76SA8//LA2bdqkAQMGXPQQ78yZMxUXF+c5JSUlXfGEgcqKfACBkQ/UNBGSlJSUpPz8fJWWlko6/1p5Xl6eXC6X18oul0uZmZlq166dJGn06NH66quvdPbsWb87nzJlioqKijwnt9sdzOsCBAX5AAIjH4B/EZLUpEkTderUSW+88YYkafHixWrRooVat27ttfKgQYN08OBB/fvf/5YkrVixQtdcc41q1arld+dOp1OxsbFeJ6CqIR9AYOQD8C+q/I958+YpOztbM2bMUGxsrObPny9Jmjp1qhITE3X33Xerbt26mjt3rgYPHixjjOLi4rRw4cKwTR4IFfIBBEY+AF+egtW2bVutXbvWZ4VHH33U63z//v3Vv3//4M8MqETIBxAY+QB88U3uAAAAllGwAAAALKNgAQAAWEbBAgAAsIyCBQAAYBkFCwAAwDIKFgAAgGUULAAAAMsoWAAAAJZRsAAAACyjYAEAAFhGwQIAALCMggUAAGAZBQsAAMAyChYAAIBlFCwAAADLKFgAAACWUbAAAAAso2ABAABYRsECAACwjIIFAABgGQULAADAMgoWAACAZRQsAAAAyyhYAAAAllGwAAAALKNgAQAAWEbBAgAAsIyCBQAAYBkFCwAAwDIKFgAAgGUULAAAAMsoWAAAAJZRsAAAACyjYAEAAFhGwQIAALCMggUAAGAZBQsAAMAyChYAAIBlFCwAAADLKFgAAACWUbAAAAAso2ABAABYRsECAACwjIIFAABgGQULAADAMgoWAACAZRQsAAAAyyhYAAAAllGwAAAALKNgAQAAWEbBAgAAsIyCBQAAYBkFCwAAwDIKFgAAgGUULAAAAMsoWAAAAJZRsAAAACzzFKxdu3ape/fuSk1NVZcuXbRt27aLbpidnS2Hw6GjR48GfZJAuJEPIDDyAfjyFKyJEydqwoQJ2rlzpyZPnqzs7OyAGy1ZskS1atUKxfyASoF8AIGRD8BXhCQVFBRow4YNGjVqlCRp6NChcrvd2r17t88Ghw8f1owZMzRr1qzQzhQIE/IBBEY+AP8iJMntdishIUFRUVGSJIfDIZfLpby8PJ8N7rrrLj311FOKiYn5xZ2XlJSouLjY6wRUNeQDCIx8AP5V6E3uL730klwul/r27XtJ68+cOVNxcXGeU1JS0mVNEqgKyAcQGPlATRMhSUlJScrPz1dpaakkyRijvLw8uVwur5U//vhjvffee0pJSVFKSookqUOHDtq0aZPfnU+ZMkVFRUWek9vtDuJVAYKDfACBkQ/AvyhJatKkiTp16qQ33nhD2dnZWrx4sVq0aKHWrVt7rfy3v/3N67zD4dA333yj+vXr+9250+mU0+kM0tSB0CAfQGDkA/AvqvyPefPmKTs7WzNmzFBsbKzmz58vSZo6daoSExN19913h22SQLiRDyAw8gH48hSstm3bau3atT4rPProowE3NsYEZ1ZAJUM+gMDIB+CLb3IHAACwjIIFAABgGQULAADAMgoWAACAZRQsAAAAyyhYAAAAllGwAAAALKNgAQAAWEbBAgAAsIyCBQAAYBkFCwAAwDIKFgAAgGUULAAAAMsoWAAAAJZRsAAAACyjYAEAAFhGwQIAALCMggUAAGAZBQsAAMAyChYAAIBlFCwAAADLosI9AQDhk5+fr/z8/JCNFx8fL5fLFbLxACBcKFhADZWfn6/ExMSQjhld5yrtyN1OyQJQ7VGwgBrKc+Rq9FzJlRn8Ab/brtMvZ6uwsJCCBaDao2ABNZ0rU0oOQcECgBqEN7kDAABYRsECAACwjIIFAABgGQULAADAMgoWAACAZRQsAAAAyyhYAAAAllGwAAAALKNgAQAAWEbBAgAAsIyCBQAAYBkFCwAAwDIKFgAAgGUULAAAAMsoWAAAAJZRsAAAACyjYAEAAFhGwQIAALCMggUAAGAZBQsAAMAyChYAAIBlFCwAAADLKFgAAACWUbAAAAAso2ABAABYRsECAACwjIIFAABgGQULAADAMgoWAACAZRQsAAAAyyhYAAAAllGwAAAALKNgAQAAWOYpWLt27VL37t2VmpqqLl26aNu2bT4rb9myRT179lRaWprat2+vcePG6dSpUyGdMBAO5AMIjHwAvjwFa+LEiZowYYJ27typyZMnKzs722fl6Oho/fnPf1Zubq6+/vprnThxQk8++WQo5wuEBfkAAiMfgK8ISSooKNCGDRs0atQoSdLQoUPldru1e/dur5XbtGmjDh06SJIiIyPVpUsX7d+/P7QzBkKMfACBkQ/AvwhJcrvdSkhIUFRUlCTJ4XDI5XIpLy8v4IYnTpzQSy+9pKysrIDrlJSUqLi42OsEVDXkAwiMfAD+Xdab3M+cOaMRI0aof//+GjJkSMD1Zs6cqbi4OM8pKSnpsicKVBXkAwiMfKCmiJCkpKQk5efnq7S0VJJkjFFeXp5cLpfPBmfPntWIESOUkJCg55577qI7nzJlioqKijwnt9sdhKsABBf5AAIjH4B/EZLUpEkTderUSW+88YYkafHixWrRooVat27ttXJpaalGjhyphg0b6sUXX5TD4bjozp1Op2JjY71OQFVDPoDAyAfgn+clwnnz5mnevHlKTU3VE088ofnz50uSpk6dqrlz50qSFi1apCVLlmjDhg3KzMxUx44dNWnSpPDMHAgh8gEERj4AX1Hlf7Rt21Zr1671WeHRRx/1/H3HHXfojjvuCM3MgEqEfACBkQ/AF9/kDgAAYBkFCwAAwDIKFgAAgGUULAAAAMsoWAAAAJZRsAAAACyjYAEAAFhGwQIAALCMggUAAGAZBQsAAMAyChYAAIBlFCwAAADLKFgAAACWUbAAAAAso2ABAABYRsECAACwjIIFAABgGQULAADAMgoWAACAZRQsAAAAyyhYAAAAllGwAAAALKNgAQAAWEbBAgAAsIyCBQAAYBkFCwAAwDIKFgAAgGUULAAAAMsoWAAAAJZRsAAAACyjYAEAAFhGwQIAALCMggUAAGAZBQsAAMAyChYAAIBlFCwAAADLKFgAAACWUbAAAAAso2ABAABYRsECAACwjIIFAABgGQULAADAMgoWAACAZRQsAAAAyyhYAAAAllGwAAAALKNgAQAAWEbBAgAAsIyCBQAAYBkFCwAAwDIKFgAAgGUULAAAAMsoWAAAAJZRsAAAACyjYAEAAFhGwQIAALCMggUAAGAZBQsAAMCyqPI/du3apbFjx6qwsFBxcXFasGCB2rVr57PBsmXL9Mc//lHnzp1Tenq6FixYoNjY2JBOGj/Jz89Xfn5+yMaLj4+Xy+UK2XiVBfkAAiMfqIxC+fh4/Phxn2WegjVx4kRNmDBB2dnZeuedd5Sdna3169f77GD8+PFas2aN0tLSlJOTo8cee0xPP/108GcPH/n5+UpMTAzpmNF1rtKO3O01rmSRDyAw8oHKJhyPjxeKkqSCggJt2LBB//znPyVJQ4cOVU5Ojnbv3q3WrVt7Vv7ggw+UmZmptLQ0SdI999yj/v37E5Aw8TTz0XMlV2bwB/xuu06/nK3CwsIaVbDIBxAY+UBlFPLHx7yvpNd/57UoSpLcbrcSEhIUFXX+gJbD4ZDL5VJeXp5XQPLy8pScnOw5n5KSovz8fJWWlnq2/bmSkhKVlJR4zhcVFZ2W/0BEAAALVElEQVT/w/21vSt1MYd3SpIWLlyozz//PCRDRkdH6/Tp0yEZy+12//+/jFTie3jSujOnJFXf2/PUqfPXzxjjtTzU+Zg7d67q1Klj74oF4Ln/5H0VmvtPTcljNb09K0s+ePxgvEsRrsfHn+fD915t0cyZM/XII4/4XrDoD8Ec1ke1f4Z0QWsOtup+ex47dkxxcXFBHydQPiZPnhz0sb1w/7Grmt+e4c4Hjx+okBDn8ef5iJKkpKQkr2cSxhjl5eX5vAzkcrm0cuVKz/n9+/d7PXO50JQpU/SHP/wUhrKyMh05ckSNGjWSw+G45AkXFxcrKSlJbrc7JG+IZLyaOZ4xRseOHfN53Z58MB7jkQ/GY7yL8ZsP8//16tXLzJ8/3xhjzNtvv22uu+46c6Hi4mLTuHFjs337dmOMMZMmTTIPPPCAz3q2FRUVGUmmqKgo6GMxHuP5Qz4Yj/ECIx+Mx3i+PE8d5s2bp+zsbM2YMUOxsbGaP3++JGnq1KlKTEzU3XffrZiYGL300ku69dZbVVpaqvbt2+vVV1+93KIIVBnkAwiMfAC+HMZc8I7FSqi4uFhxcXEqKioK2SFCxmO8qqK6376MV7XHC7fqfvsyXuUdL3L69OnT7UwruCIjI9W7d++Ar9czHuOFc7xwq+63L+NV7fHCrbrfvoxXOcerEkewAAAAqhJ+ixAAAMAyChYAAIBlFCwAAADLKn3Buu+++5SSkiKHw6HNmzcHdazTp0/r1ltvVWpqqjIyMnTjjTdq9+7dQR2zf//+6tChgzp27KgePXpo06ZNQR2v3Pz58+VwOLR06dKgjpOSkqK2bduqY8eO6tixoxYtWhTU8UpKSpSTk6M2bdooPT1do0aNCup44UY+goN8VA/kIzjIxyW64m/SCrI1a9YYt9ttkpOTzaZNm4I61qlTp8zy5ctNWVmZMcaYF154wfTq1SuoY/7444+ev5csWWI6dOgQ1PGMMWbfvn3mP/7jP0y3bt3Mu+++G9SxQvHv9nO///3vTU5OjuffMD8/P2RjhwP5sI98VB/kwz7ycekq/RGsnj17qkWLFiEZKzo6WjfddJPnZxi6deum/fv3B3XM+vXre/4uKiqq0E9AXI6ysjLdeeedeuGFF+R0OoM6VqidOHFCL7/8sh5//HHP7disWbMwzyq4yIdd5KN6IR92kY+KqfQFK5yee+45ZWVlBX2cMWPGKCkpSQ8//LBef/31oI41a9YsXX/99bruuuuCOs7PjR49Wunp6Ro/fry+//77oI2zZ88eNWzYUDNmzFDnzp3Vo0cPffjhh0Ebr6YjH3aQj+qJfNhRpfNh47BaKIT6UOHjjz9uunXrZk6cOBGyMRcsWGAGDRoUtP1v2bLFdOvWzZw5c8YYc/73w4J9iPfAgQPGGGPOnDlj/vu//zuo12/jxo1Gknn11VeNMcZ89dVXplGjRua7774L2piVBfm4cuSj+iIfV458VBwFy4+nn37aXHfddV6vb4dKdHS0KSwsDMq+58yZY5o1a2aSk5NNcnKycTqdpnHjxmbOnDlBGe9Chw4dMvXq1Qva/r///nsTERFhSktLPcs6d+5sVq5cGbQxKwvyceXIR/VFPq4c+ag4CtYFnnnmGdOpUydz5MiRoI/1448/mn//+9+e8++++65p3ry55w12wRbsZyDHjx/3+p/MM888Y3r06BG08Ywx5sYbbzTLly83xhizd+9e06hRI3Pw4MGgjlkZkA/7yEf1QT7sIx+/rNL/ENXEiRO1fPlyfffddxowYIBiYmKC9tHXgwcP6oEHHlDLli3Vp08fSZLT6dS6deuCMl5RUZFuu+02nTp1ShEREWrcuLGWLVsW9Dcqhsrhw4c1dOhQnTt3TsYYtWzZUq+99lpQx5w7d67Gjx+vyZMnKyIiQvPmzVPz5s2DOmY4kY+qi3wEH/mouqpDPvgtQgAAAMv4FCEAAIBlFCwAAADLKFgAAACWUbAAAAAso2ABAABYRsECAACwjIIFAABgGQUrRP72t7+pa9euiouLU2xsrK655hrdeeedKigo8Kzz7LPPasWKFZe1/9WrV2vGjBm2pguEFPkAAiMfVRMFKwSeeuopjR49Wj169NCiRYu0aNEijRs3Ths2bNChQ4c86xEQ1ETkAwiMfFRdlf6ncqqD559/XtnZ2XrmmWc8ywYNGqQHH3xQZWVlYZwZEH7kAwiMfFRdHMEKgR9//FEJCQl+L4uIOP9PkJKSogMHDmj27NlyOBxyOBxasGCBJOm1117TDTfcoIYNG6pBgwbq3bu3vvzyS88+pk+frkceeUQnTpzwbNu7d2/P5du3b1dWVpbi4uJUt25dDR48WHv27PGaxyuvvKJ27dqpTp06atSokW644QatX7/e7g0B+EE+gMDIR9XFEawQuO666zR37lxdffXV+s1vfqNmzZr5rPPuu+/qpptu0g033KAHHnhAktSqVStJ0r59+3THHXeoTZs2Onv2rN566y317NlT33zzjVJTU3XnnXfq4MGDevPNN/XRRx9JkmJjYyVJe/fuVffu3dW+fXstWLBAERERevzxx9WvXz/t2LFDTqdTn3zyicaPH68//vGPuummm3Ty5El9+eWXOnr0aIhuIdRk5AMIjHxUYQZBt2XLFtO6dWsjyUgyV199tbnvvvvMvn37vNZLTk42kyZNuui+zp07Z86ePWvatm1rpkyZ4lk+bdo0U7duXZ/1x4wZY1q2bGlOnTrlWVZQUGDq1atnZs+ebYwx5umnnzYNGza8gmsIXD7yAQRGPqouXiIMgfbt22vbtm1avny5/uu//ktxcXF6/vnn1aFDB23evPkXt9++fbuGDBmipk2bKjIyUrVq1dKOHTu0c+fOX9z2n//8p2655RZFRUWptLRUpaWlatCggTIzMz2HcDt16qQjR44oOztbK1eu1MmTJ6/4OgOXinwAgZGPKizcDa+m+sc//mEiIyPNkCFDPMv8PQMpLi42LVq0MJmZmeaNN94wn376qVm/fr3JyMgwgwcP9qwX6BlIVFSU55nPhad+/fp51nv99ddN586djcPhMHXq1DGjR482P/zwQxCuOfDLyAcQGPmoGngPVpgMGDBAGRkZ2r59+0XXW7t2rQ4ePKhly5YpIyPDs7yoqEgtWrT4xXEaNmyowYMH65577vG5LCYmxvP3qFGjNGrUKBUWFuq9997T/fffr1q1aunll1+uwLUC7CAfQGDko2qgYIXA4cOH1bRpU69lp06dktvtVrt27TzLateurdOnT/usV35ZuS+++EL79+/32bakpMRn7F//+tfaunWrMjMzFRkZ+YtzjY+P1/jx47VixYpfDC9gA/kAAiMfVVfk9OnTp4d7EtVdy5YtlZubq5KSEh05ckRr167Vvffeqx07duhPf/qT0tLSJEmrVq3SunXrdO211+rHH3+U0+lUYmKi5s6dq82bNyshIUGffPKJcnJyFBMTo2bNmun222+XJBUWFuqtt95SgwYNFBkZqePHjys+Pl4ZGRl64okn9OGHHyo6OlqFhYVat26d5syZo+LiYqWnp2vatGlavHixTp48qcLCQi1btkx/+ctfdMcdd6hv377hvOlQA5APIDDyUYWF+zXKmmD27Nlm4MCBpnnz5qZ27domMTHRDBw40Hz00Ude623dutX06NHDxMTEGElm/vz5xhhjPvjgA9OuXTsTHR1tOnToYFasWGF69erl9Rr62bNnzT333GOaNm1qHA6H6dWrl+eynTt3muHDh5tGjRoZp9NpUlJSzJgxY8zWrVuNMca8//77pl+/fqZx48bG6XSaVq1amWnTppmzZ88G/bYByAcQGPmouhzGGBPmjgcAAFCt8DUNAAAAllGwAAAALPt/3KS/fuBM4KkAAAAASUVORK5CYII=\" />"
      ]
     },
     "execution_count": 30,
     "metadata": {},
     "output_type": "execute_result"
    }
   ],
   "source": [
    "inits = [4, 5, 6]\n",
    "t = 100\n",
    "\n",
    "ps = []\n",
    "for init in inits\n",
    "    p = draw_histogram(\n",
    "        time_series_dist(mc1, t, init=init),\n",
    "        title=\"Initial state = $init\",\n",
    "        xlabel=\"States\")\n",
    "    push!(ps, p)\n",
    "end\n",
    "\n",
    "plot(ps..., layout=(1, 3))"
   ]
  },
  {
   "cell_type": "markdown",
   "metadata": {
    "deletable": true,
    "editable": true
   },
   "source": [
    "#### Cross sectional averages"
   ]
  },
  {
   "cell_type": "markdown",
   "metadata": {
    "deletable": true,
    "editable": true
   },
   "source": [
    "Next, let us repeat the simulation for many times (say, 10,000 times)\n",
    "and obtain the distribution of visits to each state at a given time period `T`.\n",
    "That is, we want to simulate the marginal distribution at time `T`."
   ]
  },
  {
   "cell_type": "code",
   "execution_count": 31,
   "metadata": {
    "collapsed": false,
    "deletable": true,
    "editable": true
   },
   "outputs": [],
   "source": [
    "function QuantEcon.simulate(mc, ts_length, num_reps::Int=10^4; init=1)\n",
    "    X = Array{Int}(ts_length, num_reps)\n",
    "    for i in 1:num_reps\n",
    "        X[:, i] = simulate(mc, ts_length, init=init)\n",
    "    end\n",
    "    return X\n",
    "end"
   ]
  },
  {
   "cell_type": "code",
   "execution_count": 32,
   "metadata": {
    "collapsed": false,
    "deletable": true,
    "editable": true
   },
   "outputs": [
    {
     "data": {
      "text/plain": [
       "cross_sectional_dist (generic function with 2 methods)"
      ]
     },
     "execution_count": 32,
     "metadata": {},
     "output_type": "execute_result"
    }
   ],
   "source": [
    "function cross_sectional_dist(mc, T, num_reps=10^4; init=init)\n",
    "    \"\"\"\n",
    "    Return the distribution of visits at time T by num_reps times of simulation\n",
    "    of mc with an initial state init.\n",
    "    \"\"\"\n",
    "    if typeof(T) == Int  # T is an int\n",
    "        T_max = T\n",
    "        Ts_size = 1\n",
    "        Ts_array = [T]\n",
    "        dim = 1\n",
    "    else\n",
    "        T_max = maximum(T)\n",
    "        Ts_size = length(T)  # T is an array\n",
    "        Ts_array = T\n",
    "        dim = 2\n",
    "    end\n",
    "\n",
    "    x = simulate(mc, T_max+1, num_reps, init=init)[Ts_array, :]\n",
    "    dists = [zeros(n_states(mc)) for i in 1:Ts_size]\n",
    "    bins = 1:n_states(mc)+1\n",
    "    for i in 1:Ts_size\n",
    "        h = fit(Histogram, x[i, :], bins, closed=:left)\n",
    "        dists[i] = h.weights / num_reps\n",
    "    end\n",
    "    \n",
    "    if dim == 1\n",
    "        return dists[1]\n",
    "    else\n",
    "        return dists\n",
    "    end\n",
    "end"
   ]
  },
  {
   "cell_type": "markdown",
   "metadata": {
    "deletable": true,
    "editable": true
   },
   "source": [
    "Start with state `2`:"
   ]
  },
  {
   "cell_type": "code",
   "execution_count": 33,
   "metadata": {
    "collapsed": false,
    "deletable": true,
    "editable": true
   },
   "outputs": [
    {
     "data": {
      "text/plain": [
       "6-element Array{Float64,1}:\n",
       " 0.0   \n",
       " 0.3257\n",
       " 0.0   \n",
       " 0.0   \n",
       " 0.6743\n",
       " 0.0   "
      ]
     },
     "execution_count": 33,
     "metadata": {},
     "output_type": "execute_result"
    }
   ],
   "source": [
    "init = 2\n",
    "T = 10\n",
    "cross_sectional_dist(mc1, T, init=init)"
   ]
  },
  {
   "cell_type": "code",
   "execution_count": 34,
   "metadata": {
    "collapsed": false,
    "deletable": true,
    "editable": true
   },
   "outputs": [
    {
     "data": {
      "text/plain": [
       "6-element Array{Float64,1}:\n",
       " 0.0   \n",
       " 0.3417\n",
       " 0.0   \n",
       " 0.0   \n",
       " 0.6583\n",
       " 0.0   "
      ]
     },
     "execution_count": 34,
     "metadata": {},
     "output_type": "execute_result"
    }
   ],
   "source": [
    "T = 100\n",
    "cross_sectional_dist(mc1, T, init=init)"
   ]
  },
  {
   "cell_type": "markdown",
   "metadata": {
    "deletable": true,
    "editable": true
   },
   "source": [
    "The distribution is close to the stationary distribution (0, 1/3, 0, 0, 2/3, 0)."
   ]
  },
  {
   "cell_type": "markdown",
   "metadata": {
    "deletable": true,
    "editable": true
   },
   "source": [
    "Plot the simulated marginal distribution at `T` for some values of `T`."
   ]
  },
  {
   "cell_type": "code",
   "execution_count": 35,
   "metadata": {
    "collapsed": false,
    "deletable": true,
    "editable": true
   },
   "outputs": [
    {
     "data": {
      "text/plain": [
       "plot_cross_sectional_dists (generic function with 2 methods)"
      ]
     },
     "execution_count": 35,
     "metadata": {},
     "output_type": "execute_result"
    }
   ],
   "source": [
    "function plot_cross_sectional_dists(mc, Ts, num_reps=10^4; init=1)\n",
    "    dists = cross_sectional_dist(mc, Ts, num_reps, init=init)\n",
    "    titles = map(T -> \"T=$T\", Ts)\n",
    "\n",
    "    ps = []\n",
    "    for (title, dist) in zip(titles, dists)\n",
    "        p = draw_histogram(dist, title=title, xlabel=\"States\")\n",
    "        push!(ps, p)\n",
    "    end\n",
    "\n",
    "    plot(ps..., layout=(1, length(Ts)))\n",
    "end"
   ]
  },
  {
   "cell_type": "code",
   "execution_count": 36,
   "metadata": {
    "collapsed": false,
    "deletable": true,
    "editable": true
   },
   "outputs": [
    {
     "data": {
      "text/html": [
       "<img src=\"data:image/png;base64,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\" />"
      ]
     },
     "execution_count": 36,
     "metadata": {},
     "output_type": "execute_result"
    }
   ],
   "source": [
    "init = 2\n",
    "Ts = [2, 3, 5, 10]\n",
    "plot_cross_sectional_dists(mc1, Ts, init=init)"
   ]
  },
  {
   "cell_type": "markdown",
   "metadata": {
    "deletable": true,
    "editable": true
   },
   "source": [
    "Starting with a transient state `3`:"
   ]
  },
  {
   "cell_type": "code",
   "execution_count": 37,
   "metadata": {
    "collapsed": false,
    "deletable": true,
    "editable": true
   },
   "outputs": [
    {
     "data": {
      "text/plain": [
       "6-element Array{Float64,1}:\n",
       " 0.4942\n",
       " 0.1692\n",
       " 0.0   \n",
       " 0.0024\n",
       " 0.3324\n",
       " 0.0018"
      ]
     },
     "execution_count": 37,
     "metadata": {},
     "output_type": "execute_result"
    }
   ],
   "source": [
    "init = 3\n",
    "T = 10\n",
    "cross_sectional_dist(mc1, T, init=init)"
   ]
  },
  {
   "cell_type": "code",
   "execution_count": 38,
   "metadata": {
    "collapsed": false,
    "deletable": true,
    "editable": true
   },
   "outputs": [
    {
     "data": {
      "text/plain": [
       "6-element Array{Float64,1}:\n",
       " 0.4959\n",
       " 0.1673\n",
       " 0.0   \n",
       " 0.0   \n",
       " 0.3368\n",
       " 0.0   "
      ]
     },
     "execution_count": 38,
     "metadata": {},
     "output_type": "execute_result"
    }
   ],
   "source": [
    "T = 100\n",
    "dist = cross_sectional_dist(mc1, T, init=init)"
   ]
  },
  {
   "cell_type": "code",
   "execution_count": 39,
   "metadata": {
    "collapsed": false,
    "deletable": true,
    "editable": true
   },
   "outputs": [
    {
     "data": {
      "text/html": [
       "<img src=\"data:image/png;base64,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\" />"
      ]
     },
     "execution_count": 39,
     "metadata": {},
     "output_type": "execute_result"
    }
   ],
   "source": [
    "draw_histogram(dist,\n",
    "               title=\"Cross sectional distribution at T=$T with init=$init\",\n",
    "               xlabel=\"States\")"
   ]
  },
  {
   "cell_type": "markdown",
   "metadata": {
    "deletable": true,
    "editable": true
   },
   "source": [
    "Observe that the distribution is close to a convex combination of\n",
    "the stationary distributions `(1, 0, 0, 0, 0, 0)` and `(0, 1/3, 0, 0, 2/3, 0)`,\n",
    "which is a stationary distribution itself."
   ]
  },
  {
   "cell_type": "markdown",
   "metadata": {
    "deletable": true,
    "editable": true
   },
   "source": [
    "How the simulated marginal distribution evolves:"
   ]
  },
  {
   "cell_type": "code",
   "execution_count": 40,
   "metadata": {
    "collapsed": false,
    "deletable": true,
    "editable": true
   },
   "outputs": [
    {
     "data": {
      "text/html": [
       "<img src=\"data:image/png;base64,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\" />"
      ]
     },
     "execution_count": 40,
     "metadata": {},
     "output_type": "execute_result"
    }
   ],
   "source": [
    "init = 3\n",
    "Ts = [2, 3, 5, 10]\n",
    "plot_cross_sectional_dists(mc1, Ts, init=init)"
   ]
  },
  {
   "cell_type": "markdown",
   "metadata": {
    "deletable": true,
    "editable": true
   },
   "source": [
    "Since our Markov chain is aperiodic (i.e., every recurrent class is aperiodic),\n",
    "the marginal disribution at time $T$ converges as $T \\to \\infty$\n",
    "to some stationary distribution,\n",
    "and the limit distribution depends on the initial state,\n",
    "according to the probabilities that the state is absorbed into the recurrent classes."
   ]
  },
  {
   "cell_type": "markdown",
   "metadata": {
    "deletable": true,
    "editable": true
   },
   "source": [
    "For initial states `4`, `5`, and `6`:"
   ]
  },
  {
   "cell_type": "code",
   "execution_count": 41,
   "metadata": {
    "collapsed": false,
    "deletable": true,
    "editable": true
   },
   "outputs": [
    {
     "data": {
      "text/html": [
       "<img src=\"data:image/png;base64,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\" />"
      ]
     },
     "execution_count": 41,
     "metadata": {},
     "output_type": "execute_result"
    }
   ],
   "source": [
    "inits = [4, 5, 6]\n",
    "T = 10\n",
    "\n",
    "ps = []\n",
    "for init in inits\n",
    "    p = draw_histogram(cross_sectional_dist(mc1, T, init=init),\n",
    "                   title=\"Initial state = $init\",\n",
    "                   xlabel=\"States\")\n",
    "    push!(ps, p)\n",
    "end\n",
    "\n",
    "plot(ps..., layout=(1, length(inits)))"
   ]
  },
  {
   "cell_type": "markdown",
   "metadata": {
    "deletable": true,
    "editable": true
   },
   "source": [
    "### Powers of $P$"
   ]
  },
  {
   "cell_type": "markdown",
   "metadata": {
    "deletable": true,
    "editable": true
   },
   "source": [
    "The marginal distributions at time $T$ are obtained by $P^T$."
   ]
  },
  {
   "cell_type": "code",
   "execution_count": 42,
   "metadata": {
    "collapsed": false,
    "deletable": true,
    "editable": true
   },
   "outputs": [
    {
     "name": "stdout",
     "output_type": "stream",
     "text": [
      "P^10 =\n",
      "[1.0 0.0 0.0 0.0 0.0 0.0; 0.0 0.333984 0.0 0.0 0.666016 0.0; 0.498072 0.166792 1.69351e-5 0.000767702 0.3332 0.00115155; 0.999023 0.0 0.0 0.000976563 0.0 0.0; 0.0 0.333008 0.0 0.0 0.666992 0.0; 0.999023 0.0 0.0 0.0 0.0 0.000976563]\n"
     ]
    }
   ],
   "source": [
    "Ts = [10, 20, 30]\n",
    "for T in Ts\n",
    "    P_T = mc1.p^T\n",
    "    println(\"P^$T =\\n$P_T\")\n",
    "end"
   ]
  },
  {
   "cell_type": "markdown",
   "metadata": {
    "deletable": true,
    "editable": true
   },
   "source": [
    "In the canonical form:"
   ]
  },
  {
   "cell_type": "code",
   "execution_count": 43,
   "metadata": {
    "collapsed": false,
    "deletable": true,
    "editable": true
   },
   "outputs": [
    {
     "name": "stdout",
     "output_type": "stream",
     "text": [
      "Q =\n",
      "[1.0 0.0 0.0 0.0 0.0 0.0; 0.0 0.0 1.0 0.0 0.0 0.0; 0.0 0.5 0.5 0.0 0.0 0.0; 0.0 0.0 0.333333 0.333333 0.333333 0.0; 0.5 0.0 0.0 0.0 0.0 0.5; 0.5 0.0 0.0 0.0 0.5 0.0]\n",
      "Q^10 =\n",
      "[1.0 0.0 0.0 0.0 0.0 0.0; 0.0 0.333984 0.666016 0.0 0.0 0.0; 0.0 0.333008 0.666992 0.0 0.0 0.0; 0.498072 0.166792 0.3332 1.69351e-5 0.000767702 0.00115155; 0.999023 0.0 0.0 0.0 0.000976563 0.0; 0.999023 0.0 0.0 0.0 0.0 0.000976563]\n",
      "Q^20 =\n",
      "[1.0 0.0 0.0 0.0 0.0 0.0; 0.0 0.333334 0.666666 0.0 0.0 0.0; 0.0 0.333333 0.666667 0.0 0.0 0.0; 0.499998 0.166667 0.333333 2.86797e-10 7.6271e-7 1.14407e-6; 0.999999 0.0 0.0 0.0 9.53674e-7 0.0; 0.999999 0.0 0.0 0.0 0.0 9.53674e-7]\n",
      "Q^30 =\n",
      "[1.0 0.0 0.0 0.0 0.0 0.0; 0.0 0.333333 0.666667 0.0 0.0 0.0; 0.0 0.333333 0.666667 0.0 0.0 0.0; 0.5 0.166667 0.333333 4.85694e-15 7.45054e-10 1.11758e-9; 1.0 0.0 0.0 0.0 9.31323e-10 0.0; 1.0 0.0 0.0 0.0 0.0 9.31323e-10]\n"
     ]
    }
   ],
   "source": [
    "Q = mc1.p[permutation, :][:, permutation]\n",
    "println(\"Q =\\n$Q\")\n",
    "for T in Ts\n",
    "    Q_T = Q^T\n",
    "    println(\"Q^$T =\\n$Q_T\")\n",
    "end"
   ]
  },
  {
   "cell_type": "markdown",
   "metadata": {
    "deletable": true,
    "editable": true
   },
   "source": [
    "Observe that the first three rows, which correspond to the recurrent states,\n",
    "are close to the stationary distributions associated with the corresponding recurrent classes."
   ]
  },
  {
   "cell_type": "markdown",
   "metadata": {
    "deletable": true,
    "editable": true
   },
   "source": [
    "## Example 2: Periodic chain"
   ]
  },
  {
   "cell_type": "markdown",
   "metadata": {
    "deletable": true,
    "editable": true
   },
   "source": [
    "Consider the Markov chain given by the following stochastic matrix,\n",
    "taken from Exercise 9 (see also Exercise 11) in Jarvis and Shier\n",
    "(where the actual values of non-zero probabilities are not important):"
   ]
  },
  {
   "cell_type": "code",
   "execution_count": 44,
   "metadata": {
    "collapsed": false,
    "deletable": true,
    "editable": true
   },
   "outputs": [
    {
     "data": {
      "text/plain": [
       "10×10 Array{Float64,2}:\n",
       " 0.0  0.0       0.0       1.0  0.0  0.0  0.0  0.0       0.0  0.0\n",
       " 0.5  0.0       0.0       0.0  0.5  0.0  0.0  0.0       0.0  0.0\n",
       " 0.0  0.0       0.0       0.0  0.0  0.0  1.0  0.0       0.0  0.0\n",
       " 0.0  0.333333  0.333333  0.0  0.0  0.0  0.0  0.333333  0.0  0.0\n",
       " 0.0  0.0       0.0       1.0  0.0  0.0  0.0  0.0       0.0  0.0\n",
       " 0.0  0.0       0.0       0.0  1.0  0.0  0.0  0.0       0.0  0.0\n",
       " 0.0  0.0       0.0       1.0  0.0  0.0  0.0  0.0       0.0  0.0\n",
       " 0.0  0.0       0.0       0.0  0.0  0.0  0.5  0.0       0.5  0.0\n",
       " 0.0  0.0       0.0       0.0  0.0  0.0  0.0  0.0       0.0  1.0\n",
       " 0.0  0.0       0.0       0.0  0.0  1.0  0.0  0.0       0.0  0.0"
      ]
     },
     "execution_count": 44,
     "metadata": {},
     "output_type": "execute_result"
    }
   ],
   "source": [
    "P = zeros(10, 10)\n",
    "P[1, 4] = 1\n",
    "P[2, [1, 5]] = 1/2\n",
    "P[3, 7] = 1\n",
    "P[4, [2, 3, 8]] = 1/3\n",
    "P[5, 4] = 1\n",
    "P[6, 5] = 1\n",
    "P[7, 4] = 1\n",
    "P[8, [7, 9]] = 1/2\n",
    "P[9, 10] = 1\n",
    "P[10, 6] = 1\n",
    "P"
   ]
  },
  {
   "cell_type": "code",
   "execution_count": 45,
   "metadata": {
    "collapsed": false,
    "deletable": true,
    "editable": true
   },
   "outputs": [
    {
     "data": {
      "text/plain": [
       "Discrete Markov Chain\n",
       "stochastic matrix of type Array{Float64,2}:\n",
       "[0.0 0.0 … 0.0 0.0; 0.5 0.0 … 0.0 0.0; … ; 0.0 0.0 … 0.0 1.0; 0.0 0.0 … 0.0 0.0]"
      ]
     },
     "execution_count": 45,
     "metadata": {},
     "output_type": "execute_result"
    }
   ],
   "source": [
    "mc2 = MarkovChain(P)"
   ]
  },
  {
   "cell_type": "markdown",
   "metadata": {
    "deletable": true,
    "editable": true
   },
   "source": [
    "This Markov chain is irreducible:"
   ]
  },
  {
   "cell_type": "code",
   "execution_count": 46,
   "metadata": {
    "collapsed": false,
    "deletable": true,
    "editable": true
   },
   "outputs": [
    {
     "data": {
      "text/html": [
       "true"
      ],
      "text/plain": [
       "true"
      ]
     },
     "execution_count": 46,
     "metadata": {},
     "output_type": "execute_result"
    }
   ],
   "source": [
    "is_irreducible(mc2)"
   ]
  },
  {
   "cell_type": "markdown",
   "metadata": {
    "deletable": true,
    "editable": true
   },
   "source": [
    "This Markov chain is periodic:"
   ]
  },
  {
   "cell_type": "code",
   "execution_count": 47,
   "metadata": {
    "collapsed": false,
    "deletable": true,
    "editable": true
   },
   "outputs": [
    {
     "data": {
      "text/html": [
       "false"
      ],
      "text/plain": [
       "false"
      ]
     },
     "execution_count": 47,
     "metadata": {},
     "output_type": "execute_result"
    }
   ],
   "source": [
    "is_aperiodic(mc2)"
   ]
  },
  {
   "cell_type": "markdown",
   "metadata": {
    "deletable": true,
    "editable": true
   },
   "source": [
    "Its period, which we denote by $d$:"
   ]
  },
  {
   "cell_type": "code",
   "execution_count": 48,
   "metadata": {
    "collapsed": false,
    "deletable": true,
    "editable": true
   },
   "outputs": [
    {
     "data": {
      "text/html": [
       "3"
      ],
      "text/plain": [
       "3"
      ]
     },
     "execution_count": 48,
     "metadata": {},
     "output_type": "execute_result"
    }
   ],
   "source": [
    "d = period(mc2)"
   ]
  },
  {
   "cell_type": "markdown",
   "metadata": {
    "deletable": true,
    "editable": true
   },
   "source": [
    "Cyclic classes are:"
   ]
  },
  {
   "cell_type": "code",
   "execution_count": 49,
   "metadata": {
    "collapsed": false,
    "deletable": true,
    "editable": true
   },
   "outputs": [
    {
     "data": {
      "text/plain": [
       "3-element Array{Array{Int64,1},1}:\n",
       " [1, 5, 7, 9]\n",
       " [4, 10]     \n",
       " [2, 3, 6, 8]"
      ]
     },
     "execution_count": 49,
     "metadata": {},
     "output_type": "execute_result"
    }
   ],
   "source": [
    "cyclic_classes = [[1, 5, 7, 9], [4, 10], [2, 3, 6, 8]]"
   ]
  },
  {
   "cell_type": "markdown",
   "metadata": {
    "deletable": true,
    "editable": true
   },
   "source": [
    "### Cyclic normal form"
   ]
  },
  {
   "cell_type": "markdown",
   "metadata": {
    "deletable": true,
    "editable": true
   },
   "source": [
    "If a Markov chain is periodic with period $d \\geq 2$,\n",
    "then its transition probability matrix is written in the form (\"cyclic normal form\")\n",
    "$$\n",
    "\\begin{pmatrix}\n",
    "0       & P_1    & 0      & 0      & \\cdots & 0 \\\\\n",
    "0       & 0      & P_2    & 0      & \\cdots & 0 \\\\\n",
    "0       & 0      & 0      & P_3    & \\cdots & 0 \\\\\n",
    "\\vdots  & \\vdots & \\vdots & \\vdots & \\ddots & \\vdots \\\\\n",
    "0       & 0      & 0      & 0      & \\cdots & P_{d-1} \\\\\n",
    "P_d & 0      & 0      & 0      & \\cdots & 0\n",
    "\\end{pmatrix}.\n",
    "$$"
   ]
  },
  {
   "cell_type": "markdown",
   "metadata": {
    "deletable": true,
    "editable": true
   },
   "source": [
    "Represent our Markov chain in cyclic normal form:"
   ]
  },
  {
   "cell_type": "code",
   "execution_count": 50,
   "metadata": {
    "collapsed": false,
    "deletable": true,
    "editable": true
   },
   "outputs": [
    {
     "data": {
      "text/plain": [
       "10×10 Array{Float64,2}:\n",
       " 0.0  0.0  0.0  0.0  1.0  0.0  0.0       0.0       0.0  0.0     \n",
       " 0.0  0.0  0.0  0.0  1.0  0.0  0.0       0.0       0.0  0.0     \n",
       " 0.0  0.0  0.0  0.0  1.0  0.0  0.0       0.0       0.0  0.0     \n",
       " 0.0  0.0  0.0  0.0  0.0  1.0  0.0       0.0       0.0  0.0     \n",
       " 0.0  0.0  0.0  0.0  0.0  0.0  0.333333  0.333333  0.0  0.333333\n",
       " 0.0  0.0  0.0  0.0  0.0  0.0  0.0       0.0       1.0  0.0     \n",
       " 0.5  0.5  0.0  0.0  0.0  0.0  0.0       0.0       0.0  0.0     \n",
       " 0.0  0.0  1.0  0.0  0.0  0.0  0.0       0.0       0.0  0.0     \n",
       " 0.0  1.0  0.0  0.0  0.0  0.0  0.0       0.0       0.0  0.0     \n",
       " 0.0  0.0  0.5  0.5  0.0  0.0  0.0       0.0       0.0  0.0     "
      ]
     },
     "execution_count": 50,
     "metadata": {},
     "output_type": "execute_result"
    }
   ],
   "source": [
    "permutation = vcat(cyclic_classes...)\n",
    "Q = mc2.p[permutation, :][:, permutation]"
   ]
  },
  {
   "cell_type": "markdown",
   "metadata": {
    "deletable": true,
    "editable": true
   },
   "source": [
    "Re-define the Markov chain with the above matrix `Q`:"
   ]
  },
  {
   "cell_type": "code",
   "execution_count": 51,
   "metadata": {
    "collapsed": false,
    "deletable": true,
    "editable": true
   },
   "outputs": [
    {
     "data": {
      "text/plain": [
       "Discrete Markov Chain\n",
       "stochastic matrix of type Array{Float64,2}:\n",
       "[0.0 0.0 … 0.0 0.0; 0.0 0.0 … 0.0 0.0; … ; 0.0 1.0 … 0.0 0.0; 0.0 0.0 … 0.0 0.0]"
      ]
     },
     "execution_count": 51,
     "metadata": {},
     "output_type": "execute_result"
    }
   ],
   "source": [
    "mc2 = MarkovChain(Q)"
   ]
  },
  {
   "cell_type": "markdown",
   "metadata": {
    "deletable": true,
    "editable": true
   },
   "source": [
    "Obtain the block components $P_1, \\cdots, P_{d}$:"
   ]
  },
  {
   "cell_type": "code",
   "execution_count": 52,
   "metadata": {
    "collapsed": false,
    "deletable": true,
    "editable": true
   },
   "outputs": [
    {
     "data": {
      "text/plain": [
       "3-element Array{Array{Int64,1},1}:\n",
       " [1, 2, 3, 4] \n",
       " [5, 6]       \n",
       " [7, 8, 9, 10]"
      ]
     },
     "execution_count": 52,
     "metadata": {},
     "output_type": "execute_result"
    }
   ],
   "source": [
    "cyclic_classes = [[1, 2, 3, 4], [5, 6], [7, 8, 9, 10]]"
   ]
  },
  {
   "cell_type": "code",
   "execution_count": 53,
   "metadata": {
    "collapsed": false,
    "deletable": true,
    "editable": true
   },
   "outputs": [
    {
     "name": "stdout",
     "output_type": "stream",
     "text": [
      "P_1 =\n",
      "[1"
     ]
    }
   ],
   "source": [
    "P_blocks = []\n",
    "\n",
    "for i in 1:d\n",
    "    push!(P_blocks, mc2.p[cyclic_classes[(i-1)%d+1], :][:, cyclic_classes[i%d+1]])\n",
    "    println(\"P_$i =\")\n",
    "    println(P_blocks[i])\n",
    "end"
   ]
  },
  {
   "cell_type": "markdown",
   "metadata": {
    "deletable": true,
    "editable": true
   },
   "source": [
    "$P^d$ is block diagonal:"
   ]
  },
  {
   "cell_type": "code",
   "execution_count": 54,
   "metadata": {
    "collapsed": false,
    "deletable": true,
    "editable": true
   },
   "outputs": [
    {
     "data": {
      "text/plain": [
       "10×10 Array{Float64,2}:\n",
       " 0.166667  0.166667  0.5  0.166667  …  0.0       0.0       0.0  0.0     \n",
       " 0.166667  0.166667  0.5  0.166667     0.0       0.0       0.0  0.0     \n",
       " 0.166667  0.166667  0.5  0.166667     0.0       0.0       0.0  0.0     \n",
       " 0.0       1.0       0.0  0.0          0.0       0.0       0.0  0.0     \n",
       " 0.0       0.0       0.0  0.0          0.0       0.0       0.0  0.0     \n",
       " 0.0       0.0       0.0  0.0       …  0.0       0.0       0.0  0.0     \n",
       " 0.0       0.0       0.0  0.0          0.333333  0.333333  0.0  0.333333\n",
       " 0.0       0.0       0.0  0.0          0.333333  0.333333  0.0  0.333333\n",
       " 0.0       0.0       0.0  0.0          0.333333  0.333333  0.0  0.333333\n",
       " 0.0       0.0       0.0  0.0          0.166667  0.166667  0.5  0.166667"
      ]
     },
     "execution_count": 54,
     "metadata": {},
     "output_type": "execute_result"
    }
   ],
   "source": [
    "P_power_d = mc2.p^d"
   ]
  },
  {
   "cell_type": "code",
   "execution_count": 55,
   "metadata": {
    "collapsed": false,
    "deletable": true,
    "editable": true
   },
   "outputs": [
    {
     "name": "stdout",
     "output_type": "stream",
     "text": [
      "1st diagonal block of P^d =\n",
      "[0.166667 0.166667 0.5 0.166667; 0.166667 0.166667 0.5 0.166667; 0.166667 0.166667 0.5 0.166667; 0.0 1.0 0.0 0.0]\n",
      "2nd diagonal block of P^d =\n",
      "[0.833333 0.166667; 1.0 0.0]\n",
      "3rd diagonal block of P^d =\n",
      "[0.333333 0.333333 0.0 0.333333; 0.333333 0.333333 0.0 0.333333; 0.333333 0.333333 0.0 0.333333; 0.166667 0.166667 0.5 0.166667]\n"
     ]
    }
   ],
   "source": [
    "P_power_d_blocks = []\n",
    "ordinals = [\"1st\", \"2nd\", \"3rd\"]\n",
    "\n",
    "for (i, ordinal) in enumerate(ordinals)\n",
    "    push!(P_power_d_blocks, P_power_d[cyclic_classes[i], :][:, cyclic_classes[i]])\n",
    "    println(\"$ordinal diagonal block of P^d =\")\n",
    "    println(P_power_d_blocks[i])\n",
    "end"
   ]
  },
  {
   "cell_type": "markdown",
   "metadata": {
    "deletable": true,
    "editable": true
   },
   "source": [
    "The $i$th diagonal block of $P^d$ equals $P_i P_{i+1} \\cdots P_d P_1 \\cdots P_{i-1}$:"
   ]
  },
  {
   "cell_type": "code",
   "execution_count": 56,
   "metadata": {
    "collapsed": false,
    "deletable": true,
    "editable": true
   },
   "outputs": [
    {
     "name": "stdout",
     "output_type": "stream",
     "text": [
      "P_1P_2P_3\n",
      "=[0.166667 0.166667 0.5 0.166667; 0.166667 0.166667 0.5 0.166667; 0.166667 0.166667 0.5 0.166667; 0.0 1.0 0.0 0.0]\n",
      "P_2P_3P_1\n",
      "=[0.833333 0.166667; 1.0 0.0]\n",
      "P_3P_1P_2\n",
      "=[0.333333 0.333333 0.0 0.333333; 0.333333 0.333333 0.0 0.333333; 0.333333 0.333333 0.0 0.333333; 0.166667 0.166667 0.5 0.166667]\n"
     ]
    }
   ],
   "source": [
    "products = []\n",
    "\n",
    "for i in 1:d\n",
    "    R = P_blocks[i]\n",
    "    string = \"P_$i\"\n",
    "    for j in 1:d-1\n",
    "        R = R * P_blocks[(i+j-1)%d+1]\n",
    "        string *= \"P_$((i+j-1)%d+1)\"\n",
    "    end\n",
    "    push!(products, R)\n",
    "    println(string)\n",
    "    println(\"=$R\")\n",
    "end"
   ]
  },
  {
   "cell_type": "code",
   "execution_count": 57,
   "metadata": {
    "collapsed": false,
    "deletable": true,
    "editable": true
   },
   "outputs": [
    {
     "name": "stdout",
     "output_type": "stream",
     "text": [
      "true\n",
      "true\n",
      "true\n"
     ]
    }
   ],
   "source": [
    "for (matrix0, matrix1) in zip(P_power_d_blocks, products)\n",
    "    println(matrix0 == matrix1)\n",
    "end"
   ]
  },
  {
   "cell_type": "markdown",
   "metadata": {
    "deletable": true,
    "editable": true
   },
   "source": [
    "### Stationary distributions"
   ]
  },
  {
   "cell_type": "markdown",
   "metadata": {
    "deletable": true,
    "editable": true
   },
   "source": [
    "The Markov chain `mc2` has a unique stationary distribution,\n",
    "which we denote by $\\pi$:"
   ]
  },
  {
   "cell_type": "code",
   "execution_count": 58,
   "metadata": {
    "collapsed": false,
    "deletable": true,
    "editable": true
   },
   "outputs": [
    {
     "data": {
      "text/html": [
       "1"
      ],
      "text/plain": [
       "1"
      ]
     },
     "execution_count": 58,
     "metadata": {},
     "output_type": "execute_result"
    }
   ],
   "source": [
    "length(stationary_distributions(mc2))"
   ]
  },
  {
   "cell_type": "code",
   "execution_count": 59,
   "metadata": {
    "collapsed": false,
    "deletable": true,
    "editable": true
   },
   "outputs": [
    {
     "data": {
      "text/plain": [
       "10-element Array{Float64,1}:\n",
       " 0.047619 \n",
       " 0.0952381\n",
       " 0.142857 \n",
       " 0.047619 \n",
       " 0.285714 \n",
       " 0.047619 \n",
       " 0.0952381\n",
       " 0.0952381\n",
       " 0.047619 \n",
       " 0.0952381"
      ]
     },
     "execution_count": 59,
     "metadata": {},
     "output_type": "execute_result"
    }
   ],
   "source": [
    "pi = stationary_distributions(mc2)[1]"
   ]
  },
  {
   "cell_type": "code",
   "execution_count": 60,
   "metadata": {
    "collapsed": false,
    "deletable": true,
    "editable": true
   },
   "outputs": [
    {
     "data": {
      "text/html": [
       "<img src=\"data:image/png;base64,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\" />"
      ]
     },
     "execution_count": 60,
     "metadata": {},
     "output_type": "execute_result"
    }
   ],
   "source": [
    "draw_histogram(pi,\n",
    "               title=\"Stationary distribution\", xlabel=\"States\", ylim=(0, 0.35))"
   ]
  },
  {
   "cell_type": "markdown",
   "metadata": {
    "deletable": true,
    "editable": true
   },
   "source": [
    "Obtain the stationary distributions $\\pi^0, \\ldots, \\pi^{d-1}$\n",
    "each associated with the diagonal blocks of $P^d$:"
   ]
  },
  {
   "cell_type": "code",
   "execution_count": 61,
   "metadata": {
    "collapsed": false,
    "deletable": true,
    "editable": true
   },
   "outputs": [
    {
     "name": "stdout",
     "output_type": "stream",
     "text": [
      "pi^0 =\n"
     ]
    }
   ],
   "source": [
    "pi_s = []\n",
    "\n",
    "for i in 1:d\n",
    "    push!(pi_s, stationary_distributions(MarkovChain(P_power_d_blocks[i]))[1])\n",
    "    println(\"pi^$(i-1) =\")\n",
    "    println(pi_s[i])\n",
    "end"
   ]
  },
  {
   "cell_type": "code",
   "execution_count": 62,
   "metadata": {
    "collapsed": false,
    "deletable": true,
    "editable": true
   },
   "outputs": [
    {
     "data": {
      "text/html": [
       "<img src=\"data:image/png;base64,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\" />"
      ]
     },
     "execution_count": 62,
     "metadata": {},
     "output_type": "execute_result"
    }
   ],
   "source": [
    "ps = []\n",
    "\n",
    "for i in 1:d\n",
    "    pi_i_full_dim = zeros(n_states(mc2))\n",
    "    pi_i_full_dim[cyclic_classes[i]] = pi_s[i]\n",
    "    p = draw_histogram(pi_i_full_dim,\n",
    "                   title=\"π^$(i-1)\", xlabel=\"States\")\n",
    "    push!(ps, p)\n",
    "end\n",
    "\n",
    "plot(ps..., layout=(1, 3))"
   ]
  },
  {
   "cell_type": "markdown",
   "metadata": {
    "deletable": true,
    "editable": true
   },
   "source": [
    "Verify that $\\pi^{i+1} = \\pi^i P_i$:"
   ]
  },
  {
   "cell_type": "code",
   "execution_count": 63,
   "metadata": {
    "collapsed": false,
    "deletable": true,
    "editable": true
   },
   "outputs": [
    {
     "name": "stdout",
     "output_type": "stream",
     "text": [
      "pi^0 P_0 =\n",
      "[0.857143 0.142857]\n",
      "pi^1 P_1 =\n",
      "[0.285714 0.285714 0.142857 0.285714]\n",
      "pi^2 P_2 =\n",
      "[0.142857 0.285714 0.428571 0.142857]\n"
     ]
    }
   ],
   "source": [
    "for i in 1:d\n",
    "    println(\"pi^$(i-1) P_$(i-1) =\")\n",
    "    println(pi_s[i]' * P_blocks[i])\n",
    "end"
   ]
  },
  {
   "cell_type": "markdown",
   "metadata": {
    "deletable": true,
    "editable": true
   },
   "source": [
    "Verify that $\\pi = (\\pi^0 + \\cdots + \\pi^{d-1})/d$:"
   ]
  },
  {
   "cell_type": "code",
   "execution_count": 64,
   "metadata": {
    "collapsed": false,
    "deletable": true,
    "editable": true
   },
   "outputs": [
    {
     "data": {
      "text/plain": [
       "10-element Array{Float64,1}:\n",
       " 0.047619 \n",
       " 0.0952381\n",
       " 0.142857 \n",
       " 0.047619 \n",
       " 0.285714 \n",
       " 0.047619 \n",
       " 0.0952381\n",
       " 0.0952381\n",
       " 0.047619 \n",
       " 0.0952381"
      ]
     },
     "execution_count": 64,
     "metadata": {},
     "output_type": "execute_result"
    }
   ],
   "source": [
    "# Right hand side of the above identity\n",
    "rhs = zeros(n_states(mc2))\n",
    "\n",
    "for i in 1:d\n",
    "    rhs[cyclic_classes[i]] = pi_s[i]\n",
    "end\n",
    "rhs /= d\n",
    "rhs"
   ]
  },
  {
   "cell_type": "code",
   "execution_count": 65,
   "metadata": {
    "collapsed": false,
    "deletable": true,
    "editable": true
   },
   "outputs": [
    {
     "data": {
      "text/html": [
       "2.7755575615628914e-17"
      ],
      "text/plain": [
       "2.7755575615628914e-17"
      ]
     },
     "execution_count": 65,
     "metadata": {},
     "output_type": "execute_result"
    }
   ],
   "source": [
    "maximum(abs.(pi - rhs))"
   ]
  },
  {
   "cell_type": "markdown",
   "metadata": {
    "deletable": true,
    "editable": true
   },
   "source": [
    "meaning right hand side is very close to $\\pi$"
   ]
  },
  {
   "cell_type": "markdown",
   "metadata": {
    "deletable": true,
    "editable": true
   },
   "source": [
    "### Powers of $P$"
   ]
  },
  {
   "cell_type": "markdown",
   "metadata": {
    "deletable": true,
    "editable": true
   },
   "source": [
    "Since the Markov chain in consideration is periodic,\n",
    "the marginal distribution does not converge, but changes periodically."
   ]
  },
  {
   "cell_type": "markdown",
   "metadata": {
    "deletable": true,
    "editable": true
   },
   "source": [
    "Let us compute the powers of the transition probability matrix (in cyclic normal form):"
   ]
  },
  {
   "cell_type": "markdown",
   "metadata": {
    "deletable": true,
    "editable": true
   },
   "source": [
    "Print $P^1, P^2, \\ldots, P^d$:"
   ]
  },
  {
   "cell_type": "code",
   "execution_count": 66,
   "metadata": {
    "collapsed": false,
    "deletable": true,
    "editable": true
   },
   "outputs": [
    {
     "name": "stdout",
     "output_type": "stream",
     "text": [
      "P^1 =\n",
      "[0.0 0.0 0.0 0.0 1.0 0.0 0.0 0.0 0.0 0.0; 0.0 0.0 0.0 0.0 1.0 0.0 0.0 0.0 0.0 0.0; 0.0 0.0 0.0 0.0 1.0 0.0 0.0 0.0 0.0 0.0; 0.0 0.0 0.0 0.0 0.0 1.0 0.0 0.0 0.0 0.0; 0.0 0.0 0.0 0.0 0.0 0.0 0.333333 0.333333 0.0 0.333333; 0.0 0.0 0.0 0.0 0.0 0.0 0.0 0.0 1.0 0.0; 0.5 0.5 0.0 0.0 0.0 0.0 0.0 0.0 0.0 0.0; 0.0 0.0 1.0 0.0 0.0 0.0 0.0 0.0 0.0 0.0; 0.0 1.0 0.0 0.0 0.0 0.0 0.0 0.0 0.0 0.0; 0.0 0.0 0.5 0.5 0.0 0.0 0.0 0.0 0.0 0.0]\n",
      "P^2 =\n",
      "[0.0 0.0 0.0 0.0 0.0 0.0 0.333333 0.333333 0.0 0.333333; 0.0 0.0 0.0 0.0 0.0 0.0 0.333333 0.333333 0.0 0.333333; 0.0 0.0 0.0 0.0 0.0 0.0 0.333333 0.333333 0.0 0.333333; 0.0 0.0 0.0 0.0 0.0 0.0 0.0 0.0 1.0 0.0; 0.166667 0.166667 0.5 0.166667 0.0 0.0 0.0 0.0 0.0 0.0; 0.0 1.0 0.0 0.0 0.0 0.0 0.0 0.0 0.0 0.0; 0.0 0.0 0.0 0.0 1.0 0.0 0.0 0.0 0.0 0.0; 0.0 0.0 0.0 0.0 1.0 0.0 0.0 0.0 0.0 0.0; 0.0 0.0 0.0 0.0 1.0 0.0 0.0 0.0 0.0 0.0; 0.0 0.0 0.0 0.0 0.5 0.5 0.0 0.0 0.0 0.0]\n",
      "P^3 =\n",
      "[0.166667 0.166667 0.5 0.166667 0.0 0.0 0.0 0.0 0.0 0.0; 0.166667 0.166667 0.5 0.166667 0.0 0.0 0.0 0.0 0.0 0.0; 0.166667 0.166667 0.5 0.166667 0.0 0.0 0.0 0.0 0.0 0.0; 0.0 1.0 0.0 0.0 0.0 0.0 0.0 0.0 0.0 0.0; 0.0 0.0 0.0 0.0 0.833333 0.166667 0.0 0.0 0.0 0.0; 0.0 0.0 0.0 0.0 1.0 0.0 0.0 0.0 0.0 0.0; 0.0 0.0 0.0 0.0 0.0 0.0 0.333333 0.333333 0.0 0.333333; 0.0 0.0 0.0 0.0 0.0 0.0 0.333333 0.333333 0.0 0.333333; 0.0 0.0 0.0 0.0 0.0 0.0 0.333333 0.333333 0.0 0.333333; 0.0 0.0 0.0 0.0 0.0 0.0 0.166667 0.166667 0.5 0.166667]\n",
      "P^4 =\n",
      "[0.0 0.0 0.0 0.0 0.833333 0.166667 0.0 0.0 0.0 0.0; 0.0 0.0 0.0 0.0 0.833333 0.166667 0.0 0.0 0.0 0.0; 0.0 0.0 0.0 0.0 0.833333 0.166667 0.0 0.0 0.0 0.0; 0.0 0.0 0.0 0.0 1.0 0.0 0.0 0.0 0.0 0.0; 0.0 0.0 0.0 0.0 0.0 0.0 0.277778 0.277778 0.166667 0.277778; 0.0 0.0 0.0 0.0 0.0 0.0 0.333333 0.333333 0.0 0.333333; 0.166667 0.166667 0.5 0.166667 0.0 0.0 0.0 0.0 0.0 0.0; 0.166667 0.166667 0.5 0.166667 0.0 0.0 0.0 0.0 0.0 0.0; 0.166667 0.166667 0.5 0.166667 0.0 0.0 0.0 0.0 0.0 0.0; 0.0833333 0.583333 0.25 0.0833333 0.0 0.0 0.0 0.0 0.0 0.0]\n"
     ]
    }
   ],
   "source": [
    "for i in 1:d+1\n",
    "    println(\"P^$i =\")\n",
    "    println(mc2.p^i)\n",
    "end"
   ]
  },
  {
   "cell_type": "markdown",
   "metadata": {
    "deletable": true,
    "editable": true
   },
   "source": [
    "Print $P^{2d}$, $P^{4d}$, and $P^{6d}$:"
   ]
  },
  {
   "cell_type": "code",
   "execution_count": 67,
   "metadata": {
    "collapsed": false,
    "deletable": true,
    "editable": true
   },
   "outputs": [
    {
     "name": "stdout",
     "output_type": "stream",
     "text": [
      "P^6 =\n"
     ]
    }
   ],
   "source": [
    "for i in [k*d for k in [2, 4, 6]]\n",
    "    println(\"P^$i =\")\n",
    "    println(mc2.p^i)\n",
    "end"
   ]
  },
  {
   "cell_type": "markdown",
   "metadata": {
    "deletable": true,
    "editable": true
   },
   "source": [
    "$P^{kd}$ converges as $k \\to \\infty$ to a matrix that contains $\\pi^0, \\ldots, \\pi^{d-1}$."
   ]
  },
  {
   "cell_type": "markdown",
   "metadata": {
    "deletable": true,
    "editable": true
   },
   "source": [
    "Print $P^{kd+1}, \\ldots, P^{kd+d}$ with $k = 10$ for example:"
   ]
  },
  {
   "cell_type": "code",
   "execution_count": 68,
   "metadata": {
    "collapsed": false,
    "deletable": true,
    "editable": true
   },
   "outputs": [
    {
     "name": "stdout",
     "output_type": "stream",
     "text": [
      "P^31 =\n",
      "[0.0 0.0 0.0 0.0 0.857143 0.142857 0.0 0.0 0.0 0.0; 0.0 0.0 0.0 0.0 0.857143 0.142857 0.0 0.0 0.0 0.0; 0.0 0.0 0.0 0.0 0.857143 0.142857 0.0 0.0 0.0 0.0; 0.0 0.0 0.0 0.0 0.857143 0.142857 0.0 0.0 0.0 0.0; 0.0 0.0 0.0 0.0 0.0 0.0 0.285714 0.285714 0.142857 0.285714; 0.0 0.0 0.0 0.0 0.0 0.0 0.285714 0.285714 0.142857 0.285714; 0.142857 0.285714 0.428571 0.142857 0.0 0.0 0.0 0.0 0.0 0.0; 0.142857 0.285714 0.428571 0.142857 0.0 0.0 0.0 0.0 0.0 0.0; 0.142857 0.285714 0.428571 0.142857 0.0 0.0 0.0 0.0 0.0 0.0; 0.142857 0.285714 0.428571 0.142857 0.0 0.0 0.0 0.0 0.0 0.0]\n",
      "P^32 =\n",
      "[0.0 0.0 0.0 0.0 0.0 0.0 0.285714 0.285714 0.142857 0.285714; 0.0 0.0 0.0 0.0 0.0 0.0 0.285714 0.285714 0.142857 0.285714; 0.0 0.0 0.0 0.0 0.0 0.0 0.285714 0.285714 0.142857 0.285714; 0.0 0.0 0.0 0.0 0.0 0.0 0.285714 0.285714 0.142857 0.285714; 0.142857 0.285714 0.428571 0.142857 0.0 0.0 0.0 0.0 0.0 0.0; 0.142857 0.285714 0.428571 0.142857 0.0 0.0 0.0 0.0 0.0 0.0; 0.0 0.0 0.0 0.0 0.857143 0.142857 0.0 0.0 0.0 0.0; 0.0 0.0 0.0 0.0 0.857143 0.142857 0.0 0.0 0.0 0.0; 0.0 0.0 0.0 0.0 0.857143 0.142857 0.0 0.0 0.0 0.0; 0.0 0.0 0.0 0.0 0.857143 0.142857 0.0 0.0 0.0 0.0]\n",
      "P^33 =\n",
      "[0.142857 0.285714 0.428571 0.142857 0.0 0.0 0.0 0.0 0.0 0.0; 0.142857 0.285714 0.428571 0.142857 0.0 0.0 0.0 0.0 0.0 0.0; 0.142857 0.285714 0.428571 0.142857 0.0 0.0 0.0 0.0 0.0 0.0; 0.142857 0.285714 0.428571 0.142857 0.0 0.0 0.0 0.0 0.0 0.0; 0.0 0.0 0.0 0.0 0.857143 0.142857 0.0 0.0 0.0 0.0; 0.0 0.0 0.0 0.0 0.857143 0.142857 0.0 0.0 0.0 0.0; 0.0 0.0 0.0 0.0 0.0 0.0 0.285714 0.285714 0.142857 0.285714; 0.0 0.0 0.0 0.0 0.0 0.0 0.285714 0.285714 0.142857 0.285714; 0.0 0.0 0.0 0.0 0.0 0.0 0.285714 0.285714 0.142857 0.285714; 0.0 0.0 0.0 0.0 0.0 0.0 0.285714 0.285714 0.142857 0.285714]\n"
     ]
    }
   ],
   "source": [
    "for i in 10*d+1:11*d\n",
    "    println(\"P^$i =\")\n",
    "    println(mc2.p^i)\n",
    "end"
   ]
  },
  {
   "cell_type": "markdown",
   "metadata": {
    "deletable": true,
    "editable": true
   },
   "source": [
    "But $P^i$ itself does not converge."
   ]
  },
  {
   "cell_type": "markdown",
   "metadata": {
    "deletable": true,
    "editable": true
   },
   "source": [
    "## Simulation"
   ]
  },
  {
   "cell_type": "markdown",
   "metadata": {
    "deletable": true,
    "editable": true
   },
   "source": [
    "Plot the frequency distribution of visits to the states\n",
    "along a sample path starting at state `1`:"
   ]
  },
  {
   "cell_type": "code",
   "execution_count": 69,
   "metadata": {
    "collapsed": false,
    "deletable": true,
    "editable": true
   },
   "outputs": [
    {
     "data": {
      "text/plain": [
       "10-element Array{Float64,1}:\n",
       " 0.0486\n",
       " 0.0953\n",
       " 0.1431\n",
       " 0.0464\n",
       " 0.2869\n",
       " 0.0464\n",
       " 0.0974\n",
       " 0.0985\n",
       " 0.0464\n",
       " 0.091 "
      ]
     },
     "execution_count": 69,
     "metadata": {},
     "output_type": "execute_result"
    }
   ],
   "source": [
    "init = 1\n",
    "dist = time_series_dist(mc2, 10^4, init=init)"
   ]
  },
  {
   "cell_type": "code",
   "execution_count": 70,
   "metadata": {
    "collapsed": false,
    "deletable": true,
    "editable": true
   },
   "outputs": [
    {
     "data": {
      "text/html": [
       "<img src=\"data:image/png;base64,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\" />"
      ]
     },
     "execution_count": 70,
     "metadata": {},
     "output_type": "execute_result"
    }
   ],
   "source": [
    "draw_histogram(dist,\n",
    "               title=\"Time series distribution with init=$init\",\n",
    "               xlabel=\"States\", ylim=(0, 0.35))"
   ]
  },
  {
   "cell_type": "markdown",
   "metadata": {
    "deletable": true,
    "editable": true
   },
   "source": [
    "Observe that the distribution is close to the (unique) stationary distribution $\\pi$."
   ]
  },
  {
   "cell_type": "code",
   "execution_count": 71,
   "metadata": {
    "collapsed": false
   },
   "outputs": [
    {
     "data": {
      "text/plain": [
       "10-element Array{Float64,1}:\n",
       " 0.047619 \n",
       " 0.0952381\n",
       " 0.142857 \n",
       " 0.047619 \n",
       " 0.285714 \n",
       " 0.047619 \n",
       " 0.0952381\n",
       " 0.0952381\n",
       " 0.047619 \n",
       " 0.0952381"
      ]
     },
     "execution_count": 71,
     "metadata": {},
     "output_type": "execute_result"
    }
   ],
   "source": [
    "pi"
   ]
  },
  {
   "cell_type": "code",
   "execution_count": 72,
   "metadata": {
    "collapsed": false,
    "deletable": true,
    "editable": true
   },
   "outputs": [
    {
     "data": {
      "text/html": [
       "<img src=\"data:image/png;base64,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\" />"
      ]
     },
     "execution_count": 72,
     "metadata": {},
     "output_type": "execute_result"
    }
   ],
   "source": [
    "bar(pi, legend=false, xlabel=\"States\")"
   ]
  },
  {
   "cell_type": "markdown",
   "metadata": {
    "deletable": true,
    "editable": true
   },
   "source": [
    "Next, plot the simulated marginal distributions\n",
    "at $T = 10d+1, \\ldots, 11d, 11d+1, \\ldots, 12d$ with initial state `1`:"
   ]
  },
  {
   "cell_type": "code",
   "execution_count": 73,
   "metadata": {
    "collapsed": false,
    "deletable": true,
    "editable": true
   },
   "outputs": [
    {
     "data": {
      "text/html": [
       "<img src=\"data:image/png;base64,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\" />"
      ]
     },
     "execution_count": 73,
     "metadata": {},
     "output_type": "execute_result"
    }
   ],
   "source": [
    "init = 1\n",
    "k = 10\n",
    "Ts = [k*d + i for i in 1:2*d]\n",
    "num_reps = 10^2\n",
    "dists = cross_sectional_dist(mc2, Ts, num_reps, init=init)\n",
    "\n",
    "ps = []\n",
    "for (dist, T) in zip(dists, Ts)\n",
    "    p = draw_histogram(dist,\n",
    "                   title=\"T = $T\")\n",
    "    push!(ps, p)\n",
    "end\n",
    "plot(ps..., layout=(2, d))"
   ]
  },
  {
   "cell_type": "markdown",
   "metadata": {
    "deletable": true,
    "editable": true
   },
   "source": [
    "Compare these with the rows of $P^{10d+1}, \\ldots, P^{10d+d}$."
   ]
  },
  {
   "cell_type": "markdown",
   "metadata": {
    "deletable": true,
    "editable": true
   },
   "source": [
    "## Example 3: Nearly completely decomposable chain"
   ]
  },
  {
   "cell_type": "markdown",
   "metadata": {
    "deletable": true,
    "editable": true
   },
   "source": [
    "Consider the Markov chain given by the following stochastic matrix $P^{\\varepsilon}$,\n",
    "parameterized by $\\varepsilon$:"
   ]
  },
  {
   "cell_type": "code",
   "execution_count": 74,
   "metadata": {
    "collapsed": false,
    "deletable": true,
    "editable": true
   },
   "outputs": [
    {
     "data": {
      "text/plain": [
       "P_epsilon (generic function with 2 methods)"
      ]
     },
     "execution_count": 74,
     "metadata": {},
     "output_type": "execute_result"
    }
   ],
   "source": [
    "function P_epsilon(eps, p=0.5)\n",
    "    P = [1-(p+eps) p         eps;\n",
    "        p         1-(p+eps) eps;\n",
    "        eps       eps       1-2*eps]\n",
    "    return P\n",
    "end"
   ]
  },
  {
   "cell_type": "markdown",
   "metadata": {
    "deletable": true,
    "editable": true
   },
   "source": [
    "If $\\varepsilon = 0$,\n",
    "then the Markovh chain is reducible into two recurrent classes, `[1, 2]` and `[3]`:"
   ]
  },
  {
   "cell_type": "code",
   "execution_count": 75,
   "metadata": {
    "collapsed": false,
    "deletable": true,
    "editable": true
   },
   "outputs": [
    {
     "data": {
      "text/plain": [
       "3×3 Array{Float64,2}:\n",
       " 0.5  0.5  0.0\n",
       " 0.5  0.5  0.0\n",
       " 0.0  0.0  1.0"
      ]
     },
     "execution_count": 75,
     "metadata": {},
     "output_type": "execute_result"
    }
   ],
   "source": [
    "P_epsilon(0)"
   ]
  },
  {
   "cell_type": "code",
   "execution_count": 76,
   "metadata": {
    "collapsed": false,
    "deletable": true,
    "editable": true
   },
   "outputs": [
    {
     "data": {
      "text/plain": [
       "2-element Array{Array{Int64,1},1}:\n",
       " [1, 2]\n",
       " [3]   "
      ]
     },
     "execution_count": 76,
     "metadata": {},
     "output_type": "execute_result"
    }
   ],
   "source": [
    "recurrent_classes(MarkovChain(P_epsilon(0)))"
   ]
  },
  {
   "cell_type": "markdown",
   "metadata": {
    "deletable": true,
    "editable": true
   },
   "source": [
    "If $\\varepsilon > 0$ but small, the chain is irreducible,\n",
    "but transition within each of the subsets `[1, 2]` and `[3]` is much more likely\n",
    "than that between these sets."
   ]
  },
  {
   "cell_type": "code",
   "execution_count": 77,
   "metadata": {
    "collapsed": false,
    "deletable": true,
    "editable": true
   },
   "outputs": [
    {
     "data": {
      "text/plain": [
       "3×3 Array{Float64,2}:\n",
       " 0.499  0.5    0.001\n",
       " 0.5    0.499  0.001\n",
       " 0.001  0.001  0.998"
      ]
     },
     "execution_count": 77,
     "metadata": {},
     "output_type": "execute_result"
    }
   ],
   "source": [
    "P_epsilon(0.001)"
   ]
  },
  {
   "cell_type": "code",
   "execution_count": 78,
   "metadata": {
    "collapsed": false,
    "deletable": true,
    "editable": true
   },
   "outputs": [
    {
     "data": {
      "text/plain": [
       "1-element Array{Array{Int64,1},1}:\n",
       " [1, 2, 3]"
      ]
     },
     "execution_count": 78,
     "metadata": {},
     "output_type": "execute_result"
    }
   ],
   "source": [
    "recurrent_classes(MarkovChain(P_epsilon(0.001)))"
   ]
  },
  {
   "cell_type": "markdown",
   "metadata": {
    "deletable": true,
    "editable": true
   },
   "source": [
    "Analytically, the unique stationary distribution of the chain with $\\varepsilon > 0$\n",
    "is `(1/3, 1/3, 1/3)`, independent of the value of $\\varepsilon$."
   ]
  },
  {
   "cell_type": "markdown",
   "metadata": {
    "deletable": true,
    "editable": true
   },
   "source": [
    "`MarkovChain` in `quantecon` employs\n",
    "the algorithm called the \"[GTH algorithm](http://quanteconpy.readthedocs.org/en/stable/markov/gth_solve.html)\",\n",
    "which is a numerically stable variant of Gaussian elimination,\n",
    "specialized for Markov chains."
   ]
  },
  {
   "cell_type": "code",
   "execution_count": 79,
   "metadata": {
    "collapsed": false,
    "deletable": true,
    "editable": true
   },
   "outputs": [
    {
     "name": "stdout",
     "output_type": "stream",
     "text": [
      "epsilon = 1.0e-12\n",
      "[0.333333, 0.333333, 0.333333]\n",
      "epsilon = 1.0e-13\n",
      "[0.333333, 0.333333, 0.333333]\n",
      "epsilon = 1.0e-14\n",
      "[0.333333, 0.333333, 0.333333]\n",
      "epsilon = 1.0e-15\n",
      "[0.333333, 0.333333, 0.333333]\n",
      "epsilon = 1.0e-16\n",
      "[0.333333, 0.333333, 0.333333]\n",
      "epsilon = 1.0e-17\n",
      "[0.333333, 0.333333, 0.333333]\n",
      "epsilon = 1.0e-100\n",
      "[0.333333, 0.333333, 0.333333]\n"
     ]
    }
   ],
   "source": [
    "epsilons = [10.0^(-i) for i in 12:17]\n",
    "push!(epsilons, 1e-100)\n",
    "for eps in epsilons\n",
    "    println(\"epsilon = $eps\")\n",
    "    println(stationary_distributions(MarkovChain(P_epsilon(eps)))[1])\n",
    "end"
   ]
  },
  {
   "cell_type": "markdown",
   "metadata": {
    "deletable": true,
    "editable": true
   },
   "source": [
    "It succeeds in obtaining the correct stationary distribution for any value of $\\varepsilon$."
   ]
  }
 ],
 "metadata": {
  "kernelspec": {
   "display_name": "Julia 0.6.0",
   "language": "julia",
   "name": "julia-0.6"
  },
  "language_info": {
   "file_extension": ".jl",
   "mimetype": "application/julia",
   "name": "julia",
   "version": "0.6.0"
  }
 },
 "nbformat": 4,
 "nbformat_minor": 0
}
