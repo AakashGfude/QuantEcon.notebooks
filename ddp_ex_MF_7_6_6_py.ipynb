{
 "cells": [
  {
   "cell_type": "markdown",
   "metadata": {},
   "source": [
    "# Example: Bioeconomic Model"
   ]
  },
  {
   "cell_type": "markdown",
   "metadata": {},
   "source": [
    "Miranda and Fackler, Applied Computational Economics and Finance, 2002, Section 7.6.6"
   ]
  },
  {
   "cell_type": "code",
   "execution_count": 1,
   "metadata": {
    "collapsed": true
   },
   "outputs": [],
   "source": [
    "%matplotlib inline"
   ]
  },
  {
   "cell_type": "code",
   "execution_count": 2,
   "metadata": {
    "collapsed": true
   },
   "outputs": [],
   "source": [
    "import numpy as np\n",
    "import scipy.sparse as sp\n",
    "import matplotlib.pyplot as plt\n",
    "import quantecon as qe\n",
    "from quantecon.markov import DiscreteDP, backward_induction"
   ]
  },
  {
   "cell_type": "code",
   "execution_count": 3,
   "metadata": {
    "collapsed": true
   },
   "outputs": [],
   "source": [
    "s_bar = 8  # Energy carrying capacity\n",
    "n = s_bar + 1  # Number of states, 0, ..., s_bar\n",
    "m = 3  # Number of areas (actions), 0, ..., m-1\n",
    "e = [2, 4, 5]  # Energy offerings\n",
    "p = [1.0, 0.7, 0.8]  # Survival probabilities\n",
    "q = [0.5, 0.8, 0.7]  # Success probabilities\n",
    "\n",
    "T = 10  # Time horizon\n",
    "\n",
    "# Terminal values\n",
    "v_T = np.empty(n)\n",
    "v_T[0], v_T[1:] = 0, 1"
   ]
  },
  {
   "cell_type": "markdown",
   "metadata": {},
   "source": [
    "We follow the state-action pairs formulation approach."
   ]
  },
  {
   "cell_type": "code",
   "execution_count": 4,
   "metadata": {
    "collapsed": false
   },
   "outputs": [],
   "source": [
    "L = n * m  # Number of feasible state-action pairs\n",
    "s_indices, a_indices = qe.markov.random._sa_indices(n, m)"
   ]
  },
  {
   "cell_type": "code",
   "execution_count": 5,
   "metadata": {
    "collapsed": false
   },
   "outputs": [],
   "source": [
    "# Reward vector\n",
    "R = np.zeros(L)"
   ]
  },
  {
   "cell_type": "code",
   "execution_count": 6,
   "metadata": {
    "collapsed": false,
    "scrolled": false
   },
   "outputs": [],
   "source": [
    "# Transition probability array\n",
    "Q = sp.lil_matrix((L, n))\n",
    "it = np.nditer((s_indices, a_indices), flags=['c_index'])\n",
    "for s, k in it:\n",
    "    i = it.index\n",
    "    if s == 0:\n",
    "        Q[i, 0] = 1\n",
    "    else:\n",
    "        Q[i, np.minimum(s_bar, s-1+e[k])] = p[k] * q[k]\n",
    "        Q[i, s-1] = p[k] * (1 - q[k])\n",
    "        Q[i, 0] = 1 - p[k]"
   ]
  },
  {
   "cell_type": "code",
   "execution_count": 7,
   "metadata": {
    "collapsed": false
   },
   "outputs": [],
   "source": [
    "# Discount factor\n",
    "beta = 1"
   ]
  },
  {
   "cell_type": "code",
   "execution_count": 8,
   "metadata": {
    "collapsed": false
   },
   "outputs": [],
   "source": [
    "ddp = DiscreteDP(R, Q, beta, s_indices, a_indices)"
   ]
  },
  {
   "cell_type": "markdown",
   "metadata": {},
   "source": [
    "Let us use the `backward_induction` routine to solve our finite-horizon problem."
   ]
  },
  {
   "cell_type": "code",
   "execution_count": 9,
   "metadata": {
    "collapsed": false
   },
   "outputs": [],
   "source": [
    "vs, sigmas = backward_induction(ddp, T, v_T)"
   ]
  },
  {
   "cell_type": "code",
   "execution_count": 10,
   "metadata": {
    "collapsed": false
   },
   "outputs": [
    {
     "data": {
      "image/png": "[encoded data removed]",
      "text/plain": [
       "<matplotlib.figure.Figure at 0x10fa776d8>"
      ]
     },
     "metadata": {},
     "output_type": "display_data"
    }
   ],
   "source": [
    "fig, axes = plt.subplots(1, 2, figsize=(12, 4))\n",
    "\n",
    "ts = [0, 5]\n",
    "for i, t in enumerate(ts):\n",
    "    axes[i].bar(np.arange(n), vs[t], align='center', width=1)\n",
    "    axes[i].set_xlim(0-0.5, s_bar+0.5)\n",
    "    axes[i].set_xlabel('Stock of Energy')\n",
    "    axes[i].set_ylabel('Probability')\n",
    "    axes[i].set_title('Survival Probability, Period {t}'.format(t=t))\n",
    "\n",
    "plt.show()"
   ]
  },
  {
   "cell_type": "code",
   "execution_count": null,
   "metadata": {
    "collapsed": true
   },
   "outputs": [],
   "source": []
  }
 ],
 "metadata": {
  "kernelspec": {
   "display_name": "Python 3",
   "language": "python",
   "name": "python3"
  },
  "language_info": {
   "codemirror_mode": {
    "name": "ipython",
    "version": 3
   },
   "file_extension": ".py",
   "mimetype": "text/x-python",
   "name": "python",
   "nbconvert_exporter": "python",
   "pygments_lexer": "ipython3",
   "version": "3.5.1"
  }
 },
 "nbformat": 4,
 "nbformat_minor": 0
}
