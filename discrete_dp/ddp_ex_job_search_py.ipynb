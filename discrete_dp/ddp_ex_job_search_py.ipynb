{
 "cells": [
  {
   "cell_type": "markdown",
   "metadata": {},
   "source": [
    "# DiscreteDP Example: Job Search"
   ]
  },
  {
   "cell_type": "markdown",
   "metadata": {},
   "source": [
    "**Daisuke Oyama**\n",
    "\n",
    "*Faculty of Economics, University of Tokyo*"
   ]
  },
  {
   "cell_type": "markdown",
   "metadata": {},
   "source": [
    "We study an optimal stopping problem, in the context of job search as discussed in\n",
    "[http://quant-econ.net/py/lake_model.html](http://quant-econ.net/py/lake_model.html)."
   ]
  },
  {
   "cell_type": "code",
   "execution_count": 1,
   "metadata": {
    "collapsed": false
   },
   "outputs": [],
   "source": [
    "%matplotlib inline"
   ]
  },
  {
   "cell_type": "code",
   "execution_count": 2,
   "metadata": {
    "collapsed": false
   },
   "outputs": [],
   "source": [
    "from __future__ import division, print_function\n",
    "import numpy as np\n",
    "import scipy.stats\n",
    "import scipy.optimize\n",
    "import scipy.sparse\n",
    "from numba import jit\n",
    "import matplotlib.pyplot as plt\n",
    "from quantecon.markov import DiscreteDP"
   ]
  },
  {
   "cell_type": "markdown",
   "metadata": {},
   "source": [
    "## Optimal solution"
   ]
  },
  {
   "cell_type": "markdown",
   "metadata": {},
   "source": [
    "We skip the description of the model, just writing down the Bellman equation:\n",
    "$$\n",
    "\\begin{aligned}\n",
    "U   &= u(c) + \\beta \\left[(1 - \\gamma) U + \\gamma E[V_s]\\right], \\\\\n",
    "V_s &= \\max\\left\\{U,\n",
    "                  u(w_s) + \\beta \\left[(1 - \\alpha) V_s + \\alpha U\\right]\n",
    "           \\right\\}.\n",
    "\\end{aligned}\n",
    "$$\n",
    "For this class of problem, we can characterize the solution analytically."
   ]
  },
  {
   "cell_type": "markdown",
   "metadata": {},
   "source": [
    "The optimal policy $\\sigma^*$ is monotone;\n",
    "it is characterized by a threshold $s^*$, for which\n",
    "$\\sigma^*(s) = 1$ if and only if $s \\geq s^*$,\n",
    "where actions $0$ and $1$ represent \"reject\" and \"accept\", respectively.\n",
    "The threshold is defined as follows:\n",
    "Let\n",
    "$$\n",
    "\\begin{aligned}\n",
    "g(s) &= u(w_s) - u(c), \\\\\n",
    "h(s) &= \\frac{\\beta \\gamma}{1 - \\beta (1 - \\alpha)}\n",
    "        \\sum_{s' \\geq s} p_s u(w_s).\n",
    "\\end{aligned}\n",
    "$$\n",
    "It is easy to see that $g$ is increasing and $h$ is decreasing.\n",
    "Then the threshold $s^*$ is such that $s \\geq s^*$ if and only if $g(s) > h(s)$."
   ]
  },
  {
   "cell_type": "markdown",
   "metadata": {},
   "source": [
    "Given $s^*$, the optimal values can be computed as follows:\n",
    "$$\n",
    "\\begin{aligned}\n",
    "U &=\n",
    "\\frac{\\{1 - (1 - \\alpha) \\beta\\} u(c) + \\beta \\gamma \\sum_{s \\geq s^*} p_s u(w_s)}\n",
    "     {(1 - \\beta) \\left[\\{1 - (1 - \\alpha) \\beta\\} +\n",
    "                        \\beta \\gamma \\sum_{s \\geq s^*} p_s\\right]}, \\\\\n",
    "V_s &=\n",
    "\\begin{cases}\n",
    "U & \\text{if $s < s^*$} \\\\\n",
    "\\dfrac{u(w_s) + \\alpha \\beta U}{1 - (1 - \\alpha) \\beta} & \\text{if $s \\geq s^*$}.\n",
    "\\end{cases}\n",
    "\\end{aligned}\n",
    "$$"
   ]
  },
  {
   "cell_type": "markdown",
   "metadata": {},
   "source": [
    "The optimal policy defines a Markov chain over $\\{\\text{unemployed}, \\text{employed}\\}$.\n",
    "Its stationary distribution is\n",
    "$\\pi = \\left(\\frac{\\alpha}{\\alpha + \\lambda}, \\frac{\\lambda}{\\alpha + \\lambda}\\right)$,\n",
    "where\n",
    "$\\lambda = \\gamma \\sum_{s \\geq s^*} p(w_s)$;\n",
    "note that the flow from unemployed to employed is $\\lambda$,\n",
    "while the flow from employed to unemployed is $\\alpha$.\n",
    "\n",
    "The expected value at the stationary distribution is\n",
    "$$\n",
    "\\pi_0 U + \\pi_1 \\frac{\\sum_{s \\geq s^*} p_s V_s}{\\sum_{s \\geq s^*} p_s}.\n",
    "$$"
   ]
  },
  {
   "cell_type": "markdown",
   "metadata": {},
   "source": [
    "The following implements the job search problem with the analytical solution above:"
   ]
  },
  {
   "cell_type": "code",
   "execution_count": 3,
   "metadata": {
    "collapsed": false
   },
   "outputs": [],
   "source": [
    "class JobSearchModel(object):\n",
    "    \"\"\"\n",
    "    Job search model.\n",
    "    \n",
    "    Parameters\n",
    "    ----------\n",
    "    w : array_like(float, ndim=1)\n",
    "        Array containing wage levels. Must be ordered in ascending order.\n",
    "    \n",
    "    pdf : array_like(float, ndim=1)\n",
    "        Wage distribution.\n",
    "        \n",
    "    beta : scalar(float)\n",
    "        Discount factor\n",
    "        \n",
    "    alaph :scalar(float)\n",
    "        Firing probability.\n",
    "        \n",
    "    gamma : scalar(float)\n",
    "        Wage offer arrival probability.\n",
    "        \n",
    "    rho: scalar(float)\n",
    "        Degree of (constant) relative risk aversion.\n",
    "        \n",
    "    \"\"\"\n",
    "    def __init__(self, w, pdf, beta, alpha=0, gamma=1, rho=0):\n",
    "        w = np.asarray(w)\n",
    "        self.pdf = np.asarray(pdf)\n",
    "        self.beta, self.alpha, self.gamma, self.rho = beta, alpha, gamma, rho\n",
    "        self.u_w = self.u(w)\n",
    "        \n",
    "    def u(self, y):\n",
    "        \"\"\"\n",
    "        y must be array_like.\n",
    "        \n",
    "        \"\"\"\n",
    "        rho = self.rho\n",
    "        small_number = -9999999\n",
    "        y = np.asarray(y, dtype=float)\n",
    "        nonpositive = (y <= 0)\n",
    "        if rho == 1:\n",
    "            util = np.log(y)\n",
    "        else:\n",
    "            util = (y**(1 - rho) - 1)/(1 - rho)\n",
    "        util[nonpositive] = small_number\n",
    "        return util\n",
    "    \n",
    "    def solve(self, c, *args, **kwargs):\n",
    "        \"\"\"\n",
    "        Solve directly s_star and U and V_s.\n",
    "        \n",
    "        \"\"\"\n",
    "        S = len(self.u_w)\n",
    "        \n",
    "        a0 = 1 - (1 - self.alpha) * self.beta\n",
    "        a1 = self.beta * self.gamma\n",
    "        coeff = a1 / a0\n",
    "        u_c = self.u(np.array([c]))[0]\n",
    "        s_star = _bisect(self.u_w, self.pdf, u_c, coeff)\n",
    "        \n",
    "        C = np.zeros(S, dtype=int)\n",
    "        C[s_star:] = 1\n",
    "        \n",
    "        U = a0 * u_c + a1 * self.u_w[s_star:].dot(self.pdf[s_star:])\n",
    "        U /= a0 + a1 * self.pdf[s_star:].sum()\n",
    "        U /= 1 - self.beta\n",
    "        \n",
    "        V = np.empty(S)\n",
    "        V[:s_star] = U\n",
    "        V[s_star:] = (self.u_w[s_star:] + self.alpha * self.beta * U) / a0\n",
    "        \n",
    "        return V, U, C\n",
    "    \n",
    "    def stationary_distribution(self, C):\n",
    "        lamb = self.pdf.dot(C) * self.gamma \n",
    "        pi = np.array([self.alpha, lamb])\n",
    "        pi /= pi.sum()\n",
    "        return pi\n",
    "        \n",
    "            \n",
    "@jit(nopython=True)\n",
    "def _bisect(u_w, pdf, u_c, coeff):\n",
    "    lo = -1\n",
    "    hi = len(u_w)\n",
    "    while(lo < hi-1):\n",
    "        m = (lo + hi) // 2\n",
    "        lhs = u_w[m] - u_c\n",
    "        rhs = 0\n",
    "        for i in range(m+1, len(u_w)):\n",
    "            rhs += (u_w[i] - u_w[m]) * pdf[i]\n",
    "        rhs *= coeff\n",
    "        if lhs > rhs:\n",
    "            hi = m\n",
    "        else:\n",
    "            lo = m\n",
    "    return hi"
   ]
  },
  {
   "cell_type": "markdown",
   "metadata": {},
   "source": [
    "For comparison, let us also consider the implementation with the `DiscreteDP` class:"
   ]
  },
  {
   "cell_type": "code",
   "execution_count": 4,
   "metadata": {
    "collapsed": false
   },
   "outputs": [],
   "source": [
    "class JobSearchModelDiscreteDP(JobSearchModel):\n",
    "    \"\"\"\n",
    "    Job search model with DiscreteDP.\n",
    "        \n",
    "    \"\"\"\n",
    "    def __init__(self, w, pdf, beta, alpha=0, gamma=1, rho=0):\n",
    "        super(JobSearchModelDiscreteDP, self).__init__(w, pdf, beta, alpha, gamma, rho)\n",
    "        \n",
    "        # Number of states\n",
    "        # s = 0, ..., len(w)-1: wage w[s] offered, s = len(w): no offer\n",
    "        num_states = len(w) + 1\n",
    "        \n",
    "        # Number of actions: 0: reject, 1: accept\n",
    "        num_actions = 2\n",
    "        \n",
    "        L = num_states*num_actions - 1\n",
    "        s_indices, a_indices = np.empty(L), np.empty(L)\n",
    "        s_indices[-1], a_indices[-1] = len(w), 0\n",
    "        s_indices[:-1] = np.repeat(np.arange(len(w)), num_actions)\n",
    "        a_indices[:-1] = np.tile(np.arange(num_actions), len(w))\n",
    "        \n",
    "        R0 = np.zeros(L)\n",
    "        R0[[num_actions*i+1 for i in range(len(w))]] = self.u_w\n",
    "        \n",
    "        Q = scipy.sparse.lil_matrix((L, num_states))\n",
    "        it = np.nditer((s_indices, a_indices))\n",
    "        for (s, a) in it:\n",
    "            i = it.iterindex\n",
    "            if a == 0:\n",
    "                Q[i, -1] = 1 - self.gamma\n",
    "                Q[i, :len(w)] = self.pdf*self.gamma\n",
    "            else:  # if a == 1\n",
    "                Q[i, s], Q[i, -1] = 1 - self.alpha, self.alpha\n",
    "                \n",
    "        self.ddp = DiscreteDP(R0, Q, beta, s_indices, a_indices)\n",
    "        \n",
    "        self.num_iter = None\n",
    "        \n",
    "    def solve(self, c, *args, **kwargs):\n",
    "        n, m = self.ddp.num_states, self.ddp.num_actions\n",
    "        self.ddp.R[[m*i for i in range(n)]] = self.u(np.array([c]))[0]\n",
    "        res = self.ddp.solve(*args, **kwargs)\n",
    "        V = res.v[:-1]  # Values of jobs\n",
    "        U = res.v[-1]  # Value of unemployed\n",
    "        C = res.sigma[:-1]\n",
    "        self.num_iter = res.num_iter\n",
    "        \n",
    "        return V, U, C"
   ]
  },
  {
   "cell_type": "markdown",
   "metadata": {},
   "source": [
    "The following paramter values are from [lakemodel_example.py](https://github.com/QuantEcon/QuantEcon.py/blob/master/examples/lakemodel_example.py)."
   ]
  },
  {
   "cell_type": "code",
   "execution_count": 5,
   "metadata": {
    "collapsed": false
   },
   "outputs": [],
   "source": [
    "w = np.linspace(0, 175, 201)  # wage grid\n",
    "\n",
    "# compute probability of each wage level \n",
    "logw_dist = scipy.stats.norm(np.log(20.),1)\n",
    "cdf = logw_dist.cdf(np.log(w))\n",
    "pdf = cdf[1:]-cdf[:-1]\n",
    "pdf /= pdf.sum()\n",
    "# w = (w[1:] + w[:1])/2\n",
    "w = (w[1:] + w[:-1])/2"
   ]
  },
  {
   "cell_type": "code",
   "execution_count": 6,
   "metadata": {
    "collapsed": false
   },
   "outputs": [],
   "source": [
    "gamma = 1\n",
    "alpha = 0.013 \n",
    "alpha_q = (1-(1-alpha)**3)  # What is this?\n",
    "beta = 0.99\n",
    "rho = 2  # risk-aversion"
   ]
  },
  {
   "cell_type": "code",
   "execution_count": 7,
   "metadata": {
    "collapsed": false
   },
   "outputs": [],
   "source": [
    "js = JobSearchModel(w, pdf, beta, alpha_q, gamma, rho)"
   ]
  },
  {
   "cell_type": "code",
   "execution_count": 8,
   "metadata": {
    "collapsed": false
   },
   "outputs": [],
   "source": [
    "js_ddp = JobSearchModelDiscreteDP(w, pdf, beta, alpha_q, gamma, rho)"
   ]
  },
  {
   "cell_type": "markdown",
   "metadata": {},
   "source": [
    "Let us check that the results coincide:"
   ]
  },
  {
   "cell_type": "code",
   "execution_count": 9,
   "metadata": {
    "collapsed": false,
    "scrolled": true
   },
   "outputs": [
    {
     "name": "stdout",
     "output_type": "stream",
     "text": [
      "True\n"
     ]
    }
   ],
   "source": [
    "cs = np.linspace(1, 75, 25)\n",
    "bools = []\n",
    "for c in cs:\n",
    "    V, U, C = js.solve(c=c)\n",
    "    V1, U1, C1 = js_ddp.solve(c=c)\n",
    "    bools.append(np.allclose(V, V1))\n",
    "    bools.append(np.allclose(U, U1))\n",
    "    bools.append(np.array_equal(C, C1))\n",
    "print(all(bools))"
   ]
  },
  {
   "cell_type": "markdown",
   "metadata": {},
   "source": [
    "Take a look at the optimal solution for $c = 40$ for example:"
   ]
  },
  {
   "cell_type": "code",
   "execution_count": 10,
   "metadata": {
    "collapsed": true
   },
   "outputs": [],
   "source": [
    "c = 40\n",
    "V, U, C = js.solve(c=c)"
   ]
  },
  {
   "cell_type": "code",
   "execution_count": 11,
   "metadata": {
    "collapsed": false
   },
   "outputs": [
    {
     "name": "stdout",
     "output_type": "stream",
     "text": [
      "Optimal policy: Accept if and only if w >= 65.1875\n"
     ]
    }
   ],
   "source": [
    "s_star = len(w) - C.sum()\n",
    "print(r\"Optimal policy: Accept if and only if w >= {0}\".format(w[s_star]))"
   ]
  },
  {
   "cell_type": "code",
   "execution_count": 12,
   "metadata": {
    "collapsed": false,
    "scrolled": true
   },
   "outputs": [
    {
     "data": {
      "image/png": "[encoded data removed]",
      "text/plain": [
       "<matplotlib.figure.Figure at 0x113c4f438>"
      ]
     },
     "metadata": {},
     "output_type": "display_data"
    }
   ],
   "source": [
    "fig, ax = plt.subplots(figsize=(8,5))\n",
    "ax.plot(w, V, label=r'$V$')\n",
    "ax.plot((w[0], w[-1]), (U, U), 'r--', label=r'$U$')\n",
    "ax.set_xlabel('Wage')\n",
    "ax.set_ylabel('Value')\n",
    "ax.set_title('Optimal value function')\n",
    "plt.legend(loc=2)\n",
    "plt.show()"
   ]
  },
  {
   "cell_type": "markdown",
   "metadata": {},
   "source": [
    "Performance comparison:"
   ]
  },
  {
   "cell_type": "code",
   "execution_count": 13,
   "metadata": {
    "collapsed": false
   },
   "outputs": [
    {
     "name": "stdout",
     "output_type": "stream",
     "text": [
      "10000 loops, best of 3: 50 µs per loop\n"
     ]
    }
   ],
   "source": [
    "c = 40\n",
    "%timeit js.solve(c=c)"
   ]
  },
  {
   "cell_type": "code",
   "execution_count": 14,
   "metadata": {
    "collapsed": false
   },
   "outputs": [
    {
     "name": "stdout",
     "output_type": "stream",
     "text": [
      "100 loops, best of 3: 6.77 ms per loop\n"
     ]
    }
   ],
   "source": [
    "%timeit js_ddp.solve(c=c)"
   ]
  },
  {
   "cell_type": "markdown",
   "metadata": {},
   "source": [
    "## Optimal unemployment insurance policy"
   ]
  },
  {
   "cell_type": "markdown",
   "metadata": {},
   "source": [
    "We compute the optimal level of unemployment insurance\n",
    "as in the [lecture](http://quant-econ.net/py/lake_model.html#fiscal-policy),\n",
    "mimicking [lakemodel_example.py](https://github.com/QuantEcon/QuantEcon.py/blob/master/examples/lakemodel_example.py)."
   ]
  },
  {
   "cell_type": "code",
   "execution_count": 15,
   "metadata": {
    "collapsed": false
   },
   "outputs": [],
   "source": [
    "class UnemploymentInsurancePolicy(object):\n",
    "    def __init__(self, w, pdf, beta, alpha=0, gamma=1, rho=0):\n",
    "        self.w, self.pdf, self.beta, self.alpha, self.gamma, self.rho = \\\n",
    "            w, pdf, beta, alpha, gamma, rho\n",
    "    \n",
    "    def solve_job_search_model(self, c, T):\n",
    "        js = JobSearchModel(self.w-T, self.pdf, self.beta,\n",
    "                            self.alpha, self.gamma, self.rho)\n",
    "        V, U, C = js.solve(c=c-T)\n",
    "        pi = js.stationary_distribution(C)\n",
    "        \n",
    "        return V, U, C, pi\n",
    "        \n",
    "    def implement(self, c):\n",
    "        \n",
    "        def budget_balance(T):\n",
    "            _, _, _, pi = self.solve_job_search_model(c, T)\n",
    "            return T - pi[0]*c\n",
    "        \n",
    "        # Budget balancing tax given c\n",
    "        T = scipy.optimize.brentq(budget_balance, 0, c)\n",
    "        \n",
    "        V, U, C, pi = self.solve_job_search_model(c, T)\n",
    "        \n",
    "        EV = (C*V).dot(self.pdf)/(C.dot(self.pdf))\n",
    "        W = pi[0] * U + pi[1] * EV\n",
    "        \n",
    "        return T, W, pi"
   ]
  },
  {
   "cell_type": "code",
   "execution_count": 16,
   "metadata": {
    "collapsed": false
   },
   "outputs": [],
   "source": [
    "uip = UnemploymentInsurancePolicy(w, pdf, beta, alpha_q, gamma, rho)"
   ]
  },
  {
   "cell_type": "code",
   "execution_count": 17,
   "metadata": {
    "collapsed": false
   },
   "outputs": [
    {
     "name": "stdout",
     "output_type": "stream",
     "text": [
      "Optimal unemployment benefit: 67.4\n"
     ]
    }
   ],
   "source": [
    "grid_size = 501  #25\n",
    "cvec = np.linspace(5, 135, grid_size)\n",
    "Ts, Ws = np.empty(grid_size), np.empty(grid_size)\n",
    "pis = np.empty((grid_size, 2))\n",
    "for i, c in enumerate(cvec):\n",
    "    T, W, pi = uip.implement(c=c)\n",
    "    Ts[i], Ws[i], pis[i] = T, W, pi\n",
    "i_max = Ws.argmax()\n",
    "print('Optimal unemployment benefit:', cvec[i_max])"
   ]
  },
  {
   "cell_type": "code",
   "execution_count": 18,
   "metadata": {
    "collapsed": false
   },
   "outputs": [
    {
     "data": {
      "image/png": "[encoded data removed]",
      "text/plain": [
       "<matplotlib.figure.Figure at 0x113f01d30>"
      ]
     },
     "metadata": {},
     "output_type": "display_data"
    }
   ],
   "source": [
    "def plot(ax, y_vec, title):\n",
    "    ax.plot(cvec, y_vec)\n",
    "    ax.set_xlabel(r\"$c$\")\n",
    "    ax.vlines(cvec[i_max], ax.get_ylim()[0], y_vec[i_max], \"k\", \"-.\")\n",
    "    ax.set_title(title)\n",
    "\n",
    "fig, axes = plt.subplots(2, 2, figsize=(10, 6))\n",
    "plot(axes[0, 0], Ws, \"Welfare\")\n",
    "plot(axes[0, 1], Ts, \"Taxes\")\n",
    "plot(axes[1, 0], pis[:, 1], \"Employment Rate\")\n",
    "plot(axes[1, 1], pis[:, 0], \"Unemployment Rate\")\n",
    "\n",
    "plt.tight_layout()\n",
    "plt.show()"
   ]
  },
  {
   "cell_type": "code",
   "execution_count": 19,
   "metadata": {
    "collapsed": false
   },
   "outputs": [
    {
     "data": {
      "image/png": "[encoded data removed]",
      "text/plain": [
       "<matplotlib.figure.Figure at 0x113f03630>"
      ]
     },
     "metadata": {},
     "output_type": "display_data"
    }
   ],
   "source": [
    "fig, ax = plt.subplots()\n",
    "plot(ax, cvec-Ts, \"Net Compensation\")\n",
    "plt.show()"
   ]
  },
  {
   "cell_type": "code",
   "execution_count": null,
   "metadata": {
    "collapsed": true
   },
   "outputs": [],
   "source": []
  }
 ],
 "metadata": {
  "kernelspec": {
   "display_name": "Python 3",
   "language": "python",
   "name": "python3"
  },
  "language_info": {
   "codemirror_mode": {
    "name": "ipython",
    "version": 3
   },
   "file_extension": ".py",
   "mimetype": "text/x-python",
   "name": "python",
   "nbconvert_exporter": "python",
   "pygments_lexer": "ipython3",
   "version": "3.5.0"
  }
 },
 "nbformat": 4,
 "nbformat_minor": 0
}
